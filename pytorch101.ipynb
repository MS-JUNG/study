{
 "cells": [
  {
   "cell_type": "markdown",
   "metadata": {
    "colab_type": "text",
    "id": "QcJK3kXl--c3"
   },
   "source": [
    "# EECS 498-007/598-005 Assignment 1-1: PyTorch 101\n",
    "\n",
    "Before we start, please put your name and UMID in following format\n",
    "\n",
    ": Firstname LASTNAME, #00000000   //   e.g.) Justin JOHNSON, #12345678"
   ]
  },
  {
   "cell_type": "markdown",
   "metadata": {
    "colab_type": "text",
    "id": "7sA2iBcm_cPb"
   },
   "source": [
    "**Your Answer:**   \n",
    "Your NAME, #XXXXXXXX"
   ]
  },
  {
   "cell_type": "markdown",
   "metadata": {
    "colab_type": "text",
    "id": "kQndOAmiVTO3"
   },
   "source": [
    "# Setup Code\n",
    "Before getting started we need to run some boilerplate code to set up our environment. You'll need to rerun this setup code each time you start the notebook.\n",
    "\n",
    "First, run this cell load the [autoreload](https://ipython.readthedocs.io/en/stable/config/extensions/autoreload.html?highlight=autoreload) extension. This allows us to edit `.py` source files, and re-import them into the notebook for a seamless editing and debugging experience."
   ]
  },
  {
   "cell_type": "code",
   "execution_count": null,
   "metadata": {
    "colab": {},
    "colab_type": "code",
    "id": "H5PzjwH7VTO4"
   },
   "outputs": [],
   "source": [
    "%load_ext autoreload\n",
    "%autoreload 2"
   ]
  },
  {
   "cell_type": "markdown",
   "metadata": {
    "colab_type": "text",
    "id": "bCtoiSyVVTO8"
   },
   "source": [
    "### Google Colab Setup\n",
    "Next we need to run a few commands to set up our environment on Google Colab. If you are running this notebook on a local machine you can skip this section.\n",
    "\n",
    "Run the following cell to mount your Google Drive. Follow the link, sign in to your Google account (the same account you used to store this notebook!) and copy the authorization code into the text box that appears below."
   ]
  },
  {
   "cell_type": "code",
   "execution_count": null,
   "metadata": {
    "colab": {
     "base_uri": "https://localhost:8080/",
     "height": 122
    },
    "colab_type": "code",
    "id": "tHG0slB6VTO8",
    "outputId": "6a4af12f-e22e-409f-b9f0-7e03da7e3693"
   },
   "outputs": [],
   "source": [
    "from google.colab import drive\n",
    "drive.mount('/content/drive')"
   ]
  },
  {
   "cell_type": "markdown",
   "metadata": {
    "colab_type": "text",
    "id": "UWjXo-vXVTO_"
   },
   "source": [
    "Now recall the path in your Google Drive where you uploaded this notebook, fill it in below. If everything is working correctly then running the folowing cell should print the filenames from the assignment:\n",
    "\n",
    "```\n",
    "['pytorch101.py', 'knn.py', 'knn.ipynb', 'eecs598', 'pytorch101.ipynb']\n",
    "```"
   ]
  },
  {
   "cell_type": "code",
   "execution_count": null,
   "metadata": {
    "colab": {
     "base_uri": "https://localhost:8080/",
     "height": 54
    },
    "colab_type": "code",
    "id": "KqMvJnNHVTPA",
    "outputId": "50cbb153-f728-4c23-84fc-1c2cf772bba3"
   },
   "outputs": [],
   "source": [
    "import os\n",
    "\n",
    "# TODO: Fill in the Google Drive path where you uploaded the assignment\n",
    "# Example: If you create a 2020FA folder and put all the files under A1 folder, then '2020FA/A1'\n",
    "# GOOGLE_DRIVE_PATH_AFTER_MYDRIVE = '2020FA/A1'\n",
    "GOOGLE_DRIVE_PATH_AFTER_MYDRIVE = None \n",
    "GOOGLE_DRIVE_PATH = os.path.join('drive', 'My Drive', GOOGLE_DRIVE_PATH_AFTER_MYDRIVE)\n",
    "print(os.listdir(GOOGLE_DRIVE_PATH))"
   ]
  },
  {
   "cell_type": "markdown",
   "metadata": {
    "colab_type": "text",
    "id": "ko-wLqHWVTPC"
   },
   "source": [
    "Once you have successfully mounted your Google Drive and located the path to this assignment, run the following cell to allow us to import from the `.py` files of this assignment. If it works correctly, it should print the message:\n",
    "\n",
    "```\n",
    "Hello from pytorch101.py!\n",
    "```\n",
    "\n",
    "as well as the last edit time for the file `pytorch101.py`."
   ]
  },
  {
   "cell_type": "code",
   "execution_count": null,
   "metadata": {
    "colab": {
     "base_uri": "https://localhost:8080/",
     "height": 51
    },
    "colab_type": "code",
    "id": "1AoThF9eVTPD",
    "outputId": "fca2be9c-1751-43fb-d146-4d114ccddb4f"
   },
   "outputs": [],
   "source": [
    "import sys\n",
    "sys.path.append(GOOGLE_DRIVE_PATH)\n",
    "\n",
    "import time, os\n",
    "os.environ[\"TZ\"] = \"US/Eastern\"\n",
    "time.tzset()\n",
    "\n",
    "from pytorch101 import hello\n",
    "hello()\n",
    "\n",
    "pytorch101_path = os.path.join(GOOGLE_DRIVE_PATH, 'pytorch101.py')\n",
    "pytorch101_edit_time = time.ctime(os.path.getmtime(pytorch101_path))\n",
    "print('pytorch101.py last edited on %s' % pytorch101_edit_time)"
   ]
  },
  {
   "cell_type": "markdown",
   "metadata": {
    "colab_type": "text",
    "id": "Qc83ETI1a3o9"
   },
   "source": [
    "# Introduction\n",
    "\n",
    "Python 3 and [PyTorch](https://pytorch.org/) will be used throughout the semseter, so it is important to be familiar with them. This material in this notebook draws from http://cs231n.github.io/python-numpy-tutorial/ and https://github.com/kuleshov/cs228-material/blob/master/tutorials/python/cs228-python-tutorial.ipynb. This material focuses mainly on PyTorch.\n",
    "\n",
    "This notebook will walk you through many of the important features of PyTorch that you will need to use throughout the semester. In some cells and files you will see code blocks that look like this:\n",
    "\n",
    "```python\n",
    "##############################################################################\n",
    "# TODO: Write the equation for a line\n",
    "##############################################################################\n",
    "pass\n",
    "##############################################################################\n",
    "#                             END OF YOUR CODE                               #\n",
    "##############################################################################\n",
    "```\n",
    "\n",
    "You should replace the `pass` statement with your own code and leave the blocks intact, like this:\n",
    "\n",
    "```python\n",
    "##############################################################################\n",
    "# TODO: Instructions for what you need to do\n",
    "##############################################################################\n",
    "y = m * x + b\n",
    "##############################################################################\n",
    "#                             END OF YOUR CODE                               #\n",
    "##############################################################################\n",
    "```\n",
    "\n",
    "When completing the notebook, please adhere to the following rules:\n",
    "- Do not write or modify any code outside of code blocks\n",
    "- Do not add or delete any cells from the notebook. You may add new cells to perform scatch work, but delete them before submitting.\n",
    "- Run all cells before submitting. You will only get credit for code that has been run.\n",
    "\n",
    "This notebook contains many inline sanity checks for the code you write. However, **passing these sanity checks does not mean your code is correct!** During grading we may run your code on additional inputs, and we may look at your code to make sure you've followed the specific guildelines for each implementation. You are encouraged to write additional test cases for the functions you are asked to write instead of solely relying on the sanity checks in the notebook."
   ]
  },
  {
   "cell_type": "markdown",
   "metadata": {
    "colab_type": "text",
    "id": "hQrEwOpXb9Gh"
   },
   "source": [
    "# Python 3\n"
   ]
  },
  {
   "cell_type": "markdown",
   "metadata": {
    "colab_type": "text",
    "id": "xAKwfCs_mK3d"
   },
   "source": [
    "If you're unfamiliar with Python 3, here are some of the most common changes from Python 2 to look out for.\n"
   ]
  },
  {
   "cell_type": "markdown",
   "metadata": {
    "colab_type": "text",
    "id": "zjosrOn8mOMV"
   },
   "source": [
    "### Print is a function"
   ]
  },
  {
   "cell_type": "code",
   "execution_count": null,
   "metadata": {
    "colab": {
     "base_uri": "https://localhost:8080/",
     "height": 34
    },
    "colab_type": "code",
    "id": "O41SjFuamR7d",
    "outputId": "0acaff10-3b17-42bf-f891-e290d6cdc317"
   },
   "outputs": [],
   "source": [
    "print(\"Hello!\")"
   ]
  },
  {
   "cell_type": "markdown",
   "metadata": {
    "colab_type": "text",
    "id": "nEh1swLBmQN-"
   },
   "source": [
    "Without parentheses, printing will not work."
   ]
  },
  {
   "cell_type": "markdown",
   "metadata": {
    "colab_type": "text",
    "id": "OgPaSNS2mVPn"
   },
   "source": [
    "### Floating point division by default"
   ]
  },
  {
   "cell_type": "code",
   "execution_count": null,
   "metadata": {
    "colab": {
     "base_uri": "https://localhost:8080/",
     "height": 34
    },
    "colab_type": "code",
    "id": "SQKlRZ8KmYDl",
    "outputId": "74a0b0a0-ab8c-4644-880b-6ce5893987ff"
   },
   "outputs": [],
   "source": [
    "5 / 2"
   ]
  },
  {
   "cell_type": "markdown",
   "metadata": {
    "colab_type": "text",
    "id": "DOmfK0WWmb2V"
   },
   "source": [
    "To do integer division, we use two backslashes:"
   ]
  },
  {
   "cell_type": "code",
   "execution_count": null,
   "metadata": {
    "colab": {
     "base_uri": "https://localhost:8080/",
     "height": 34
    },
    "colab_type": "code",
    "id": "UUg1MjiPmgNX",
    "outputId": "1c3d20a9-1f86-4aa8-cda9-4f6de790b583"
   },
   "outputs": [],
   "source": [
    "5 // 2"
   ]
  },
  {
   "cell_type": "markdown",
   "metadata": {
    "colab_type": "text",
    "id": "zeH5501nmh7W"
   },
   "source": [
    "### No xrange"
   ]
  },
  {
   "cell_type": "markdown",
   "metadata": {
    "colab_type": "text",
    "id": "3wNKyyilmkMy"
   },
   "source": [
    "The xrange from Python 2 is now merged into \"range\" for Python 3 and there is no xrange in Python 3. In Python 3, range(3) does not create a list of 3 elements as it would in Python 2, rather just creates a more memory efficient iterator.\n",
    "\n",
    "Hence,  \n",
    "xrange in Python 3: Does not exist  \n",
    "range in Python 3: Has very similar behavior to Python 2's xrange"
   ]
  },
  {
   "cell_type": "code",
   "execution_count": null,
   "metadata": {
    "colab": {
     "base_uri": "https://localhost:8080/",
     "height": 68
    },
    "colab_type": "code",
    "id": "dP8Dk9PAmnQh",
    "outputId": "df2b4f3d-2ff3-4cb3-ff6e-1364d7aae8d6"
   },
   "outputs": [],
   "source": [
    "for i in range(3):\n",
    "    print(i)"
   ]
  },
  {
   "cell_type": "code",
   "execution_count": null,
   "metadata": {
    "colab": {
     "base_uri": "https://localhost:8080/",
     "height": 34
    },
    "colab_type": "code",
    "id": "6SKbKDgLmqd-",
    "outputId": "dd00126e-d3dd-41fb-c3f8-4d761a9451ff"
   },
   "outputs": [],
   "source": [
    "range(3)"
   ]
  },
  {
   "cell_type": "code",
   "execution_count": null,
   "metadata": {
    "colab": {
     "base_uri": "https://localhost:8080/",
     "height": 34
    },
    "colab_type": "code",
    "id": "Wm_VcW3VmsSD",
    "outputId": "60a5e0ef-ff4a-457a-c16d-ce395f03913b"
   },
   "outputs": [],
   "source": [
    "# If need be, can use the following to get a similar behavior to Python 2's range:\n",
    "print(list(range(3)))"
   ]
  },
  {
   "cell_type": "markdown",
   "metadata": {
    "colab_type": "text",
    "id": "1MEmHrgBsgX4"
   },
   "source": [
    "# PyTorch"
   ]
  },
  {
   "cell_type": "markdown",
   "metadata": {
    "colab_type": "text",
    "id": "c3e_Nux0siHo"
   },
   "source": [
    "[PyTorch](https://pytorch.org/) is an open source machine learning framework. At its core, PyTorch provides a few key features:\n",
    "\n",
    "- A multidimensional **Tensor** object, similar to [numpy](https://numpy.org/) but with GPU accelleration.\n",
    "- An optimized **autograd** engine for automatically computing derivatives\n",
    "- A clean, modular API for building and deploying **deep learning models**\n",
    "\n",
    "We will use PyTorch for all programming assignments throughout the semester. This notebook will focus on the **Tensor API**, as it is the main part of PyTorch that we will use for the first few assignments.\n",
    "\n",
    "You can find more information about PyTorch by following one of the [oficial tutorials](https://pytorch.org/tutorials/) or by [reading the documentation](https://pytorch.org/docs/stable/)."
   ]
  },
  {
   "cell_type": "markdown",
   "metadata": {
    "colab_type": "text",
    "id": "zdiO3_y-vKQ9"
   },
   "source": [
    "To use PyTorch, we first need to import the `torch` package.\n",
    "\n",
    "We also check the version; the assignments in this course will use PyTorch verion 1.6.0, since this is the default version in Google Colab."
   ]
  },
  {
   "cell_type": "code",
   "execution_count": null,
   "metadata": {
    "colab": {
     "base_uri": "https://localhost:8080/",
     "height": 34
    },
    "colab_type": "code",
    "id": "sydFm14itrqq",
    "outputId": "9cd6cf03-6f60-4773-e4bc-d6c2ea0eb035"
   },
   "outputs": [],
   "source": [
    "import torch\n",
    "print(torch.__version__)"
   ]
  },
  {
   "cell_type": "markdown",
   "metadata": {
    "colab_type": "text",
    "id": "HrBSx6hYu8ca"
   },
   "source": [
    "## Tensor Basics"
   ]
  },
  {
   "cell_type": "markdown",
   "metadata": {
    "colab_type": "text",
    "id": "LWagwmXuvIle"
   },
   "source": [
    "### Creating and Accessing tensors"
   ]
  },
  {
   "cell_type": "markdown",
   "metadata": {
    "colab_type": "text",
    "id": "Bf_SY4RzvAh_"
   },
   "source": [
    "A `torch` **tensor** is a multidimensional grid of values, all of the same type, and is indexed by a tuple of nonnegative integers. The number of dimensions is the **rank** of the tensor; the **shape** of a tensor is a tuple of integers giving the size of the array along each dimension.\n",
    "\n",
    "We can initialize `torch` tensor from nested Python lists. We can access or mutate elements of a PyTorch tensor using square brackets.\n",
    "\n",
    "Accessing an element from a PyTorch tensor returns a PyTorch scalar; we can convert this to a Python scalar using the `.item()` method:"
   ]
  },
  {
   "cell_type": "code",
   "execution_count": null,
   "metadata": {
    "colab": {
     "base_uri": "https://localhost:8080/",
     "height": 221
    },
    "colab_type": "code",
    "id": "IpwfVUvPu_lF",
    "outputId": "225aa9c5-d19e-43ba-ff93-de7a4cb1627c"
   },
   "outputs": [],
   "source": [
    "# Create a rank 1 tensor from a Python list\n",
    "a = torch.tensor([1, 2, 3])\n",
    "print('Here is a:')\n",
    "print(a)\n",
    "print('type(a): ', type(a))\n",
    "print('rank of a: ', a.dim())\n",
    "print('a.shape: ', a.shape)\n",
    "\n",
    "# Access elements using square brackets\n",
    "print()\n",
    "print('a[0]: ', a[0])\n",
    "print('type(a[0]): ', type(a[0]))\n",
    "print('type(a[0].item()): ', type(a[0].item()))\n",
    "\n",
    "# Mutate elements using square brackets\n",
    "a[1] = 10\n",
    "print()\n",
    "print('a after mutating:')\n",
    "print(a)"
   ]
  },
  {
   "cell_type": "markdown",
   "metadata": {
    "colab_type": "text",
    "id": "FZq4zsnLEgXH"
   },
   "source": [
    "The example above shows a one-dimensional tensor; we can similarly create tensors with two or more dimensions:"
   ]
  },
  {
   "cell_type": "code",
   "execution_count": null,
   "metadata": {
    "colab": {
     "base_uri": "https://localhost:8080/",
     "height": 221
    },
    "colab_type": "code",
    "id": "7TcvHxpTFUcL",
    "outputId": "5a32ca36-bcba-435d-e16d-09c60d72939a"
   },
   "outputs": [],
   "source": [
    "# Create a two-dimensional tensor\n",
    "b = torch.tensor([[1, 2, 3], [4, 5, 5]])\n",
    "print('Here is b:')\n",
    "print(b)\n",
    "print('rank of b:', b.dim())\n",
    "print('b.shape: ', b.shape)\n",
    "\n",
    "# Access elements from a multidimensional tensor\n",
    "print()\n",
    "print('b[0, 1]:', b[0, 1])\n",
    "print('b[1, 2]:', b[1, 2])\n",
    "\n",
    "# Mutate elements of a multidimensional tensor\n",
    "b[1, 1] = 100\n",
    "print()\n",
    "print('b after mutating:')\n",
    "print(b)"
   ]
  },
  {
   "cell_type": "markdown",
   "metadata": {
    "colab_type": "text",
    "id": "BBOsvh53GXa8"
   },
   "source": [
    "Now it's **your turn**. In the file `pytorch101.py`, complete the implementation of the functions `create_sample_tensor`, `mutate_tensor`, and `count_tensor_elements` to practice constructing, mutating, and thinking about the shapes of tensors."
   ]
  },
  {
   "cell_type": "code",
   "execution_count": null,
   "metadata": {
    "colab": {
     "base_uri": "https://localhost:8080/",
     "height": 306
    },
    "colab_type": "code",
    "id": "zjCIUzbaVTPs",
    "outputId": "b45e121a-0b85-4956-c901-d7f42eca46b0"
   },
   "outputs": [],
   "source": [
    "from pytorch101 import create_sample_tensor, mutate_tensor, count_tensor_elements\n",
    "\n",
    "# Create a sample tensor\n",
    "x = create_sample_tensor()\n",
    "print('Here is the sample tensor:')\n",
    "print(x)\n",
    "\n",
    "# Mutate the tensor by setting a few elements\n",
    "indices = [(0, 0), (1, 0), (1, 1)]\n",
    "values = [4, 5, 6]\n",
    "mutate_tensor(x, indices, values)\n",
    "print('\\nAfter mutating:')\n",
    "print(x)\n",
    "print('\\nCorrect shape: ', x.shape == (3, 2))\n",
    "print('x[0, 0] correct: ', x[0, 0].item() == 4)\n",
    "print('x[1, 0] correct: ', x[1, 0].item() == 5)\n",
    "print('x[1, 1] correct: ', x[1, 1].item() == 6)\n",
    "\n",
    "# Check the number of elements in the sample tensor\n",
    "num = count_tensor_elements(x)\n",
    "print('\\nNumber of elements in x: ', num)\n",
    "print('Correctly counted: ', num == 6)"
   ]
  },
  {
   "cell_type": "markdown",
   "metadata": {
    "colab_type": "text",
    "id": "Yz_VDA3IvP33"
   },
   "source": [
    "### Tensor constructors"
   ]
  },
  {
   "cell_type": "markdown",
   "metadata": {
    "colab_type": "text",
    "id": "BoAlslEdwV-k"
   },
   "source": [
    "PyTorch provides many convenience methods for constructing tensors; this avoids the need to use Python lists. For example:\n",
    "\n",
    "- [`torch.zeros`](https://pytorch.org/docs/1.1.0/torch.html#torch.zeros): Creates a tensor of all zeros\n",
    "- [`torch.ones`](https://pytorch.org/docs/1.1.0/torch.html#torch.ones): Creates a tensor of all ones\n",
    "- [`torch.rand`](https://pytorch.org/docs/1.1.0/torch.html#torch.rand): Creates a tensor with uniform random numbers\n",
    "\n",
    "You can find a full list of tensor creation operations [in the documentation](https://pytorch.org/docs/stable/torch.html#creation-ops)."
   ]
  },
  {
   "cell_type": "code",
   "execution_count": null,
   "metadata": {
    "colab": {
     "base_uri": "https://localhost:8080/",
     "height": 306
    },
    "colab_type": "code",
    "id": "FL6DXGXzxHBA",
    "outputId": "f8e6b805-ace4-4e9c-ff1d-8e0150fdf8f2"
   },
   "outputs": [],
   "source": [
    "# Create a tensor of all zeros\n",
    "a = torch.zeros(2, 3)\n",
    "print('tensor of zeros:')\n",
    "print(a)\n",
    "\n",
    "# Create a tensor of all ones\n",
    "b = torch.ones(1, 2)\n",
    "print('\\ntensor of ones:')\n",
    "print(b)\n",
    "\n",
    "# Create a 3x3 identity matrix\n",
    "c = torch.eye(3)\n",
    "print('\\nidentity matrix:')\n",
    "print(c)\n",
    "\n",
    "# Tensor of random values\n",
    "d = torch.rand(4, 5)\n",
    "print('\\nrandom tensor:')\n",
    "print(d)"
   ]
  },
  {
   "cell_type": "markdown",
   "metadata": {
    "colab_type": "text",
    "id": "y9QuvWYxMsoK"
   },
   "source": [
    "**Your turn**: In the file `pytorch101.py`, complete the implementation of `create_tensor_of_pi` to practice using a tensor constructor.\n",
    "\n",
    "Hint: [`torch.full`](https://pytorch.org/docs/stable/generated/torch.full.html#torch.full)"
   ]
  },
  {
   "cell_type": "code",
   "execution_count": null,
   "metadata": {
    "colab": {
     "base_uri": "https://localhost:8080/",
     "height": 68
    },
    "colab_type": "code",
    "id": "N_y7Z5I0NIaA",
    "outputId": "dd07e76b-dc46-43dc-b5ce-9b3942c193ef"
   },
   "outputs": [],
   "source": [
    "from pytorch101 import create_tensor_of_pi\n",
    "\n",
    "x = create_tensor_of_pi(4, 5)\n",
    "\n",
    "print('x is a tensor:', torch.is_tensor(x))\n",
    "print('x has correct shape: ', x.shape == (4, 5))\n",
    "print('x is filled with sevens: ', (x == 3.14).all().item() == 1)"
   ]
  },
  {
   "cell_type": "markdown",
   "metadata": {
    "colab_type": "text",
    "id": "Rz_hiJD33fu1"
   },
   "source": [
    "### Datatypes"
   ]
  },
  {
   "cell_type": "markdown",
   "metadata": {
    "colab_type": "text",
    "id": "GG1xBunZ3ixx"
   },
   "source": [
    "In the examples above, you may have noticed that some of our tensors contained floating-point values, while others contained integer values.\n",
    "\n",
    "PyTorch provides a [large set of numeric datatypes](https://pytorch.org/docs/stable/tensor_attributes.html#torch.torch.dtype) that you can use to construct tensors. PyTorch tries to guess a datatype when you create a tensor; functions that construct tensors typically have a `dtype` argument that you can use to explicitly specify a datatype.\n",
    "\n",
    "Each tensor has a `dtype` attribute that you can use to check its data type:"
   ]
  },
  {
   "cell_type": "code",
   "execution_count": null,
   "metadata": {
    "colab": {
     "base_uri": "https://localhost:8080/",
     "height": 255
    },
    "colab_type": "code",
    "id": "vREVDf_n31Qz",
    "outputId": "0fe6ec3a-bf37-40fd-900b-3328402264e3"
   },
   "outputs": [],
   "source": [
    "# Let torch choose the datatype\n",
    "x0 = torch.tensor([1, 2])   # List of integers\n",
    "x1 = torch.tensor([1., 2.]) # List of floats\n",
    "x2 = torch.tensor([1., 2])  # Mixed list\n",
    "print('dtype when torch chooses for us:')\n",
    "print('List of integers:', x0.dtype)\n",
    "print('List of floats:', x1.dtype)\n",
    "print('Mixed list:', x2.dtype)\n",
    "\n",
    "# Force a particular datatype\n",
    "y0 = torch.tensor([1, 2], dtype=torch.float32)  # 32-bit float\n",
    "y1 = torch.tensor([1, 2], dtype=torch.int32)    # 32-bit (signed) integer\n",
    "y2 = torch.tensor([1, 2], dtype=torch.int64)    # 64-bit (signed) integer\n",
    "print('\\ndtype when we force a datatype:')\n",
    "print('32-bit float: ', y0.dtype)\n",
    "print('32-bit integer: ', y1.dtype)\n",
    "print('64-bit integer: ', y2.dtype)\n",
    "\n",
    "# Other creation ops also take a dtype argument\n",
    "z0 = torch.ones(1, 2)  # Let torch choose for us\n",
    "z1 = torch.ones(1, 2, dtype=torch.int16) # 16-bit (signed) integer\n",
    "z2 = torch.ones(1, 2, dtype=torch.uint8) # 8-bit (unsigned) integer\n",
    "print('\\ntorch.ones with different dtypes')\n",
    "print('default dtype:', z0.dtype)\n",
    "print('16-bit integer:', z1.dtype)\n",
    "print('8-bit unsigned integer:', z2.dtype)"
   ]
  },
  {
   "cell_type": "markdown",
   "metadata": {
    "colab_type": "text",
    "id": "W2reBgQmx_x4"
   },
   "source": [
    "We can **cast** a tensor to another datatype using the [`.to()`](https://pytorch.org/docs/1.1.0/tensors.html#torch.Tensor.to) method; there are also convenience methods like [`.float()`](https://pytorch.org/docs/1.1.0/tensors.html#torch.Tensor.float) and [`.long()`](https://pytorch.org/docs/1.1.0/tensors.html#torch.Tensor.long) that cast to particular datatypes:\n"
   ]
  },
  {
   "cell_type": "code",
   "execution_count": null,
   "metadata": {
    "colab": {
     "base_uri": "https://localhost:8080/",
     "height": 102
    },
    "colab_type": "code",
    "id": "sAMpwGsdyHAw",
    "outputId": "c7827373-3b14-4e5b-dddc-c32823eaac10"
   },
   "outputs": [],
   "source": [
    "x0 = torch.eye(3, dtype=torch.int64)\n",
    "x1 = x0.float()  # Cast to 32-bit float\n",
    "x2 = x0.double() # Cast to 64-bit float\n",
    "x3 = x0.to(torch.float32) # Alternate way to cast to 32-bit float\n",
    "x4 = x0.to(torch.float64) # Alternate way to cast to 64-bit float\n",
    "print('x0:', x0.dtype)\n",
    "print('x1:', x1.dtype)\n",
    "print('x2:', x2.dtype)\n",
    "print('x3:', x3.dtype)\n",
    "print('x4:', x4.dtype)"
   ]
  },
  {
   "cell_type": "markdown",
   "metadata": {
    "colab_type": "text",
    "id": "k2O8Atl1wMB7"
   },
   "source": [
    "PyTorch provides several ways to create a tensor with the same datatype as another tensor:\n",
    "\n",
    "- PyTorch provides tensor constructors such as [`torch.zeros_like()`](https://pytorch.org/docs/stable/generated/torch.zeros_like.html#torch.zeros_like) that create new tensors with the same shape and type as a given tensor\n",
    "- Tensor objects have instance methods such as [`.new_zeros()`](https://pytorch.org/docs/stable/tensors.html#torch.Tensor.new_zeros) that create tensors the same type but possibly different shapes\n",
    "- The tensor instance method [`.to()`](https://pytorch.org/docs/stable/tensors.html#torch.Tensor.to) can take a tensor as an argument, in which case it casts to the datatype of the argument."
   ]
  },
  {
   "cell_type": "code",
   "execution_count": null,
   "metadata": {
    "colab": {
     "base_uri": "https://localhost:8080/",
     "height": 85
    },
    "colab_type": "code",
    "id": "1APDsx54xV6p",
    "outputId": "cf885f43-3aec-4236-9ad0-c0a50a8f1892"
   },
   "outputs": [],
   "source": [
    "x0 = torch.eye(3, dtype=torch.float64)  # Shape (3, 3), dtype torch.float64\n",
    "x1 = torch.zeros_like(x0)               # Shape (3, 3), dtype torch.float64\n",
    "x2 = x0.new_zeros(4, 5)                 # Shape (4, 5), dtype torch.float64\n",
    "x3 = torch.ones(6, 7).to(x0)            # Shape (6, 7), dtype torch.float64)\n",
    "print('x0 shape is %r, dtype is %r' % (x0.shape, x0.dtype))\n",
    "print('x1 shape is %r, dtype is %r' % (x1.shape, x1.dtype))\n",
    "print('x2 shape is %r, dtype is %r' % (x2.shape, x2.dtype))\n",
    "print('x3 shape is %r, dtype is %r' % (x3.shape, x3.dtype))"
   ]
  },
  {
   "cell_type": "markdown",
   "metadata": {
    "colab_type": "text",
    "id": "OPuGPa0v4h_2"
   },
   "source": [
    "**Your turn**: In the file `pytorch101.py`, implement the function `multiples_of_ten` which should create and return a tensor of dtype `torch.float64` containing all the multiples of ten in a given range.\n",
    "\n",
    "Hint: [`torch.arange`](https://pytorch.org/docs/stable/generated/torch.arange.html#torch.arange)"
   ]
  },
  {
   "cell_type": "code",
   "execution_count": null,
   "metadata": {
    "colab": {
     "base_uri": "https://localhost:8080/",
     "height": 119
    },
    "colab_type": "code",
    "id": "Qddo6C5Bgwcr",
    "outputId": "b648a8a7-0c0a-4826-9271-3b568624eac5"
   },
   "outputs": [],
   "source": [
    "from pytorch101 import multiples_of_ten\n",
    "\n",
    "start = 5\n",
    "stop = 25\n",
    "x = multiples_of_ten(start, stop)\n",
    "print('Correct dtype: ', x.dtype == torch.float64)\n",
    "print('Correct shape: ', x.shape == (2,))\n",
    "print('Correct values: ', x.tolist() == [10, 20])\n",
    "\n",
    "# If there are no multiples of ten in the given range you should return an empty tensor\n",
    "start = 5\n",
    "stop = 7\n",
    "x = multiples_of_ten(start, stop)\n",
    "print('\\nCorrect dtype: ', x.dtype == torch.float64)\n",
    "print('Correct shape: ', x.shape == (0,))"
   ]
  },
  {
   "cell_type": "markdown",
   "metadata": {
    "colab_type": "text",
    "id": "RwJL3HVySvXn"
   },
   "source": [
    "Even though PyTorch provides a large number of numeric datatypes, the most commonly used datatypes are:\n",
    "\n",
    "- `torch.float32`: Standard floating-point type; used to store learnable parameters, network activations, etc. Nearly all arithmetic is done using this type.\n",
    "- `torch.int64`: Typically used to store indices\n",
    "- `torch.bool`: Stores boolean values: 0 is false and 1 is true\n",
    "- `torch.float16`: Used for mixed-precision arithmetic, usually on NVIDIA GPUs with [tensor cores](https://www.nvidia.com/en-us/data-center/tensorcore/). You won't need to worry about this datatype in this course."
   ]
  },
  {
   "cell_type": "markdown",
   "metadata": {
    "colab_type": "text",
    "id": "rlANfnILvX3S"
   },
   "source": [
    "## Tensor indexing"
   ]
  },
  {
   "cell_type": "markdown",
   "metadata": {
    "colab_type": "text",
    "id": "KP4dRrHhyLO5"
   },
   "source": [
    "We have already seen how to get and set individual elements of PyTorch tensors. PyTorch also provides many other ways of indexing into tensors. Getting comfortable with these different options makes it easy to modify different parts of tensors with ease."
   ]
  },
  {
   "cell_type": "markdown",
   "metadata": {
    "colab_type": "text",
    "id": "mo-PoTWNvbba"
   },
   "source": [
    "### Slice indexing"
   ]
  },
  {
   "cell_type": "markdown",
   "metadata": {
    "colab_type": "text",
    "id": "qUqTYvglyVLc"
   },
   "source": [
    "Similar to Python lists and numpy arrays, PyTorch tensors can be **sliced** using the syntax `start:stop` or `start:stop:step`. The `stop` index is always non-inclusive: it is the first element not to be included in the slice.\n",
    "\n",
    "Start and stop indices can be negative, in which case they count backward from the end of the tensor."
   ]
  },
  {
   "cell_type": "code",
   "execution_count": null,
   "metadata": {
    "colab": {
     "base_uri": "https://localhost:8080/",
     "height": 153
    },
    "colab_type": "code",
    "id": "yEr5BzdUdCtZ",
    "outputId": "625e2a90-361f-4057-a81b-96e54658ae0c"
   },
   "outputs": [],
   "source": [
    "a = torch.tensor([0, 11, 22, 33, 44, 55, 66])\n",
    "print(0, a)        # (0) Original tensor\n",
    "print(1, a[2:5])   # (1) Elements between index 2 and 5\n",
    "print(2, a[2:])    # (2) Elements after index 2\n",
    "print(3, a[:5])    # (3) Elements before index 5\n",
    "print(4, a[:])     # (4) All elements\n",
    "print(5, a[1:5:2]) # (5) Every second element between indices 1 and 5\n",
    "print(6, a[:-1])   # (6) All but the last element\n",
    "print(7, a[-4::2]) # (7) Every second element, starting from the fourth-last"
   ]
  },
  {
   "cell_type": "markdown",
   "metadata": {
    "colab_type": "text",
    "id": "yrcr9PojgTS1"
   },
   "source": [
    "For multidimensional tensors, you can provide a slice or integer for each dimension of the tensor in order to extract different types of subtensors:"
   ]
  },
  {
   "cell_type": "code",
   "execution_count": null,
   "metadata": {
    "colab": {
     "base_uri": "https://localhost:8080/",
     "height": 425
    },
    "colab_type": "code",
    "id": "S5fOdjTUyhNf",
    "outputId": "004af7cd-e612-4711-ae72-c9eae663a24c"
   },
   "outputs": [],
   "source": [
    "# Create the following rank 2 tensor with shape (3, 4)\n",
    "# [[ 1  2  3  4]\n",
    "#  [ 5  6  7  8]\n",
    "#  [ 9 10 11 12]]\n",
    "a = torch.tensor([[1,2,3,4], [5,6,7,8], [9,10,11,12]])\n",
    "print('Original tensor:')\n",
    "print(a)\n",
    "print('shape: ', a.shape)\n",
    "\n",
    "# Get row 1, and all columns. \n",
    "print('\\nSingle row:')\n",
    "print(a[1, :])\n",
    "print(a[1])  # Gives the same result; we can omit : for trailing dimensions\n",
    "print('shape: ', a[1].shape)\n",
    "\n",
    "print('\\nSingle column:')\n",
    "print(a[:, 1])\n",
    "print('shape: ', a[:, 1].shape)\n",
    "\n",
    "# Get the first two rows and the last three columns\n",
    "print('\\nFirst two rows, last two columns:')\n",
    "print(a[:2, -3:])\n",
    "print('shape: ', a[:2, -3:].shape)\n",
    "\n",
    "# Get every other row, and columns at index 1 and 2\n",
    "print('\\nEvery other row, middle columns:')\n",
    "print(a[::2, 1:3])\n",
    "print('shape: ', a[::2, 1:3].shape)"
   ]
  },
  {
   "cell_type": "markdown",
   "metadata": {
    "colab_type": "text",
    "id": "gOsR8Pdertku"
   },
   "source": [
    "There are two common ways to access a single row or column of a tensor: using an integer will reduce the rank by one, and using a length-one slice will keep the same rank. Note that this is different behavior from MATLAB."
   ]
  },
  {
   "cell_type": "code",
   "execution_count": null,
   "metadata": {
    "colab": {
     "base_uri": "https://localhost:8080/",
     "height": 255
    },
    "colab_type": "code",
    "id": "P1kHcc5jsF-c",
    "outputId": "096907d3-0871-4dbb-96d7-e824d06e7d88"
   },
   "outputs": [],
   "source": [
    "# Create the following rank 2 tensor with shape (3, 4)\n",
    "a = torch.tensor([[1,2,3,4], [5,6,7,8], [9,10,11,12]])\n",
    "print('Original tensor')\n",
    "print(a)\n",
    "\n",
    "row_r1 = a[1, :]    # Rank 1 view of the second row of a  \n",
    "row_r2 = a[1:2, :]  # Rank 2 view of the second row of a\n",
    "print('\\nTwo ways of accessing a single row:')\n",
    "print(row_r1, row_r1.shape)\n",
    "print(row_r2, row_r2.shape)\n",
    "\n",
    "# We can make the same distinction when accessing columns::\n",
    "col_r1 = a[:, 1]\n",
    "col_r2 = a[:, 1:2]\n",
    "print('\\nTwo ways of accessing a single column:')\n",
    "print(col_r1, col_r1.shape)\n",
    "print(col_r2, col_r2.shape)"
   ]
  },
  {
   "cell_type": "markdown",
   "metadata": {
    "colab_type": "text",
    "id": "Jk625fJfyxV8"
   },
   "source": [
    "Slicing a tensor returns a **view** into the same data, so modifying it will also modify the original tensor. To avoid this, you can use the `clone()` method to make a copy of a tensor."
   ]
  },
  {
   "cell_type": "code",
   "execution_count": null,
   "metadata": {
    "colab": {
     "base_uri": "https://localhost:8080/",
     "height": 221
    },
    "colab_type": "code",
    "id": "IXbikYPwyxGA",
    "outputId": "be7d4881-0a65-49c8-dbf3-d49064414bf9"
   },
   "outputs": [],
   "source": [
    "# Create a tensor, a slice, and a clone of a slice\n",
    "a = torch.tensor([[1, 2, 3, 4], [5, 6, 7, 8]])\n",
    "b = a[0, 1:]\n",
    "c = a[0, 1:].clone()\n",
    "print('Before mutating:')\n",
    "print(a)\n",
    "print(b)\n",
    "print(c)\n",
    "\n",
    "a[0, 1] = 20  # a[0, 1] and b[0] point to the same element\n",
    "b[1] = 30     # b[1] and a[0, 2] point to the same element\n",
    "c[2] = 40     # c is a clone, so it has its own data\n",
    "print('\\nAfter mutating:')\n",
    "print(a)\n",
    "print(b)\n",
    "print(c)\n",
    "\n",
    "print(a.storage().data_ptr() == c.storage().data_ptr())"
   ]
  },
  {
   "cell_type": "markdown",
   "metadata": {
    "colab_type": "text",
    "id": "5t5omyKwm9dB"
   },
   "source": [
    "**Your turn**: In the file `pytorch101.py`, implement the function `slice_indexing_practice` to practice indexing tensors with different types of slices."
   ]
  },
  {
   "cell_type": "code",
   "execution_count": null,
   "metadata": {
    "colab": {},
    "colab_type": "code",
    "id": "yKq2mswvqMmw"
   },
   "outputs": [],
   "source": [
    "# We will use this helper function to check your results\n",
    "def check(orig, actual, expected):\n",
    "    if not torch.is_tensor(actual):\n",
    "        return False\n",
    "    expected = torch.tensor(expected)\n",
    "    same_elements = (actual == expected).all().item()\n",
    "    same_storage = (orig.storage().data_ptr() == actual.storage().data_ptr())\n",
    "    return same_elements and same_storage"
   ]
  },
  {
   "cell_type": "code",
   "execution_count": null,
   "metadata": {
    "colab": {
     "base_uri": "https://localhost:8080/",
     "height": 357
    },
    "colab_type": "code",
    "id": "5-5UtVXPVTQL",
    "outputId": "22c5e69e-2d2e-42cb-feaa-c533c91f6be2"
   },
   "outputs": [],
   "source": [
    "from pytorch101 import slice_indexing_practice\n",
    "\n",
    "# Create the following rank 2 tensor of shape (3, 5)\n",
    "# [[ 1  2  3  4  5]\n",
    "#  [ 6  7  8  9 10]\n",
    "#  [11 12 13 14 15]]\n",
    "x = torch.tensor([[1, 2, 3, 4, 5], [6, 7, 8, 8, 10], [11, 12, 13, 14, 15]])\n",
    "out = slice_indexing_practice(x)\n",
    "\n",
    "last_row = out[0]\n",
    "print('last_row:')\n",
    "print(last_row)\n",
    "correct = check(x, last_row, [11, 12, 13, 14, 15])\n",
    "print('Correct: %r\\n' % correct)\n",
    "\n",
    "third_col = out[1]\n",
    "print('third_col:')\n",
    "print(third_col)\n",
    "correct = check(x, third_col, [[3], [8], [13]])\n",
    "print('Correct: %r\\n' % correct)\n",
    "\n",
    "first_two_rows_three_cols = out[2]\n",
    "print('first_two_rows_three_cols:')\n",
    "print(first_two_rows_three_cols)\n",
    "correct = check(x, first_two_rows_three_cols, [[1, 2, 3], [6, 7, 8]])\n",
    "print('Correct: %r\\n' % correct)\n",
    "\n",
    "even_rows_odd_cols = out[3]\n",
    "print('even_rows_odd_cols:')\n",
    "print(even_rows_odd_cols)\n",
    "correct = check(x, even_rows_odd_cols, [[2, 4], [12, 14]])\n",
    "print('Correct: %r\\n' % correct)"
   ]
  },
  {
   "cell_type": "markdown",
   "metadata": {
    "colab_type": "text",
    "id": "RNjhLwb0xY2A"
   },
   "source": [
    "So far we have used slicing to **access** subtensors; we can also use slicing to **modify** subtensors by writing assignment expressions where the left-hand side is a slice expression, and the right-hand side is a constant or a tensor of the correct shape:"
   ]
  },
  {
   "cell_type": "code",
   "execution_count": null,
   "metadata": {
    "colab": {
     "base_uri": "https://localhost:8080/",
     "height": 51
    },
    "colab_type": "code",
    "id": "DFnky42Rx2I5",
    "outputId": "9c463108-a4cd-4814-8631-6a0c1604133b"
   },
   "outputs": [],
   "source": [
    "a = torch.zeros(2, 4, dtype=torch.int64)\n",
    "a[:, :2] = 1\n",
    "a[:, 2:] = torch.tensor([[2, 3], [4, 5]])\n",
    "print(a)"
   ]
  },
  {
   "cell_type": "markdown",
   "metadata": {
    "colab_type": "text",
    "id": "HPVCQ5HszihV"
   },
   "source": [
    "**Your turn**: in the file `pytorch101.py`, implement the function `slice_assignment_practice` to practice modifying tensors with slicing assignment statements.\n",
    "\n",
    "This function should use slicing assignment operations to modify the first four rows and first six columns of the input tensor so they are equal to\n",
    "\n",
    "$$\n",
    "\\begin{bmatrix}\n",
    "0 & 1 & 2 & 2 & 2 & 2 \\\\\n",
    "0 & 1 & 2 & 2 & 2 & 2 \\\\\n",
    "3 & 4 & 3 & 4 & 5 & 5 \\\\\n",
    "3 & 4 & 3 & 4 & 5 & 5 \\\\\n",
    "\\end{bmatrix}\n",
    "$$\n",
    "\n",
    "Your implementation must obey the following:\n",
    "- You should mutate the tensor x in-place and return it\n",
    "- You should only modify the first 4 rows and first 6 columns; all other\n",
    "elements should remain unchanged\n",
    "- You may only mutate the tensor using slice assignment operations, where you\n",
    "assign an integer to a slice of the tensor\n",
    "- You must use <= 6 slicing operations to achieve the desired result"
   ]
  },
  {
   "cell_type": "code",
   "execution_count": null,
   "metadata": {
    "colab": {
     "base_uri": "https://localhost:8080/",
     "height": 238
    },
    "colab_type": "code",
    "id": "FzXlnFqAVTQQ",
    "outputId": "4a9f2caf-0835-45f6-e1cb-afd5f25e10ad"
   },
   "outputs": [],
   "source": [
    "from pytorch101 import slice_assignment_practice\n",
    "\n",
    "x = torch.zeros(5, 7, dtype=torch.int64)\n",
    "print('Here is x before calling slice_assignment_practice:')\n",
    "print(x)\n",
    "slice_assignment_practice(x)\n",
    "print('Here is x after calling slice assignment practice:')\n",
    "print(x)\n",
    "\n",
    "expected = [\n",
    "    [0, 1, 2, 2, 2, 2, 0],\n",
    "    [0, 1, 2, 2, 2, 2, 0],\n",
    "    [3, 4, 3, 4, 5, 5, 0],\n",
    "    [0, 0, 0, 0, 0, 0, 0],\n",
    "]\n",
    "print('Correct: ', x.tolist() == expected)"
   ]
  },
  {
   "cell_type": "code",
   "execution_count": null,
   "metadata": {},
   "outputs": [],
   "source": [
    "x = [1,5,2,3,4,7,8]\n",
    "\n",
    "y = torch.zeros(len(x), 1+max(x))"
   ]
  },
  {
   "cell_type": "markdown",
   "metadata": {
    "colab_type": "text",
    "id": "4y93rPhGveWw"
   },
   "source": [
    "### Integer tensor indexing"
   ]
  },
  {
   "cell_type": "markdown",
   "metadata": {
    "colab_type": "text",
    "id": "GlTyhjEN0AIE"
   },
   "source": [
    "When you index into torch tensor using slicing, the resulting tensor view will always be a subarray of the original tensor. This is powerful, but can be restrictive.\n",
    "\n",
    "We can also use **index arrays** to index tensors; this lets us construct new tensors with a lot more flexibility than using slices.\n",
    "\n",
    "As an example, we can use index arrays to reorder the rows or columns of a tensor:"
   ]
  },
  {
   "cell_type": "code",
   "execution_count": null,
   "metadata": {
    "colab": {
     "base_uri": "https://localhost:8080/",
     "height": 289
    },
    "colab_type": "code",
    "id": "IXePPNkjM_SD",
    "outputId": "309a5e74-701b-4c8c-e7fc-70f3754ba266"
   },
   "outputs": [],
   "source": [
    "# Create the following rank 2 tensor with shape (3, 4)\n",
    "# [[ 1  2  3  4]\n",
    "#  [ 5  6  7  8]\n",
    "#  [ 9 10 11 12]]\n",
    "a = torch.tensor([[1, 2, 3, 4], [5, 6, 7, 8], [9, 10, 11, 12]])\n",
    "print('Original tensor:')\n",
    "print(a)\n",
    "\n",
    "# Create a new tensor of shape (5, 4) by reordering rows from a:\n",
    "# - First two rows same as the first row of a\n",
    "# - Third row is the same as the last row of a\n",
    "# - Fourth and fifth rows are the same as the second row from a\n",
    "idx = [0, 0, 2, 1, 1]  # index arrays can be Python lists of integers\n",
    "print('\\nReordered rows:')\n",
    "print(a[idx])\n",
    "\n",
    "# Create a new tensor of shape (3, 4) by reversing the columns from a\n",
    "idx = torch.tensor([3, 2, 1, 0])  # Index arrays can be int64 torch tensors\n",
    "print('\\nReordered columns:')\n",
    "print(a[:, idx])"
   ]
  },
  {
   "cell_type": "markdown",
   "metadata": {
    "colab_type": "text",
    "id": "CpIBR1bCQji6"
   },
   "source": [
    "More generally, given index arrays `idx0` and `idx1` with `N` elements each, `a[idx0, idx1]` is equivalent to:\n",
    "\n",
    "```\n",
    "torch.tensor([\n",
    "  a[idx0[0], idx1[0]],\n",
    "  a[idx0[1], idx1[1]],\n",
    "  ...,\n",
    "  a[idx0[N - 1], idx1[N - 1]]\n",
    "])\n",
    "```\n",
    "\n",
    "(A similar pattern extends to tensors with more than two dimensions)\n",
    "\n",
    "We can for example use this to get or set the diagonal of a tensor:"
   ]
  },
  {
   "cell_type": "code",
   "execution_count": 2,
   "metadata": {
    "colab": {
     "base_uri": "https://localhost:8080/",
     "height": 221
    },
    "colab_type": "code",
    "id": "ocIR8R5ZSEaP",
    "outputId": "abc73d35-be7c-478c-81c4-15bbcbd434ce"
   },
   "outputs": [
    {
     "name": "stdout",
     "output_type": "stream",
     "text": [
      "Original tensor:\n",
      "tensor([[1, 2, 3],\n",
      "        [4, 5, 6],\n",
      "        [7, 8, 9]])\n",
      "\n",
      "Get the diagonal:\n",
      "tensor([1, 5, 9])\n",
      "\n",
      "After setting the diagonal:\n",
      "tensor([[11,  2,  3],\n",
      "        [ 4, 22,  6],\n",
      "        [ 7,  8, 33]])\n"
     ]
    }
   ],
   "source": [
    "import torch\n",
    "a = torch.tensor([[1, 2, 3], [4, 5, 6], [7, 8, 9]])\n",
    "print('Original tensor:')\n",
    "print(a)\n",
    "\n",
    "idx = [0, 1, 2]\n",
    "print('\\nGet the diagonal:')\n",
    "print(a[idx, idx])\n",
    "\n",
    "# Modify the diagonal\n",
    "a[idx, idx] = torch.tensor([11, 22, 33])\n",
    "print('\\nAfter setting the diagonal:')\n",
    "print(a)"
   ]
  },
  {
   "cell_type": "markdown",
   "metadata": {
    "colab_type": "text",
    "id": "O-cr-EqA0vfO"
   },
   "source": [
    "One useful trick with integer array indexing is selecting or mutating one element from each row or column of a matrix:"
   ]
  },
  {
   "cell_type": "code",
   "execution_count": null,
   "metadata": {
    "colab": {
     "base_uri": "https://localhost:8080/",
     "height": 255
    },
    "colab_type": "code",
    "id": "HWA8E8iI0x17",
    "outputId": "3065adbe-9274-4759-b11e-62680f3f2ec0"
   },
   "outputs": [],
   "source": [
    "# Create a new tensor from which we will select elements\n",
    "a = torch.tensor([[1, 2, 3], [4, 5, 6], [7, 8, 9], [10, 11, 12]])\n",
    "print('Original tensor:')\n",
    "print(a)\n",
    "\n",
    "# Take on element from each row of a:\n",
    "# from row 0, take element 1;\n",
    "# from row 1, take element 2;\n",
    "# from row 2, take element 1;\n",
    "# from row 3, take element 0\n",
    "idx0 = torch.arange(a.shape[0])  # Quick way to build [0, 1, 2, 3]\n",
    "idx1 = torch.tensor([1, 2, 1, 0])\n",
    "print('\\nSelect one element from each row:')\n",
    "print(a[idx0, idx1])\n",
    "\n",
    "# Now set each of those elements to zero\n",
    "a[idx0, idx1] = 0\n",
    "print('\\nAfter modifying one element from each row:')\n",
    "print(a)"
   ]
  },
  {
   "cell_type": "markdown",
   "metadata": {
    "colab_type": "text",
    "id": "s5_-WUmSVEoR"
   },
   "source": [
    "**Your turn**: in the file `pytorch101.py`, implement the functions `shuffle_cols`, `reverse_rows`, and `take_one_elem_per_col` to practice using integer indexing to manipulate tensors. In each of these functions, your implementation should construct the output tensor **using a single indexing operation on the input**."
   ]
  },
  {
   "cell_type": "code",
   "execution_count": null,
   "metadata": {
    "colab": {
     "base_uri": "https://localhost:8080/",
     "height": 408
    },
    "colab_type": "code",
    "id": "FX05_ov5VTQZ",
    "outputId": "62f1afbf-551c-433d-ccb0-412e99877e78"
   },
   "outputs": [],
   "source": [
    "from pytorch101 import shuffle_cols, reverse_rows, take_one_elem_per_col\n",
    "\n",
    "# Build a tensor of shape (4, 3):\n",
    "# [[ 1,  2,  3],\n",
    "#  [ 4,  5,  6],\n",
    "#  [ 7,  8,  9],\n",
    "#  [10, 11, 12]]\n",
    "x = torch.tensor([[1, 2, 3], [4, 5, 6], [7, 8, 9], [10, 11, 12]])\n",
    "print('Here is x:')\n",
    "print(x)\n",
    "\n",
    "y1 = shuffle_cols(x)\n",
    "print('\\nHere is shuffle_cols(x):')\n",
    "print(y1)\n",
    "expected = [[1, 1, 3, 2], [4, 4, 6, 5], [7, 7, 9, 8], [10, 10, 12, 11]]\n",
    "y1_correct = torch.is_tensor(y1) and y1.tolist() == expected\n",
    "print('Correct: %r\\n' % y1_correct)\n",
    "\n",
    "y2 = reverse_rows(x)\n",
    "print('Here is reverse_rows(x):')\n",
    "print(y2)\n",
    "expected = [[10, 11, 12], [7, 8, 9], [4, 5, 6], [1, 2, 3]]\n",
    "y2_correct = torch.is_tensor(y2) and y2.tolist() == expected\n",
    "print('Correct: %r\\n' % y2_correct)\n",
    "\n",
    "y3 = take_one_elem_per_col(x)\n",
    "print('Here is take_one_elem_per_col(x):')\n",
    "print(y3)\n",
    "expected = [4, 2, 12]\n",
    "y3_correct = torch.is_tensor(y3) and y3.tolist() == expected\n",
    "print('Correct: %r' % y3_correct)"
   ]
  },
  {
   "cell_type": "markdown",
   "metadata": {
    "colab_type": "text",
    "id": "oGt8ZPb_vixw"
   },
   "source": [
    "### Boolean tensor indexing"
   ]
  },
  {
   "cell_type": "markdown",
   "metadata": {
    "colab_type": "text",
    "id": "6CkQaRj01xmU"
   },
   "source": [
    "Boolean tensor indexing lets you pick out arbitrary elements of a tensor according to a boolean mask. Frequently this type of indexing is used to select or modify the elements of a tensor that satisfy some condition.\n",
    "\n",
    "In PyTorch, we use tensors of dtype `torch.bool` to hold boolean masks.\n",
    "\n",
    "(Prior to version 1.2.0, there was no `torch.bool` type so instead `torch.uint8` was usually used to represent boolean data, with 0 indicating false and 1 indicating true. Watch out for this in older PyTorch code!)"
   ]
  },
  {
   "cell_type": "code",
   "execution_count": null,
   "metadata": {
    "colab": {
     "base_uri": "https://localhost:8080/",
     "height": 306
    },
    "colab_type": "code",
    "id": "29Zf7rb82Dkd",
    "outputId": "e6456a7b-713f-4850-d049-d57b0fd20a80"
   },
   "outputs": [],
   "source": [
    "a = torch.tensor([[1,2], [3, 4], [5, 6]])\n",
    "print('Original tensor:')\n",
    "print(a)\n",
    "\n",
    "# Find the elements of a that are bigger than 3. The mask has the same shape as\n",
    "# a, where each element of mask tells whether the corresponding element of a\n",
    "# is greater than three.\n",
    "mask = (a > 3)\n",
    "print('\\nMask tensor:')\n",
    "print(mask)\n",
    "\n",
    "# We can use the mask to construct a rank-1 tensor containing the elements of a\n",
    "# that are selected by the mask\n",
    "print('\\nSelecting elements with the mask:')\n",
    "print(a[mask])\n",
    "\n",
    "# We can also use boolean masks to modify tensors; for example this sets all\n",
    "# elements <= 3 to zero:\n",
    "a[a <= 3] = 0\n",
    "print('\\nAfter modifying with a mask:')\n",
    "print(a)b"
   ]
  },
  {
   "cell_type": "code",
   "execution_count": 8,
   "metadata": {},
   "outputs": [
    {
     "name": "stdout",
     "output_type": "stream",
     "text": [
      "3\n"
     ]
    }
   ],
   "source": [
    "import torch \n",
    "x= torch.tensor([[1,2],[2,3],[4,5]])\n",
    "con  = x >=3\n",
    "print(len(x[con]))"
   ]
  },
  {
   "cell_type": "code",
   "execution_count": null,
   "metadata": {},
   "outputs": [],
   "source": []
  },
  {
   "cell_type": "markdown",
   "metadata": {
    "colab_type": "text",
    "id": "LtSmmMGodrTX"
   },
   "source": [
    "**Your turn**: In the file `pytorch101.py`, implement the function `count_negative_entries` which counts the number of negative entries in a torch tensor. You can easily accomplish this using boolean tensor indexing. Your implementation should perform only a single indexing operation on the input tensor."
   ]
  },
  {
   "cell_type": "code",
   "execution_count": null,
   "metadata": {
    "colab": {
     "base_uri": "https://localhost:8080/",
     "height": 68
    },
    "colab_type": "code",
    "id": "2hkeYXN9d5xh",
    "outputId": "964e70a5-c21a-46de-9490-a06aeaf37133"
   },
   "outputs": [],
   "source": [
    "from pytorch101 import count_negative_entries\n",
    "\n",
    "# Make a few test cases\n",
    "torch.manual_seed(598)\n",
    "x0 = torch.tensor([[-1, -1, 0], [0, 1, 2], [3, 4, 5]])\n",
    "x1 = torch.tensor([0, 1, 2, 3])\n",
    "x2 = torch.randn(100, 100)\n",
    "print('Correct for x0: ', count_negative_entries(x0) == 2)\n",
    "print('Correct for x1: ', count_negative_entries(x1) == 0)\n",
    "print('Correct for x2: ', count_negative_entries(x2) == 4984)"
   ]
  },
  {
   "cell_type": "code",
   "execution_count": null,
   "metadata": {},
   "outputs": [],
   "source": []
  },
  {
   "cell_type": "markdown",
   "metadata": {
    "colab_type": "text",
    "id": "Q68ZApgH31W9"
   },
   "source": [
    "Now implement the function `make_one_hot` that creates a matrix of **one-hot vectors** from a list of Python integers.\n",
    "\n",
    "A one-hot vector for an integer $n$ is a vector that has a one in its $n$th slot, and zeros in all other slots. One-hot vectors are commonly used to represent categorical variables in machine learning models.\n",
    "\n",
    "For example, given a list `[1, 4, 3, 2]` of integers, your function should produce the tensor:\n",
    "\n",
    "```\n",
    "[[0 1 0 0 0],\n",
    " [0 0 0 0 1],\n",
    " [0 0 0 1 0],\n",
    " [0 0 1 0 0]]\n",
    "```\n",
    "\n",
    "Here the first row corresponds to the first element of the list: it has a one at index 1, and zeros at all other indices. The second row corresponds to the second element of the list: it has a one at index 4, and zeros at all other indices. The other rows follow the same pattern. The output has just enough columns so that none of the rows go out-of-bounds: the largest index in the input is 4, so the output matrix has 5 columns."
   ]
  },
  {
   "cell_type": "code",
   "execution_count": null,
   "metadata": {
    "colab": {
     "base_uri": "https://localhost:8080/",
     "height": 272
    },
    "colab_type": "code",
    "id": "jaT1kuQ37Rsq",
    "outputId": "b0dda448-e981-45ae-d785-acc25cd88d9c"
   },
   "outputs": [],
   "source": [
    "from pytorch101 import make_one_hot\n",
    "\n",
    "def check_one_hot(x, y):\n",
    "    C = y.shape[1]\n",
    "    for i, n in enumerate(x):\n",
    "        if n >= C: return False\n",
    "        for j in range(C):\n",
    "            expected = 1.0 if j == n else 0.0\n",
    "            if y[i, j].item() != expected: return False\n",
    "        return True\n",
    "      \n",
    "x0 = [1, 4, 3, 2]\n",
    "y0 = make_one_hot(x0)\n",
    "print('Here is y0:')\n",
    "print(y0)\n",
    "print('y0 correct: ', check_one_hot(x0, y0))\n",
    "\n",
    "x1 = [1, 3, 5, 7, 6, 2]\n",
    "y1 = make_one_hot(x1)\n",
    "print('\\nHere is y1:')\n",
    "print(y1)\n",
    "print('y1 correct: ', check_one_hot(x1, y1))"
   ]
  },
  {
   "cell_type": "markdown",
   "metadata": {
    "colab_type": "text",
    "id": "Ad-xqELwyqpN"
   },
   "source": [
    "## Reshaping operations"
   ]
  },
  {
   "cell_type": "markdown",
   "metadata": {
    "colab_type": "text",
    "id": "Ql9_eXuU4OG8"
   },
   "source": [
    "### View"
   ]
  },
  {
   "cell_type": "markdown",
   "metadata": {
    "colab_type": "text",
    "id": "xfPb_2BY0HKw"
   },
   "source": [
    "PyTorch provides many ways to manipulate the shapes of tensors. The simplest example is [`.view()`](https://pytorch.org/docs/1.1.0/tensors.html#torch.Tensor.view): This returns a new tensor with the same number of elements as its input, but with a different shape.\n",
    "\n",
    "We can use `.view()` to flatten matrices into vectors, and to convert rank-1 vectors into rank-2 row or column matrices:"
   ]
  },
  {
   "cell_type": "code",
   "execution_count": 3,
   "metadata": {
    "colab": {
     "base_uri": "https://localhost:8080/",
     "height": 544
    },
    "colab_type": "code",
    "id": "kw-M7C_61FZK",
    "outputId": "406ffd88-74c2-4988-9e8d-8461d621a629"
   },
   "outputs": [
    {
     "name": "stdout",
     "output_type": "stream",
     "text": [
      "Original tensor:\n",
      "tensor([[1, 2, 3, 4],\n",
      "        [5, 6, 7, 8]])\n",
      "shape: torch.Size([2, 4])\n",
      "\n",
      "Flattened tensor:\n",
      "tensor([1, 2, 3, 4, 5, 6, 7, 8])\n",
      "shape: torch.Size([8])\n",
      "\n",
      "Row vector:\n",
      "tensor([[1, 2, 3, 4, 5, 6, 7, 8]])\n",
      "shape: torch.Size([1, 8])\n",
      "\n",
      "Column vector:\n",
      "tensor([[1],\n",
      "        [2],\n",
      "        [3],\n",
      "        [4],\n",
      "        [5],\n",
      "        [6],\n",
      "        [7],\n",
      "        [8]])\n",
      "shape: torch.Size([8, 1])\n",
      "\n",
      "Rank 3 tensor:\n",
      "tensor([[[1, 2],\n",
      "         [3, 4]],\n",
      "\n",
      "        [[5, 6],\n",
      "         [7, 8]]])\n",
      "shape: torch.Size([2, 2, 2])\n"
     ]
    }
   ],
   "source": [
    "x0 = torch.tensor([[1, 2, 3, 4], [5, 6, 7, 8]])\n",
    "print('Original tensor:')\n",
    "print(x0)\n",
    "print('shape:', x0.shape)\n",
    "\n",
    "# Flatten x0 into a rank 1 vector of shape (8,)\n",
    "x1 = x0.view(8)\n",
    "print('\\nFlattened tensor:')\n",
    "print(x1)\n",
    "print('shape:', x1.shape)\n",
    "\n",
    "# Convert x1 to a rank 2 \"row vector\" of shape (1, 8)\n",
    "x2 = x1.view(1, 8)\n",
    "print('\\nRow vector:')\n",
    "print(x2)\n",
    "print('shape:', x2.shape)\n",
    "\n",
    "# Convert x1 to a rank 2 \"column vector\" of shape (8, 1)\n",
    "x3 = x1.view(8, 1)\n",
    "print('\\nColumn vector:')\n",
    "print(x3)\n",
    "print('shape:', x3.shape)\n",
    "\n",
    "# Convert x1 to a rank 3 tensor of shape (2, 2, 2):\n",
    "x4 = x1.view(2, 2, 2)\n",
    "print('\\nRank 3 tensor:')\n",
    "print(x4)\n",
    "print('shape:', x4.shape)"
   ]
  },
  {
   "cell_type": "code",
   "execution_count": null,
   "metadata": {},
   "outputs": [],
   "source": []
  },
  {
   "cell_type": "markdown",
   "metadata": {
    "colab_type": "text",
    "id": "eHsZ8BPF2PEq"
   },
   "source": [
    "As a convenience, calls to `.view()` may include a single -1 argument; this puts enough elements on that dimension so that the output has the same shape as the input. This makes it easy to write some reshape operations in a way that is agnostic to the shape of the tensor:"
   ]
  },
  {
   "cell_type": "code",
   "execution_count": 4,
   "metadata": {
    "colab": {
     "base_uri": "https://localhost:8080/",
     "height": 272
    },
    "colab_type": "code",
    "id": "qNWu-R_J2qFY",
    "outputId": "e3479783-3f4a-44b6-d06e-28cdf6aa4176"
   },
   "outputs": [
    {
     "name": "stdout",
     "output_type": "stream",
     "text": [
      "x0:\n",
      "tensor([[1, 2, 3],\n",
      "        [4, 5, 6]])\n",
      "x0_flat:\n",
      "tensor([1, 2, 3, 4, 5, 6])\n",
      "x0_row:\n",
      "tensor([[1, 2, 3, 4, 5, 6]])\n",
      "\n",
      "x1:\n",
      "tensor([[1, 2],\n",
      "        [3, 4]])\n",
      "x1_flat:\n",
      "tensor([1, 2, 3, 4])\n",
      "x1_row:\n",
      "tensor([[1, 2, 3, 4]])\n"
     ]
    }
   ],
   "source": [
    "# We can reuse these functions for tensors of different shapes\n",
    "def flatten(x):\n",
    "    return x.view(-1)\n",
    "\n",
    "def make_row_vec(x):\n",
    "    return x.view(1, -1)\n",
    "\n",
    "x0 = torch.tensor([[1, 2, 3], [4, 5, 6]])\n",
    "x0_flat = flatten(x0)\n",
    "x0_row = make_row_vec(x0)\n",
    "print('x0:')\n",
    "print(x0)\n",
    "print('x0_flat:')\n",
    "print(x0_flat)\n",
    "print('x0_row:')\n",
    "print(x0_row)\n",
    "\n",
    "x1 = torch.tensor([[1, 2], [3, 4]])\n",
    "x1_flat = flatten(x1)\n",
    "x1_row = make_row_vec(x1)\n",
    "print('\\nx1:')\n",
    "print(x1)\n",
    "print('x1_flat:')\n",
    "print(x1_flat)\n",
    "print('x1_row:')\n",
    "print(x1_row)"
   ]
  },
  {
   "cell_type": "markdown",
   "metadata": {
    "colab_type": "text",
    "id": "DK-ZB5aB2NPq"
   },
   "source": [
    "As its name implies, a tensor returned by `.view()` shares the same data as the input, so changes to one will affect the other and vice-versa:"
   ]
  },
  {
   "cell_type": "code",
   "execution_count": null,
   "metadata": {
    "colab": {
     "base_uri": "https://localhost:8080/",
     "height": 204
    },
    "colab_type": "code",
    "id": "ebT99rUo2McN",
    "outputId": "51b6203b-7a3c-42c3-9028-0e1f28477c75"
   },
   "outputs": [],
   "source": [
    "x = torch.tensor([[1, 2, 3], [4, 5, 6]])\n",
    "x_flat = x.view(-1)\n",
    "print('x before modifying:')\n",
    "print(x)\n",
    "print('x_flat before modifying:')\n",
    "print(x_flat)\n",
    "\n",
    "x[0, 0] = 10   # x[0, 0] and x_flat[0] point to the same data\n",
    "x_flat[1] = 20 # x_flat[1] and x[0, 1] point to the same data\n",
    "\n",
    "print('\\nx after modifying:')\n",
    "print(x)\n",
    "print('x_flat after modifying:')\n",
    "print(x_flat)"
   ]
  },
  {
   "cell_type": "markdown",
   "metadata": {
    "colab_type": "text",
    "id": "Z150qBob4Wkz"
   },
   "source": [
    "### Swapping axes"
   ]
  },
  {
   "cell_type": "markdown",
   "metadata": {
    "colab_type": "text",
    "id": "TCMDxbyBys78"
   },
   "source": [
    "Another common reshape operation you might want to perform is transposing a matrix. You might be surprised if you try to transpose a matrix with `.view()`: The `view()` function takes elements in row-major order, so **you cannot transpose matrices with `.view()`**.\n",
    "\n",
    "In general, you should only use `.view()` to add new dimensions to a tensor, or to collapse adjacent dimensions of a tensor.\n",
    "\n",
    "For other types of reshape operations, you usually need to use a function that can swap axes of a tensor. The simplest such function is `.t()`, specificially for transposing matrices. It is available both as a [function in the `torch` module](https://pytorch.org/docs/stable/generated/torch.t.html#torch.t), and as a [tensor instance method](https://pytorch.org/docs/stable/tensors.html#torch.Tensor.t):"
   ]
  },
  {
   "cell_type": "code",
   "execution_count": null,
   "metadata": {
    "colab": {
     "base_uri": "https://localhost:8080/",
     "height": 289
    },
    "colab_type": "code",
    "id": "o_B4NuX6zQm-",
    "outputId": "19269c4b-0995-48f4-bdf3-3610e631a507"
   },
   "outputs": [],
   "source": [
    "x = torch.tensor([[1, 2, 3], [4, 5, 6]])\n",
    "print('Original matrix:')\n",
    "print(x)\n",
    "print('\\nTransposing with view DOES NOT WORK!')\n",
    "print(x.view(3, 2))\n",
    "print('\\nTransposed matrix:')\n",
    "print(torch.t(x))\n",
    "print(x.t())"
   ]
  },
  {
   "cell_type": "markdown",
   "metadata": {
    "colab_type": "text",
    "id": "RN93xo98zn0v"
   },
   "source": [
    "For tensors with more than two dimensions, we can use the function [`torch.transpose`](https://pytorch.org/docs/stable/generated/torch.transpose.html#torch.transpose) to swap arbitrary dimensions, or the [`.permute`](https://pytorch.org/docs/stable/tensors.html#torch.Tensor.permute) method to arbitrarily permute dimensions:"
   ]
  },
  {
   "cell_type": "code",
   "execution_count": null,
   "metadata": {
    "colab": {
     "base_uri": "https://localhost:8080/",
     "height": 663
    },
    "colab_type": "code",
    "id": "XgN7YB8YzzkA",
    "outputId": "11f0e22e-836f-45fd-bd14-f8a9a8551643"
   },
   "outputs": [],
   "source": [
    "# Create a tensor of shape (2, 3, 4)\n",
    "x0 = torch.tensor([\n",
    "     [[1,  2,  3,  4],\n",
    "      [5,  6,  7,  8],\n",
    "      [9, 10, 11, 12]],\n",
    "     [[13, 14, 15, 16],\n",
    "      [17, 18, 19, 20],\n",
    "      [21, 22, 23, 24]]])\n",
    "print('Original tensor:')\n",
    "print(x0)\n",
    "print('shape:', x0.shape)\n",
    "\n",
    "# Swap axes 1 and 2; shape is (2, 4, 3)\n",
    "x1 = x0.transpose(1, 2)\n",
    "print('\\nSwap axes 1 and 2:')\n",
    "print(x1)\n",
    "print(x1.shape)\n",
    "\n",
    "# Permute axes; the argument (1, 2, 0) means:\n",
    "# - Make the old dimension 1 appear at dimension 0;\n",
    "# - Make the old dimension 2 appear at dimension 1;\n",
    "# - Make the old dimension 0 appear at dimension 2\n",
    "# This results in a tensor of shape (3, 4, 2)\n",
    "x2 = x0.permute(1, 2, 0)\n",
    "print('\\nPermute axes')\n",
    "print(x2)\n",
    "print('shape:', x2.shape)"
   ]
  },
  {
   "cell_type": "markdown",
   "metadata": {
    "colab_type": "text",
    "id": "f4SJCVbf-bZ0"
   },
   "source": [
    "### Contiguous tensors"
   ]
  },
  {
   "cell_type": "markdown",
   "metadata": {
    "colab_type": "text",
    "id": "ubOOujO_-pQT"
   },
   "source": [
    "Some combinations of reshaping operations will fail with cryptic errors. The exact reasons for this have to do with the way that tensors and views of tensors are implemented, and are beyond the scope of this assignment. However if you're curious, [this blog post by Edward Yang](http://blog.ezyang.com/2019/05/pytorch-internals/) gives a clear explanation of the problem.\n",
    "\n",
    "What you need to know is that you can typically overcome these sorts of errors by either by calling [`.contiguous()`](https://pytorch.org/docs/stable/tensors.html#torch.Tensor.contiguous) before `.view()`, or by using [`.reshape()`](https://pytorch.org/docs/stable/generated/torch.reshape.html#torch.reshape) instead of `.view()`."
   ]
  },
  {
   "cell_type": "code",
   "execution_count": null,
   "metadata": {
    "colab": {
     "base_uri": "https://localhost:8080/",
     "height": 88
    },
    "colab_type": "code",
    "id": "YGC6NERq_CT9",
    "outputId": "7e4f113c-ed1a-42ee-c6b6-c8ee82b59e9b"
   },
   "outputs": [],
   "source": [
    "x0 = torch.randn(2, 3, 4)\n",
    "\n",
    "try:\n",
    "  # This sequence of reshape operations will crash\n",
    "  x1 = x0.transpose(1, 2).view(8, 3)\n",
    "except RuntimeError as e:\n",
    "  print(type(e), e)\n",
    "  \n",
    "# We can solve the problem using either .contiguous() or .reshape()\n",
    "x1 = x0.transpose(1, 2).contiguous().view(8, 3)\n",
    "x2 = x0.transpose(1, 2).reshape(8, 3)\n",
    "print('x1 shape: ', x1.shape)\n",
    "print('x2 shape: ', x2.shape)"
   ]
  },
  {
   "cell_type": "markdown",
   "metadata": {
    "colab_type": "text",
    "id": "WJiiBxNE-X8g"
   },
   "source": [
    "### **Your turn**"
   ]
  },
  {
   "cell_type": "markdown",
   "metadata": {
    "colab_type": "text",
    "id": "iOVzHiX-86Ew"
   },
   "source": [
    "In the file `pytorch101.py`, implement the function `reshape_practice` to practice using reshape operations on tensors. Given the 1-dimensional input tensor `x` containing the numbers 0 through 23 in order, it should the following output tensor `y` of shape `(3, 8)` by using reshape operations on x:\n",
    "\n",
    "\n",
    "```\n",
    "y = tensor([[ 0,  1,  2,  3, 12, 13, 14, 15],\n",
    "            [ 4,  5,  6,  7, 16, 17, 18, 19],\n",
    "            [ 8,  9, 10, 11, 20, 21, 22, 23]])\n",
    "```\n",
    "\n",
    "Hint: You will need to create an intermediate tensor of rank 3"
   ]
  },
  {
   "cell_type": "code",
   "execution_count": null,
   "metadata": {
    "colab": {
     "base_uri": "https://localhost:8080/",
     "height": 153
    },
    "colab_type": "code",
    "id": "8reAZGzFVTQ3",
    "outputId": "5fc6a34c-e98e-4b3c-82d7-57199778578b"
   },
   "outputs": [],
   "source": [
    "from pytorch101 import reshape_practice\n",
    "\n",
    "x = torch.arange(24)\n",
    "print('Here is x:')\n",
    "print(x)\n",
    "y = reshape_practice(x)\n",
    "print('Here is y:')\n",
    "print(y)\n",
    "\n",
    "expected = [\n",
    "    [0, 1,  2,  3, 12, 13, 14, 15],\n",
    "    [4, 5,  6,  7, 16, 17, 18, 19],\n",
    "    [8, 9, 10, 11, 20, 21, 22, 23]]\n",
    "print('Correct:', y.tolist() == expected)"
   ]
  },
  {
   "cell_type": "markdown",
   "metadata": {
    "colab_type": "text",
    "id": "NgcdvD1evxTQ"
   },
   "source": [
    "## Tensor operations\n",
    "So far we have seen how to construct, access, and reshape tensors. But one of the most important reasons to use tensors is for performing computation! PyTorch provides many different operations to perform computations on tensors."
   ]
  },
  {
   "cell_type": "markdown",
   "metadata": {
    "colab_type": "text",
    "id": "1BCVlPHZ4_Qz"
   },
   "source": [
    "### Elementwise operations"
   ]
  },
  {
   "cell_type": "markdown",
   "metadata": {
    "colab_type": "text",
    "id": "f2wbN18E5CKI"
   },
   "source": [
    "Basic mathematical functions operate elementwise on tensors, and are available as operator overloads, as functions in the `torch` module, and as instance methods on torch objects; all produce the same results:"
   ]
  },
  {
   "cell_type": "code",
   "execution_count": null,
   "metadata": {
    "colab": {
     "base_uri": "https://localhost:8080/",
     "height": 425
    },
    "colab_type": "code",
    "id": "QrMkbk535KRZ",
    "outputId": "5b514d9a-9258-4abb-f804-70ef311381bc"
   },
   "outputs": [],
   "source": [
    "x = torch.tensor([[1, 2, 3, 4]], dtype=torch.float32)\n",
    "y = torch.tensor([[5, 6, 7, 8]], dtype=torch.float32)\n",
    "\n",
    "# Elementwise sum; all give the same result\n",
    "print('Elementwise sum:')\n",
    "print(x + y)\n",
    "print(torch.add(x, y))\n",
    "print(x.add(y))\n",
    "\n",
    "# Elementwise difference\n",
    "print('\\nElementwise difference:')\n",
    "print(x - y)\n",
    "print(torch.sub(x, y))\n",
    "print(x.sub(y))\n",
    "\n",
    "# Elementwise product\n",
    "print('\\nElementwise product:')\n",
    "print(x * y)\n",
    "print(torch.mul(x, y))\n",
    "print(x.mul(y))\n",
    "\n",
    "# Elementwise division\n",
    "print('\\nElementwise division')\n",
    "print(x / y)\n",
    "print(torch.div(x, y))\n",
    "print(x.div(y))\n",
    "\n",
    "# Elementwise power\n",
    "print('\\nElementwise power')\n",
    "print(x ** y)\n",
    "print(torch.pow(x, y))\n",
    "print(x.pow(y))"
   ]
  },
  {
   "cell_type": "markdown",
   "metadata": {
    "colab_type": "text",
    "id": "A6WwPJMYlYvN"
   },
   "source": [
    "Torch also provides many standard mathematical functions; these are available both as functions in the `torch` module and as instance methods on tensors:\n",
    "\n",
    "You can find a full list of all available mathematical functions [in the documentation](https://pytorch.org/docs/stable/torch.html#pointwise-ops); many functions in the `torch` module have corresponding instance methods [on tensor objects](https://pytorch.org/docs/stable/tensors.html)."
   ]
  },
  {
   "cell_type": "code",
   "execution_count": null,
   "metadata": {
    "colab": {
     "base_uri": "https://localhost:8080/",
     "height": 170
    },
    "colab_type": "code",
    "id": "s87mjsnG58vR",
    "outputId": "49400087-f190-4471-cee2-7554a6325cf1"
   },
   "outputs": [],
   "source": [
    "x = torch.tensor([[1, 2, 3, 4]], dtype=torch.float32)\n",
    "\n",
    "print('Square root:')\n",
    "print(torch.sqrt(x))\n",
    "print(x.sqrt())\n",
    "\n",
    "print('\\nTrig functions:')\n",
    "print(torch.sin(x))\n",
    "print(x.sin())\n",
    "print(torch.cos(x))\n",
    "print(x.cos())"
   ]
  },
  {
   "cell_type": "code",
   "execution_count": 2,
   "metadata": {},
   "outputs": [
    {
     "name": "stdout",
     "output_type": "stream",
     "text": [
      "tensor([[0., 0., 0., 0., 0., 0., 0., 0.],\n",
      "        [0., 0., 0., 0., 0., 0., 0., 0.],\n",
      "        [0., 0., 0., 0., 0., 0., 0., 0.],\n",
      "        [0., 0., 0., 0., 0., 0., 0., 0.],\n",
      "        [0., 0., 0., 0., 0., 0., 0., 0.],\n",
      "        [0., 0., 0., 0., 0., 0., 0., 0.]])\n"
     ]
    }
   ],
   "source": [
    "import torch\n",
    "x = [1, 3, 5, 4, 6, 7]\n",
    "y = torch.zeros(len(x), 1+max(x))\n",
    "\n",
    "print(y)"
   ]
  },
  {
   "cell_type": "code",
   "execution_count": null,
   "metadata": {},
   "outputs": [],
   "source": []
  },
  {
   "cell_type": "markdown",
   "metadata": {
    "colab_type": "text",
    "id": "yDyH9USAuyZ-"
   },
   "source": [
    "### Reduction operations"
   ]
  },
  {
   "cell_type": "markdown",
   "metadata": {
    "colab_type": "text",
    "id": "wbHP9SpZHoMO"
   },
   "source": [
    "So far we've seen basic arithmetic operations on tensors that operate elementwise. We may sometimes want to perform operations that aggregate over part or all of a tensor, such as a summation; these are called **reduction** operations.\n",
    "\n",
    "Like the elementwise operations above, most reduction operations are available both as functions in the `torch` module and as instance methods on `tensor` objects.\n",
    "\n",
    "The simplest reduction operation is summation. We can use the [`.sum()`](https://pytorch.org/docs/stable/tensors.html#torch.Tensor.sum) function (or eqivalently [`torch.sum`](https://pytorch.org/docs/stable/generated/torch.sum.html)) to reduce either an entire tensor, or to reduce along only one dimension of the tensor using the `dim` argument:"
   ]
  },
  {
   "cell_type": "code",
   "execution_count": 5,
   "metadata": {
    "colab": {
     "base_uri": "https://localhost:8080/",
     "height": 272
    },
    "colab_type": "code",
    "id": "LlmsYJWUE2r3",
    "outputId": "b4afc13e-dffe-4543-ffc2-766b8de6f956"
   },
   "outputs": [
    {
     "name": "stdout",
     "output_type": "stream",
     "text": [
      "Original tensor:\n",
      "tensor([[1., 2., 3.],\n",
      "        [4., 5., 6.]])\n",
      "\n",
      "Sum over entire tensor:\n",
      "tensor(21.)\n",
      "tensor(21.)\n",
      "\n",
      "Sum of each row:\n",
      "tensor([5., 7., 9.])\n",
      "tensor([5., 7., 9.])\n",
      "\n",
      "Sum of each column:\n",
      "tensor([ 6., 15.])\n",
      "tensor([ 6., 15.])\n"
     ]
    }
   ],
   "source": [
    "x = torch.tensor([[1, 2, 3], \n",
    "                  [4, 5, 6]], dtype=torch.float32)\n",
    "print('Original tensor:')\n",
    "print(x)\n",
    "\n",
    "print('\\nSum over entire tensor:')\n",
    "print(torch.sum(x))\n",
    "print(x.sum())\n",
    "\n",
    "# We can sum over each row:\n",
    "print('\\nSum of each row:')\n",
    "print(torch.sum(x, dim=0))\n",
    "print(x.sum(dim=0))\n",
    "\n",
    "# Sum over each column:\n",
    "print('\\nSum of each column:')\n",
    "print(torch.sum(x, dim=1))\n",
    "print(x.sum(dim=1))"
   ]
  },
  {
   "cell_type": "code",
   "execution_count": 11,
   "metadata": {},
   "outputs": [
    {
     "name": "stdout",
     "output_type": "stream",
     "text": [
      "tensor(6)\n"
     ]
    }
   ],
   "source": [
    "x = torch.tensor([[1,3,6],[2,5,6],[3,6,8]])\n",
    "print(x[0,2])"
   ]
  },
  {
   "cell_type": "markdown",
   "metadata": {
    "colab_type": "text",
    "id": "DzKio_3Quz5a"
   },
   "source": [
    "Other useful reduction operations include [`mean`](https://pytorch.org/docs/stable/torch.html#torch.mean), [`min`](https://pytorch.org/docs/stable/torch.html#torch.min), and [`max`](https://pytorch.org/docs/stable/torch.html#torch.max). You can find a full list of all available reduction operations [in the documentation](https://pytorch.org/docs/stable/torch.html#reduction-ops).\n",
    "\n",
    "Some reduction operations return more than one value; for example `min` returns both the minimum value over the specified dimension, as well as the index where the minimum value occurs:"
   ]
  },
  {
   "cell_type": "code",
   "execution_count": 7,
   "metadata": {
    "colab": {
     "base_uri": "https://localhost:8080/",
     "height": 238
    },
    "colab_type": "code",
    "id": "TFD7aT54H4ik",
    "outputId": "48510970-e982-450c-8d9e-614250e8322e"
   },
   "outputs": [
    {
     "name": "stdout",
     "output_type": "stream",
     "text": [
      "Original tensor:\n",
      "tensor([[2., 4., 3., 5.],\n",
      "        [3., 3., 5., 2.]]) torch.Size([2, 4])\n",
      "\n",
      "Overall minimum:  tensor(2.)\n",
      "\n",
      "Minimum along each column:\n",
      "values: tensor([2., 3., 3., 2.])\n",
      "idxs: tensor([0, 1, 0, 1])\n",
      "\n",
      "Minimum along each row:\n",
      "values: tensor([2., 2.])\n",
      "idxs: tensor([0, 3])\n",
      "torch.return_types.min(\n",
      "values=tensor([2., 3., 3., 2.]),\n",
      "indices=tensor([0, 1, 0, 1]))\n"
     ]
    }
   ],
   "source": [
    "x = torch.tensor([[2, 4, 3, 5], [3, 3, 5, 2]], dtype=torch.float32)\n",
    "print('Original tensor:')\n",
    "print(x, x.shape)\n",
    "\n",
    "# Finding the overall minimum only returns a single value\n",
    "print('\\nOverall minimum: ', x.min())\n",
    "\n",
    "# Compute the minimum along each column; we get both the value and location:\n",
    "# The minimum of the first column is 2, and it appears at index 0;\n",
    "# the minimum of the second column is 3 and it appears at index 1; etc\n",
    "col_min_vals, col_min_idxs = x.min(dim=0)\n",
    "print('\\nMinimum along each column:')\n",
    "print('values:', col_min_vals)\n",
    "print('idxs:', col_min_idxs)\n",
    "\n",
    "# Compute the minimum along each row; we get both the value and the minimum\n",
    "row_min_vals, row_min_idxs = x.min(dim=1)\n",
    "print('\\nMinimum along each row:')\n",
    "print('values:', row_min_vals)\n",
    "print('idxs:', row_min_idxs)\n",
    "print( x.min(dim=0))"
   ]
  },
  {
   "cell_type": "code",
   "execution_count": null,
   "metadata": {},
   "outputs": [],
   "source": []
  },
  {
   "cell_type": "markdown",
   "metadata": {
    "colab_type": "text",
    "id": "XFwYRESoFr4t"
   },
   "source": [
    "Reduction operations *reduce* the rank of tensors: the dimension over which you perform the reduction will be removed from the shape of the output. If you pass `keepdim=True` to a reduction operation, the specified dimension will not be removed; the output tensor will instead have a shape of 1 in that dimension.\n",
    "\n",
    "When you are working with multidimensional tensors, thinking about rows and columns can become confusing; instead it's more useful to think about the shape that will result from each operation. For example:"
   ]
  },
  {
   "cell_type": "code",
   "execution_count": 9,
   "metadata": {
    "colab": {
     "base_uri": "https://localhost:8080/",
     "height": 85
    },
    "colab_type": "code",
    "id": "sjcAveyJFqm7",
    "outputId": "31bfa3e1-2811-485a-bb92-26d93d933eb5"
   },
   "outputs": [
    {
     "name": "stdout",
     "output_type": "stream",
     "text": [
      "tensor([[[[[-2.4221e+00,  2.1239e-01,  2.4493e-01,  ..., -9.6252e-01,\n",
      "            -1.0967e+00, -3.6173e-01],\n",
      "           [-9.4900e-01,  2.1772e-01, -8.0380e-01,  ..., -7.6893e-01,\n",
      "            -1.6268e+00,  1.0960e+00],\n",
      "           [ 1.9268e-01,  1.0718e-01, -8.2713e-01,  ..., -2.0149e-01,\n",
      "             7.8885e-02, -1.2092e+00],\n",
      "           ...,\n",
      "           [ 3.0574e-02,  5.7582e-01,  2.1692e-01,  ..., -1.7338e+00,\n",
      "             3.5029e-01,  7.9485e-01],\n",
      "           [-3.1972e-02,  1.4208e+00,  3.6545e-01,  ...,  2.2984e+00,\n",
      "             1.9383e+00,  3.1342e-01],\n",
      "           [-9.0763e-01, -5.1581e-01, -1.8730e-01,  ...,  4.8800e-01,\n",
      "            -9.4867e-01, -6.3092e-01]],\n",
      "\n",
      "          [[-5.5801e-01, -5.1806e-01, -1.5207e+00,  ..., -3.3551e-01,\n",
      "            -2.7248e-01, -1.1401e+00],\n",
      "           [-7.7362e-03, -1.7666e+00, -6.7897e-01,  ...,  4.4171e-01,\n",
      "            -1.7987e+00, -1.1105e+00],\n",
      "           [ 1.1407e+00, -4.8858e-02, -1.0484e+00,  ...,  1.1268e+00,\n",
      "             8.8651e-01,  3.9645e-01],\n",
      "           ...,\n",
      "           [-3.8794e-01, -8.2792e-01, -1.4915e+00,  ...,  9.4488e-01,\n",
      "             1.2429e+00,  1.7153e+00],\n",
      "           [ 5.0950e-01, -7.5065e-01,  9.7702e-04,  ..., -7.2991e-02,\n",
      "             2.1956e-02,  4.1246e-01],\n",
      "           [-1.2041e+00, -6.7705e-02, -6.7337e-01,  ..., -4.8601e-01,\n",
      "            -1.3008e+00,  2.3620e-01]],\n",
      "\n",
      "          [[ 1.6426e+00, -8.7846e-01, -4.6474e-01,  ..., -1.1853e+00,\n",
      "             5.4897e-01,  2.9298e-01],\n",
      "           [-1.3999e+00,  8.9341e-01, -1.1768e+00,  ..., -4.5912e-02,\n",
      "             1.3391e+00, -8.7273e-01],\n",
      "           [ 1.7070e+00, -4.1861e-02, -1.8290e+00,  ..., -8.6474e-01,\n",
      "            -6.9981e-01, -5.1308e-01],\n",
      "           ...,\n",
      "           [-1.4223e+00, -2.8534e-01,  9.6076e-01,  ..., -1.1566e+00,\n",
      "            -9.5365e-01, -8.5644e-01],\n",
      "           [-1.6533e+00,  2.8754e-01, -6.3112e-01,  ..., -1.4182e+00,\n",
      "             1.2888e+00,  7.9282e-01],\n",
      "           [-1.8627e-01,  3.8321e-01,  1.4630e+00,  ...,  2.0472e+00,\n",
      "            -2.8984e-02, -6.6992e-01]]],\n",
      "\n",
      "\n",
      "         [[[-2.8352e-01,  1.4269e+00,  4.5713e-01,  ...,  7.3158e-01,\n",
      "            -1.8961e+00, -1.5028e+00],\n",
      "           [ 2.9266e-01, -1.5845e-01,  6.5088e-01,  ..., -1.2896e+00,\n",
      "            -7.7718e-01,  1.0926e+00],\n",
      "           [-1.7901e+00,  1.2701e+00,  1.3403e+00,  ..., -2.1134e+00,\n",
      "            -6.1209e-01, -9.1527e-01],\n",
      "           ...,\n",
      "           [ 1.9674e+00, -1.4985e+00,  1.0028e+00,  ..., -1.3381e+00,\n",
      "            -8.3802e-01, -7.2115e-01],\n",
      "           [-5.4910e-01,  3.6393e-01,  1.3613e+00,  ...,  2.2712e-02,\n",
      "            -1.7141e+00,  9.3900e-01],\n",
      "           [-9.7860e-01, -2.3723e-01,  8.2394e-01,  ..., -6.5536e-01,\n",
      "            -4.3621e-01, -1.4836e-01]],\n",
      "\n",
      "          [[ 1.0741e+00,  6.6155e-01, -3.0236e-01,  ...,  1.0574e-01,\n",
      "            -1.8956e-01,  1.8800e+00],\n",
      "           [-4.0675e-01,  1.3227e+00,  2.4693e-02,  ..., -1.4710e+00,\n",
      "            -3.7799e-01,  1.2472e+00],\n",
      "           [ 6.0556e-01, -1.2751e+00, -7.4421e-01,  ..., -3.3869e-01,\n",
      "            -3.2990e-01,  6.5640e-01],\n",
      "           ...,\n",
      "           [ 8.6375e-01,  1.9159e+00,  1.4287e+00,  ...,  3.8556e-01,\n",
      "             7.1210e-01, -1.2459e+00],\n",
      "           [ 1.6691e-01,  1.3095e+00, -1.2831e+00,  ...,  7.4322e-01,\n",
      "             1.5505e-01,  4.3199e-01],\n",
      "           [-1.3442e+00, -7.1846e-01, -4.9358e-01,  ..., -1.4561e+00,\n",
      "             7.5922e-01, -4.7508e-01]],\n",
      "\n",
      "          [[-3.2987e-01, -1.2968e-01,  8.3108e-01,  ...,  7.7645e-01,\n",
      "             1.3100e+00,  1.5370e+00],\n",
      "           [ 3.8123e-01, -3.3174e-01, -2.6125e-01,  ..., -3.7066e-01,\n",
      "             7.0783e-01,  4.6944e-01],\n",
      "           [-8.1138e-01, -8.8431e-03, -2.3386e-01,  ..., -1.2079e+00,\n",
      "            -8.9209e-01, -1.2177e+00],\n",
      "           ...,\n",
      "           [ 2.9440e-02, -6.6771e-01,  1.1576e+00,  ..., -8.0751e-01,\n",
      "            -1.8796e+00, -6.3473e-01],\n",
      "           [-6.7059e-01,  6.3376e-01, -1.2692e-01,  ..., -6.6210e-01,\n",
      "            -4.2757e-01,  1.2542e+00],\n",
      "           [ 1.5221e-01, -7.8540e-01,  1.2201e+00,  ..., -2.1800e+00,\n",
      "            -3.1010e-01, -3.2654e-01]]],\n",
      "\n",
      "\n",
      "         [[[ 8.9624e-01,  1.2563e+00, -4.9722e-02,  ...,  1.1595e-01,\n",
      "             1.2322e+00,  4.5706e-01],\n",
      "           [ 1.7653e-01, -1.0491e+00,  6.0220e-01,  ..., -3.2922e-01,\n",
      "            -1.3553e-01,  1.7446e-01],\n",
      "           [ 2.0123e-02, -2.5289e-01,  5.5574e-01,  ..., -3.8506e-01,\n",
      "             9.2694e-01, -1.5520e+00],\n",
      "           ...,\n",
      "           [ 7.4755e-03,  1.2619e+00, -9.2705e-01,  ...,  5.0195e-02,\n",
      "            -1.6257e-01,  4.9274e-01],\n",
      "           [-9.7043e-01, -1.4496e+00,  3.5706e-01,  ...,  6.7608e-02,\n",
      "            -1.2078e-01, -8.2128e-01],\n",
      "           [ 1.7808e+00, -1.1231e+00, -8.2760e-01,  ...,  5.3615e-01,\n",
      "             5.5537e-01, -3.1785e+00]],\n",
      "\n",
      "          [[ 9.0824e-02,  8.7240e-01,  3.8173e-01,  ...,  9.8700e-01,\n",
      "            -4.0370e-01,  9.0959e-01],\n",
      "           [ 5.1866e-01,  2.0208e-01,  7.3838e-01,  ...,  8.4774e-01,\n",
      "            -2.7010e-01,  1.9222e+00],\n",
      "           [-1.6829e-01,  2.4945e-02, -1.5052e+00,  ..., -1.7227e+00,\n",
      "            -1.5912e-01,  1.1245e-01],\n",
      "           ...,\n",
      "           [-6.8589e-01, -8.1580e-02,  1.1465e+00,  ...,  2.4974e-01,\n",
      "             1.2985e+00, -8.6897e-02],\n",
      "           [-2.1549e-01, -1.6203e+00, -6.2368e-02,  ..., -7.9650e-01,\n",
      "            -3.8767e-02,  1.5625e+00],\n",
      "           [-6.3267e-02, -3.3718e-01, -5.2862e-01,  ..., -8.7502e-01,\n",
      "            -2.8350e-01, -5.5886e-01]],\n",
      "\n",
      "          [[ 3.2001e-01,  3.7712e-01, -1.0841e+00,  ...,  1.1929e+00,\n",
      "            -1.9056e-01,  2.4935e-01],\n",
      "           [-1.6894e-01, -2.8837e-01, -5.5456e-01,  ...,  7.6478e-02,\n",
      "             8.8869e-01,  3.8494e-01],\n",
      "           [ 2.7709e-01, -1.2581e+00, -7.6009e-01,  ..., -6.2336e-01,\n",
      "             2.1717e+00,  1.0523e+00],\n",
      "           ...,\n",
      "           [-3.4442e-01,  2.6318e-01, -2.2714e-01,  ..., -1.8666e+00,\n",
      "             3.5675e-02, -2.5686e-01],\n",
      "           [-7.3228e-01,  5.6205e-01, -9.9634e-01,  ...,  3.1396e-01,\n",
      "            -7.8894e-03, -2.1266e+00],\n",
      "           [ 2.0286e+00, -2.3434e+00, -1.0873e+00,  ..., -7.7359e-01,\n",
      "             1.1034e-01,  3.9931e-01]]],\n",
      "\n",
      "\n",
      "         ...,\n",
      "\n",
      "\n",
      "         [[[-5.6095e-01, -9.5092e-02,  1.6177e-01,  ..., -4.4203e-01,\n",
      "            -1.3702e+00, -1.9908e+00],\n",
      "           [ 1.3602e-01, -6.5109e-01, -1.1468e+00,  ...,  9.0501e-02,\n",
      "             1.5249e+00, -1.8653e+00],\n",
      "           [ 8.0797e-01, -6.2592e-01, -3.4369e-01,  ...,  1.1218e-01,\n",
      "            -1.5357e-02, -1.0333e+00],\n",
      "           ...,\n",
      "           [-4.2977e-01, -6.2116e-01, -6.0404e-01,  ...,  1.4904e+00,\n",
      "             1.3856e+00, -5.3917e-01],\n",
      "           [ 5.7600e-01, -1.7881e-03,  5.3532e-01,  ...,  5.2690e-01,\n",
      "            -4.1084e-01,  8.6143e-01],\n",
      "           [ 7.5855e-01, -4.3524e-01,  1.5285e+00,  ...,  8.1493e-01,\n",
      "             5.6844e-01, -9.9403e-01]],\n",
      "\n",
      "          [[ 3.3186e-01, -7.6048e-01,  8.2880e-01,  ..., -1.2564e-01,\n",
      "             1.1459e+00,  8.8188e-01],\n",
      "           [-9.3572e-01,  4.0495e-01,  7.0536e-02,  ...,  1.5696e+00,\n",
      "            -4.4260e-01, -1.3103e+00],\n",
      "           [-1.2509e+00,  8.9138e-01,  4.9444e-01,  ..., -1.9924e+00,\n",
      "            -4.4479e-01, -9.8786e-01],\n",
      "           ...,\n",
      "           [-3.7406e-01, -2.1316e-02,  3.0788e-01,  ..., -1.5035e-01,\n",
      "            -4.2618e-01, -3.0290e-01],\n",
      "           [-1.5894e+00, -2.4981e+00,  2.0758e+00,  ..., -1.2846e+00,\n",
      "            -1.1698e+00, -6.5273e-01],\n",
      "           [-2.0455e+00,  1.7553e+00,  9.6331e-01,  ..., -2.0800e-01,\n",
      "             7.6685e-02,  1.0596e+00]],\n",
      "\n",
      "          [[ 9.3649e-01, -1.7259e-01,  8.7631e-02,  ...,  7.7474e-01,\n",
      "             8.1601e-01, -1.1318e-01],\n",
      "           [ 9.9488e-01, -3.9450e-02, -5.7415e-02,  ..., -1.3562e+00,\n",
      "             1.4862e+00, -1.5585e+00],\n",
      "           [-5.6571e-01, -1.5388e+00, -1.2714e+00,  ..., -6.1778e-01,\n",
      "            -1.7994e+00, -1.0838e+00],\n",
      "           ...,\n",
      "           [ 4.2899e-01, -1.7993e+00, -7.9898e-01,  ...,  1.3544e+00,\n",
      "            -4.5638e-01, -7.9747e-01],\n",
      "           [-4.7008e-01, -4.0780e-01,  2.3205e-01,  ..., -2.1023e+00,\n",
      "             6.3238e-02,  5.6864e-01],\n",
      "           [-1.5724e+00, -9.9612e-01,  1.7493e+00,  ...,  1.6009e+00,\n",
      "            -3.6076e-01, -1.7607e-01]]],\n",
      "\n",
      "\n",
      "         [[[-8.8740e-01,  4.8741e-01, -5.9065e-01,  ..., -1.1528e+00,\n",
      "             1.1585e+00,  5.2653e-01],\n",
      "           [-4.1420e-01,  1.7766e+00,  3.9075e-01,  ..., -6.9942e-01,\n",
      "             2.2779e+00,  4.2696e-01],\n",
      "           [ 6.2900e-01,  5.6176e-01,  6.8555e-01,  ..., -2.0028e+00,\n",
      "             1.5479e+00, -1.0894e+00],\n",
      "           ...,\n",
      "           [-2.1865e-01, -3.0472e+00, -5.6367e-01,  ...,  5.1116e-01,\n",
      "             2.0257e+00,  3.4960e-01],\n",
      "           [-1.7706e+00,  3.6706e-01, -8.1694e-01,  ...,  7.0672e-01,\n",
      "             3.3319e-01,  3.1402e-02],\n",
      "           [-4.6532e-02,  3.1810e-01, -9.6071e-01,  ..., -1.1029e+00,\n",
      "             4.6741e-01,  2.0813e+00]],\n",
      "\n",
      "          [[ 5.4409e-01, -2.3447e-03, -1.5912e-01,  ...,  6.5208e-01,\n",
      "             1.7647e+00, -1.2961e+00],\n",
      "           [ 5.1724e-01, -9.1494e-01, -1.5108e-01,  ...,  4.0756e-01,\n",
      "            -7.2104e-01, -6.7578e-01],\n",
      "           [ 1.2339e+00, -1.3053e-02,  5.6662e-01,  ...,  1.6090e+00,\n",
      "             5.8915e-01, -9.5507e-01],\n",
      "           ...,\n",
      "           [-6.9050e-01,  2.9085e-01, -7.0656e-01,  ...,  3.7433e-02,\n",
      "            -1.0668e+00, -9.8193e-01],\n",
      "           [-1.1690e+00,  1.1911e-01, -1.2990e+00,  ...,  1.9252e+00,\n",
      "            -1.4980e+00, -1.5777e-01],\n",
      "           [-3.3115e-01, -1.5504e-01,  4.6272e-01,  ..., -1.5271e+00,\n",
      "             8.7141e-03,  6.8583e-01]],\n",
      "\n",
      "          [[-7.6399e-01, -2.2559e+00, -4.8792e-01,  ...,  5.3023e-02,\n",
      "             1.4540e+00, -9.6523e-01],\n",
      "           [-5.6095e-02,  1.2531e+00, -1.7857e-01,  ...,  5.3103e-02,\n",
      "             1.8067e+00,  2.7927e-01],\n",
      "           [ 8.8379e-01, -5.1852e-01,  3.0383e-02,  ..., -2.2998e-01,\n",
      "            -2.1697e-01, -2.2385e-01],\n",
      "           ...,\n",
      "           [-1.6448e-01, -8.3726e-01,  2.9635e-01,  ...,  9.5514e-01,\n",
      "            -5.8560e-01, -7.7851e-01],\n",
      "           [-2.2858e+00,  2.3073e-01,  4.1996e-02,  ..., -9.0792e-01,\n",
      "             1.0263e+00,  1.5562e+00],\n",
      "           [-9.6434e-01, -1.5370e-01, -7.3944e-01,  ...,  1.0019e+00,\n",
      "            -7.9434e-01, -2.1935e-01]]],\n",
      "\n",
      "\n",
      "         [[[ 2.4275e-01,  1.3092e-02, -2.8538e-01,  ...,  1.8956e+00,\n",
      "             1.0522e+00,  1.5832e+00],\n",
      "           [ 1.5590e+00,  5.8231e-01,  5.3326e-01,  ..., -4.8011e-01,\n",
      "            -1.9222e+00,  1.2760e-01],\n",
      "           [-9.6958e-01,  1.9658e+00,  1.3309e-01,  ..., -2.1142e+00,\n",
      "             1.2659e+00,  5.9479e-01],\n",
      "           ...,\n",
      "           [ 1.1028e+00, -2.4260e-01,  7.1547e-01,  ...,  6.3297e-02,\n",
      "             3.0728e-01, -4.2756e-01],\n",
      "           [ 9.4465e-02,  8.4956e-01, -1.2106e+00,  ...,  3.4921e-01,\n",
      "             1.5261e+00, -5.7436e-01],\n",
      "           [-2.7135e-02,  1.2600e+00,  1.5731e-01,  ..., -5.8681e-01,\n",
      "            -4.5117e-01, -1.3040e-01]],\n",
      "\n",
      "          [[-9.6402e-01,  9.9771e-01, -1.6295e+00,  ..., -1.7199e+00,\n",
      "             7.6075e-01, -6.5700e-01],\n",
      "           [ 5.6441e-01, -5.1959e-01,  1.4009e+00,  ...,  2.2132e-01,\n",
      "             2.6818e-01,  6.5440e-01],\n",
      "           [-2.6700e-01,  3.5718e-01, -9.8804e-01,  ..., -8.1498e-01,\n",
      "            -1.1234e-01, -3.4765e-01],\n",
      "           ...,\n",
      "           [-8.5252e-01, -4.3020e-01, -3.5514e-01,  ..., -2.6004e-01,\n",
      "            -1.2304e+00,  1.2899e+00],\n",
      "           [-2.0596e+00, -2.5995e+00,  1.1715e+00,  ...,  9.7346e-01,\n",
      "             2.6371e-01,  3.4294e-01],\n",
      "           [ 1.1411e-01, -1.1357e+00, -1.8864e+00,  ...,  3.2556e-01,\n",
      "            -1.5164e+00, -2.0370e+00]],\n",
      "\n",
      "          [[-5.6735e-01,  8.7599e-01, -1.9077e+00,  ..., -1.0370e+00,\n",
      "             7.8420e-01,  5.4757e-01],\n",
      "           [-2.7431e+00,  3.0983e-01, -6.7644e-02,  ...,  1.1041e+00,\n",
      "             5.6032e-01, -3.8817e-01],\n",
      "           [ 1.9741e+00, -5.1822e-01,  4.7284e-01,  ...,  6.8963e-01,\n",
      "            -2.4255e+00,  9.8511e-01],\n",
      "           ...,\n",
      "           [ 7.2066e-01, -6.7534e-01,  5.6693e-01,  ..., -8.1996e-01,\n",
      "            -8.0881e-01, -2.0007e+00],\n",
      "           [-5.6481e-01,  2.0304e-01, -1.5536e+00,  ...,  1.4198e+00,\n",
      "            -1.3596e+00, -1.9006e-01],\n",
      "           [-5.5390e-01, -9.9675e-01,  8.8764e-02,  ...,  7.5647e-01,\n",
      "             1.6259e+00, -5.3195e-03]]]],\n",
      "\n",
      "\n",
      "\n",
      "        [[[[-8.1728e-01, -1.2388e+00,  1.7748e-01,  ...,  5.2768e-01,\n",
      "            -7.2234e-01,  4.8673e-01],\n",
      "           [-1.7317e+00,  8.9076e-01,  1.7858e+00,  ...,  8.6936e-01,\n",
      "            -6.3055e-01,  1.7451e+00],\n",
      "           [ 1.5781e+00, -9.7581e-01, -8.2742e-01,  ...,  7.5615e-01,\n",
      "             1.0425e+00, -1.1405e-01],\n",
      "           ...,\n",
      "           [-2.0268e+00,  1.9088e+00,  5.5396e-01,  ...,  6.3810e-01,\n",
      "            -5.0209e-01, -9.9190e-01],\n",
      "           [ 1.1917e+00, -6.0137e-01, -2.4599e-01,  ...,  4.9905e-01,\n",
      "            -1.1921e+00,  4.5905e-01],\n",
      "           [ 1.0838e+00,  5.3660e-01, -1.7427e-01,  ..., -6.1182e-01,\n",
      "             7.3238e-01, -8.1387e-02]],\n",
      "\n",
      "          [[ 1.0048e+00,  1.3525e+00,  7.3767e-01,  ...,  5.4892e-02,\n",
      "            -4.1749e-01,  1.6063e-01],\n",
      "           [-2.4516e-01, -3.3171e-01, -9.5005e-01,  ..., -1.2459e+00,\n",
      "             3.3013e-01, -6.1906e-01],\n",
      "           [-5.6489e-01,  1.4168e+00, -1.0562e+00,  ..., -1.0678e+00,\n",
      "            -6.0072e-01,  8.5879e-01],\n",
      "           ...,\n",
      "           [ 9.7117e-01,  4.0085e-01, -2.5885e-01,  ...,  3.0144e-01,\n",
      "            -8.4476e-01,  5.5207e-01],\n",
      "           [ 9.7294e-01, -1.8950e+00,  2.0060e-01,  ...,  3.4327e-01,\n",
      "            -2.0702e+00, -2.5796e-01],\n",
      "           [-1.7714e-01, -6.6730e-02, -9.4389e-01,  ..., -1.5019e+00,\n",
      "            -1.0159e-01, -1.0718e+00]],\n",
      "\n",
      "          [[ 1.9300e-02,  1.1901e+00, -6.5313e-02,  ..., -7.1955e-01,\n",
      "             9.6737e-01, -8.3067e-02],\n",
      "           [ 1.2166e+00, -2.5926e-01, -7.6813e-01,  ...,  4.4787e-01,\n",
      "             2.4841e-01, -7.3601e-01],\n",
      "           [ 1.1422e+00,  7.6975e-01,  3.4211e-01,  ..., -5.6137e-01,\n",
      "             1.0552e+00,  9.0086e-01],\n",
      "           ...,\n",
      "           [ 8.2336e-01, -1.5878e-02,  1.8623e+00,  ...,  1.5266e+00,\n",
      "            -1.2277e+00,  4.4330e-01],\n",
      "           [-9.7098e-01,  1.4395e+00, -1.1664e-01,  ..., -6.6795e-01,\n",
      "            -4.1585e-01,  8.9733e-01],\n",
      "           [ 9.4484e-01,  1.0902e-01, -5.1856e-01,  ...,  4.6593e-01,\n",
      "             1.7436e+00,  8.3762e-01]]],\n",
      "\n",
      "\n",
      "         [[[ 2.7687e-01, -7.1313e-01,  7.5695e-01,  ..., -7.9018e-01,\n",
      "            -1.1324e+00, -8.4121e-01],\n",
      "           [-3.0893e-01, -1.5551e-01, -1.6085e+00,  ...,  1.8869e-01,\n",
      "             1.2032e+00, -7.3340e-01],\n",
      "           [ 2.4628e-02, -1.5051e+00,  1.4568e+00,  ..., -5.4116e-01,\n",
      "            -5.3419e-01, -2.6425e-01],\n",
      "           ...,\n",
      "           [ 6.4804e-01, -1.5947e+00,  6.0160e-01,  ..., -5.9064e-01,\n",
      "             2.4604e-01,  3.0987e-01],\n",
      "           [ 9.3346e-01,  4.8991e-01, -2.4658e-01,  ...,  1.4829e-01,\n",
      "            -1.4432e+00,  3.7441e-01],\n",
      "           [ 9.1729e-01,  1.4920e+00,  2.8152e-01,  ...,  5.9715e-02,\n",
      "            -5.4140e-01,  2.6145e+00]],\n",
      "\n",
      "          [[-9.0732e-01, -6.1301e-01,  2.3804e+00,  ...,  2.1104e+00,\n",
      "            -1.4686e+00,  1.5090e-01],\n",
      "           [-1.9599e+00, -1.7521e+00,  2.9465e-01,  ...,  1.9652e-01,\n",
      "            -6.6611e-01,  5.3780e-01],\n",
      "           [-1.6030e-01,  1.8649e+00,  2.2979e+00,  ...,  1.4104e+00,\n",
      "            -8.5502e-01,  5.2246e-01],\n",
      "           ...,\n",
      "           [-3.9307e-01, -6.0168e-01, -7.1357e-01,  ...,  1.4128e+00,\n",
      "             2.7246e-01,  1.0248e+00],\n",
      "           [-9.4311e-01, -2.6955e-01,  2.1681e-01,  ...,  1.5629e+00,\n",
      "            -7.2289e-01,  3.4494e-01],\n",
      "           [-2.3909e+00,  3.7262e-01, -5.7383e-01,  ...,  8.7686e-01,\n",
      "             4.0907e-01,  7.1676e-01]],\n",
      "\n",
      "          [[ 2.5178e-01, -1.2769e+00, -1.0283e-01,  ..., -6.4341e-02,\n",
      "            -1.7912e-01, -4.2735e-01],\n",
      "           [-1.0056e+00,  1.3834e+00,  1.6904e+00,  ..., -4.1135e-02,\n",
      "            -1.0310e+00, -5.9601e-01],\n",
      "           [-1.9780e+00, -2.8372e-01, -1.1374e+00,  ..., -5.9007e-01,\n",
      "             1.5682e+00, -6.7122e-01],\n",
      "           ...,\n",
      "           [-1.7188e+00, -7.0559e-01, -1.0802e+00,  ..., -1.6812e+00,\n",
      "             4.1411e-01,  7.1896e-01],\n",
      "           [ 8.4161e-01,  5.6201e-01, -7.1640e-01,  ..., -6.0427e-02,\n",
      "            -1.4441e+00,  5.4046e-01],\n",
      "           [ 1.2279e-01,  1.0737e+00,  2.3986e-02,  ..., -1.3124e+00,\n",
      "             2.2985e-01,  9.2004e-01]]],\n",
      "\n",
      "\n",
      "         [[[ 1.1110e+00,  2.4350e-01,  1.0840e+00,  ..., -1.6718e+00,\n",
      "            -8.3882e-01,  9.7115e-01],\n",
      "           [ 5.1687e-02, -7.0175e-01,  1.8630e-01,  ...,  6.3477e-01,\n",
      "            -9.6126e-01, -5.7428e-01],\n",
      "           [-2.7157e-01, -1.4958e+00, -5.7882e-01,  ...,  8.1999e-01,\n",
      "             9.6945e-02, -4.9843e-01],\n",
      "           ...,\n",
      "           [ 2.7880e-01,  9.8437e-01,  6.4522e-01,  ..., -1.0601e+00,\n",
      "             7.9141e-01, -5.6041e-01],\n",
      "           [ 4.7430e-01,  2.1507e-01, -8.9215e-01,  ..., -9.8242e-02,\n",
      "            -6.0312e-02,  1.6379e+00],\n",
      "           [-1.5998e-01,  9.0959e-01, -9.0618e-01,  ...,  6.6136e-01,\n",
      "            -7.1791e-01, -3.5236e-01]],\n",
      "\n",
      "          [[ 5.7573e-01,  7.3893e-01,  1.2028e+00,  ...,  1.2145e+00,\n",
      "            -8.3999e-01,  6.4215e-02],\n",
      "           [-5.6167e-02, -1.0632e+00,  3.8295e-01,  ...,  3.7960e-01,\n",
      "             4.1103e-01, -1.0459e+00],\n",
      "           [-1.3055e+00,  2.5800e+00,  4.5861e-01,  ...,  2.5148e+00,\n",
      "            -2.8876e-01,  1.8485e+00],\n",
      "           ...,\n",
      "           [ 1.5814e+00,  8.3005e-01, -1.4280e+00,  ..., -4.1615e-01,\n",
      "             8.5916e-01, -9.9587e-01],\n",
      "           [-5.7491e-01, -4.0907e-01,  1.0013e+00,  ..., -3.6359e-01,\n",
      "             2.1857e-01, -3.8297e-01],\n",
      "           [-2.2960e-01, -1.9627e+00,  3.6283e-01,  ..., -5.5773e-01,\n",
      "            -8.6099e-01, -3.3413e-01]],\n",
      "\n",
      "          [[-1.6551e+00, -1.5738e-01,  1.3215e-01,  ...,  6.0119e-02,\n",
      "            -1.6725e+00, -1.1629e+00],\n",
      "           [ 9.7209e-01,  8.7890e-01,  7.7706e-01,  ...,  1.1405e+00,\n",
      "            -8.2622e-01,  7.2764e-02],\n",
      "           [ 9.1554e-01,  1.0574e+00,  8.8950e-01,  ..., -1.0113e+00,\n",
      "            -2.6164e-02,  8.1821e-01],\n",
      "           ...,\n",
      "           [ 1.5435e+00, -3.9753e-01, -6.3623e-01,  ...,  7.9205e-01,\n",
      "            -4.3888e-01,  6.5831e-01],\n",
      "           [ 5.7898e-01, -1.1631e+00,  8.7514e-01,  ..., -6.0145e-01,\n",
      "             1.2655e+00,  8.8644e-01],\n",
      "           [-6.4459e-01,  5.5475e-01,  3.7027e-01,  ..., -1.5311e+00,\n",
      "            -1.5642e+00,  3.8614e-01]]],\n",
      "\n",
      "\n",
      "         ...,\n",
      "\n",
      "\n",
      "         [[[ 2.0800e-01,  3.2522e-02,  1.3426e-01,  ..., -1.5279e+00,\n",
      "             7.5357e-01, -5.3983e-01],\n",
      "           [-4.1054e-01, -1.6854e+00, -2.1766e+00,  ..., -4.9153e-01,\n",
      "            -9.1532e-02, -1.6426e-01],\n",
      "           [ 1.2333e+00, -7.6067e-01,  1.6771e-01,  ..., -9.6073e-01,\n",
      "            -5.5719e-01, -9.5586e-01],\n",
      "           ...,\n",
      "           [-7.7042e-01,  1.0311e-01,  5.5105e-01,  ...,  1.5031e+00,\n",
      "             1.9657e-02,  9.1500e-01],\n",
      "           [ 5.4550e-01, -5.5662e-01,  1.4610e+00,  ..., -3.2961e-01,\n",
      "             1.3714e+00, -1.8397e-02],\n",
      "           [ 6.8510e-01,  9.4251e-02, -1.4731e+00,  ..., -4.7729e-01,\n",
      "             9.4840e-02, -1.5995e+00]],\n",
      "\n",
      "          [[-4.5574e-01, -6.9785e-01,  7.1873e-01,  ...,  1.2908e+00,\n",
      "             1.0071e+00, -3.2081e-01],\n",
      "           [-1.8639e-01,  2.8945e-01,  1.6777e-01,  ...,  4.1536e-01,\n",
      "             6.3494e-01,  3.0092e-01],\n",
      "           [-1.2360e+00,  5.4146e-01, -1.9795e+00,  ..., -8.2273e-03,\n",
      "            -1.0465e+00, -2.3721e+00],\n",
      "           ...,\n",
      "           [ 1.0738e+00, -8.8296e-01, -4.6501e-01,  ...,  9.5822e-01,\n",
      "            -3.6860e-01,  2.6891e+00],\n",
      "           [ 1.2853e+00,  8.8154e-01, -4.7183e-01,  ..., -9.2418e-01,\n",
      "            -5.4364e-01,  6.1372e-01],\n",
      "           [-1.0639e+00,  1.7009e+00, -1.0362e+00,  ..., -1.3320e+00,\n",
      "            -6.8628e-01,  2.5546e-01]],\n",
      "\n",
      "          [[ 7.4266e-01,  2.2753e+00,  1.8553e+00,  ..., -1.5931e-01,\n",
      "            -4.8059e-01, -1.4764e-01],\n",
      "           [-1.9624e+00,  9.2205e-01,  1.3345e+00,  ...,  1.3417e+00,\n",
      "             1.2799e+00,  6.7175e-01],\n",
      "           [-7.2024e-01,  1.0121e+00,  1.7125e+00,  ...,  4.7068e-01,\n",
      "             2.3309e+00,  1.7412e-02],\n",
      "           ...,\n",
      "           [-5.4763e-01,  7.7390e-01,  6.0376e-01,  ..., -7.4884e-02,\n",
      "             6.3901e-02,  6.3158e-01],\n",
      "           [ 1.0945e+00, -3.9085e-01,  6.5045e-01,  ...,  9.9553e-01,\n",
      "            -1.1954e+00, -1.1355e+00],\n",
      "           [ 9.4439e-01,  8.0738e-01, -2.1705e-01,  ...,  9.9529e-01,\n",
      "            -1.9080e-01, -1.1080e+00]]],\n",
      "\n",
      "\n",
      "         [[[ 8.0993e-01, -8.1671e-01,  6.5435e-01,  ...,  8.8723e-01,\n",
      "             2.4776e-01,  1.2326e-01],\n",
      "           [-1.0744e-01,  5.6547e-01,  1.6580e-01,  ...,  1.7573e+00,\n",
      "             1.6326e+00,  1.1627e+00],\n",
      "           [-9.4698e-02, -2.6638e+00,  1.5467e+00,  ..., -2.0324e-01,\n",
      "             1.0506e-01,  1.6743e+00],\n",
      "           ...,\n",
      "           [ 1.0005e-01,  7.2019e-01, -1.2974e+00,  ...,  1.2373e+00,\n",
      "             6.7664e-01, -1.3029e+00],\n",
      "           [ 7.9753e-01, -2.2132e-01, -4.9327e-01,  ..., -4.8243e-01,\n",
      "             7.4357e-01, -3.0934e-01],\n",
      "           [ 7.7006e-01, -1.2313e+00,  5.1879e-01,  ...,  7.0829e-01,\n",
      "             5.2885e-01,  1.2043e+00]],\n",
      "\n",
      "          [[-4.8529e-01, -4.5716e-01, -1.4042e-01,  ..., -9.7065e-01,\n",
      "            -1.8385e+00,  1.6101e+00],\n",
      "           [-5.8546e-01,  2.1014e-03,  3.5094e-01,  ...,  4.3126e-01,\n",
      "            -9.4558e-01,  1.0998e+00],\n",
      "           [-5.9406e-01, -4.1404e-01,  3.7074e-02,  ...,  7.4155e-01,\n",
      "             2.0169e-01,  5.4635e-01],\n",
      "           ...,\n",
      "           [ 1.0223e+00, -1.1565e+00,  1.8872e-01,  ...,  3.2164e-02,\n",
      "             1.1882e+00, -1.5027e+00],\n",
      "           [-1.0604e+00, -1.0662e+00, -1.1148e+00,  ...,  7.4351e-01,\n",
      "             1.6673e-01, -1.9104e-01],\n",
      "           [ 1.0174e+00,  1.0714e+00,  1.1782e+00,  ...,  2.8326e-01,\n",
      "            -4.4531e-01, -9.3320e-01]],\n",
      "\n",
      "          [[ 7.5860e-01,  9.5547e-01,  7.8813e-01,  ...,  8.2990e-01,\n",
      "            -2.4254e-01, -2.5771e-01],\n",
      "           [-1.9280e+00,  9.9008e-01,  1.4382e-01,  ...,  9.6434e-01,\n",
      "             1.2060e+00, -8.7115e-01],\n",
      "           [-1.6910e+00,  1.0248e+00, -4.9412e-01,  ...,  7.8994e-01,\n",
      "            -3.8923e-01,  3.3181e-01],\n",
      "           ...,\n",
      "           [-2.1854e+00,  6.5032e-01,  8.7112e-01,  ...,  1.7372e+00,\n",
      "            -9.1595e-02, -3.0622e-01],\n",
      "           [ 5.9811e-01, -1.3192e+00, -4.9297e-02,  ...,  2.8927e+00,\n",
      "             4.9764e-01, -1.0496e+00],\n",
      "           [-1.3151e+00,  7.9278e-01,  2.8075e+00,  ..., -8.7483e-01,\n",
      "             1.0295e+00,  3.2298e-01]]],\n",
      "\n",
      "\n",
      "         [[[-2.7227e-01,  9.3331e-01, -2.9806e-01,  ...,  1.3276e+00,\n",
      "            -2.7379e-01,  7.8038e-01],\n",
      "           [ 1.3043e+00,  1.5217e+00,  1.9682e+00,  ...,  2.1695e+00,\n",
      "             7.5393e-01, -7.7139e-02],\n",
      "           [-8.2462e-01,  8.3711e-01, -5.8192e-01,  ...,  1.9355e+00,\n",
      "            -5.6953e-01, -6.6870e-01],\n",
      "           ...,\n",
      "           [-3.6962e-01, -4.7391e-01,  4.6311e-01,  ...,  6.1664e-01,\n",
      "             5.0070e-01,  1.3114e-01],\n",
      "           [-1.5582e+00,  4.2785e-01,  1.1522e+00,  ...,  6.0188e-01,\n",
      "            -1.5547e+00,  2.7160e+00],\n",
      "           [ 8.0058e-01, -1.4080e+00, -1.1578e+00,  ..., -5.7179e-01,\n",
      "             1.7949e+00,  2.3954e-01]],\n",
      "\n",
      "          [[-2.2271e-01, -6.4729e-01, -8.8671e-01,  ..., -1.1321e+00,\n",
      "             1.1241e+00, -2.3866e-01],\n",
      "           [-1.4576e+00,  2.1043e+00,  5.0476e-01,  ..., -9.4757e-01,\n",
      "            -4.3038e-01, -3.3221e-01],\n",
      "           [-6.8704e-01, -1.1998e+00,  6.2251e-01,  ...,  5.4425e-01,\n",
      "             6.9106e-02, -1.6099e+00],\n",
      "           ...,\n",
      "           [ 7.5725e-01, -1.0291e+00, -6.2767e-01,  ...,  2.7770e-01,\n",
      "            -2.3524e+00, -2.2634e-01],\n",
      "           [ 2.1005e+00, -9.0865e-02,  7.7651e-01,  ..., -1.2716e+00,\n",
      "            -7.3599e-01, -1.5403e+00],\n",
      "           [-2.1713e+00,  5.3638e-01,  8.0626e-01,  ..., -2.3397e-01,\n",
      "             3.2373e+00,  7.9256e-02]],\n",
      "\n",
      "          [[-1.1244e+00,  1.0353e+00, -2.3496e-01,  ..., -1.0179e+00,\n",
      "            -5.9440e-02,  1.9443e-01],\n",
      "           [-7.9294e-01,  1.1004e+00,  7.3320e-01,  ..., -1.2457e-01,\n",
      "             8.0536e-01,  6.4229e-01],\n",
      "           [ 3.1075e-02,  3.6962e-01,  1.5764e+00,  ...,  3.8178e-01,\n",
      "            -1.0752e+00, -5.3394e-01],\n",
      "           ...,\n",
      "           [-6.7503e-01,  9.5360e-01,  7.9847e-01,  ...,  1.7849e-01,\n",
      "            -4.9890e-01,  2.2391e+00],\n",
      "           [-1.7250e-02, -7.7597e-01,  1.5190e+00,  ...,  1.3257e+00,\n",
      "            -1.2226e-01, -3.5448e-01],\n",
      "           [ 1.8525e+00, -9.3399e-01,  9.7529e-01,  ..., -4.4737e-01,\n",
      "            -9.3402e-01,  5.7231e-01]]]],\n",
      "\n",
      "\n",
      "\n",
      "        [[[[ 1.7478e+00, -1.0545e+00,  1.1482e+00,  ..., -6.3014e-01,\n",
      "            -4.1401e-01, -1.9470e+00],\n",
      "           [-3.3860e-01,  5.0801e-01, -9.9436e-01,  ..., -6.8480e-01,\n",
      "            -1.0049e+00, -2.8676e-01],\n",
      "           [-3.9941e-01, -1.1259e+00,  1.3753e+00,  ..., -7.0574e-01,\n",
      "             8.7721e-01, -1.1829e+00],\n",
      "           ...,\n",
      "           [-4.7009e-01,  8.5367e-01, -4.7411e-01,  ...,  3.3455e-01,\n",
      "            -9.7499e-01,  9.1716e-01],\n",
      "           [-1.5600e-01,  1.1506e+00,  2.0804e-01,  ...,  1.1021e+00,\n",
      "            -9.5942e-01,  2.0160e+00],\n",
      "           [-2.0315e+00,  4.4989e-01,  3.8047e-02,  ...,  5.8667e-01,\n",
      "            -1.3280e+00,  1.5454e+00]],\n",
      "\n",
      "          [[ 2.0203e+00,  1.0580e+00,  7.0665e-01,  ...,  1.6036e+00,\n",
      "             9.7446e-01, -1.0319e+00],\n",
      "           [-3.1289e-01, -2.9385e-01,  4.2063e-01,  ..., -8.1765e-01,\n",
      "             1.6545e+00,  1.2409e-01],\n",
      "           [ 5.6976e-01, -7.2972e-01, -1.1763e+00,  ...,  8.8298e-01,\n",
      "             9.9982e-01,  8.4632e-01],\n",
      "           ...,\n",
      "           [ 3.9097e-01,  7.1930e-01, -2.6010e-01,  ...,  3.0519e-01,\n",
      "             8.2986e-01,  6.3264e-01],\n",
      "           [-1.3197e+00, -9.4846e-01,  3.0729e-01,  ...,  2.0306e+00,\n",
      "            -5.8485e-01, -3.9766e-01],\n",
      "           [ 1.7977e+00,  9.5177e-01, -5.7171e-01,  ..., -1.3220e-01,\n",
      "             1.3308e+00, -6.1689e-01]],\n",
      "\n",
      "          [[-6.0151e-01, -8.7052e-02,  1.4757e+00,  ..., -3.2640e-01,\n",
      "             1.1406e-01, -9.9399e-01],\n",
      "           [ 5.1163e-01,  1.1439e+00, -6.8529e-01,  ...,  4.8617e-01,\n",
      "             7.5123e-01,  9.4637e-01],\n",
      "           [ 1.1266e+00,  2.4434e+00, -9.1641e-01,  ...,  1.0306e+00,\n",
      "             1.4019e-02, -7.1996e-01],\n",
      "           ...,\n",
      "           [-6.3657e-01, -3.3833e+00,  2.6555e-01,  ..., -3.8788e-01,\n",
      "            -8.3785e-01,  9.6949e-01],\n",
      "           [ 5.6077e-01,  4.1640e-01, -2.3104e+00,  ..., -1.8243e+00,\n",
      "            -1.2708e+00, -4.1171e-01],\n",
      "           [-3.8777e-01, -8.8137e-02, -9.5143e-01,  ...,  3.6873e-01,\n",
      "            -1.0993e+00,  9.8437e-01]]],\n",
      "\n",
      "\n",
      "         [[[ 2.1324e-01,  4.2207e-01, -2.1864e+00,  ...,  5.9559e-01,\n",
      "             1.2634e+00,  2.4021e+00],\n",
      "           [-1.6552e-01, -2.3848e-01,  3.3315e-01,  ..., -6.0951e-01,\n",
      "             4.6731e-01, -4.6359e-01],\n",
      "           [-4.1086e-01, -4.3017e-01, -8.2209e-01,  ..., -2.0611e-01,\n",
      "             1.8080e+00,  5.8395e-01],\n",
      "           ...,\n",
      "           [ 3.8599e-01,  1.8254e-01, -2.0684e-01,  ..., -2.4888e-01,\n",
      "            -2.0133e-01, -7.3543e-01],\n",
      "           [ 1.3109e-02, -1.8379e+00,  4.3171e-01,  ..., -8.0352e-03,\n",
      "             2.6860e-01, -6.1282e-02],\n",
      "           [-4.8719e-01,  2.5492e-01,  1.1845e+00,  ..., -1.8411e-01,\n",
      "             3.0771e-01, -1.8408e-01]],\n",
      "\n",
      "          [[-1.7593e+00, -4.0329e-01,  6.0965e-01,  ..., -5.7934e-01,\n",
      "             8.4344e-01,  7.0856e-01],\n",
      "           [ 2.0610e+00,  6.3397e-01,  7.3795e-01,  ...,  1.5484e+00,\n",
      "             3.8511e-01,  2.9670e-01],\n",
      "           [-7.6568e-01, -2.1642e-01, -5.3611e-01,  ...,  2.2896e-01,\n",
      "            -1.7960e+00, -5.9881e-01],\n",
      "           ...,\n",
      "           [ 8.6982e-01,  2.4151e-01, -3.1847e-01,  ...,  8.2151e-01,\n",
      "             1.7517e-01, -7.9066e-01],\n",
      "           [ 1.1987e+00,  1.9094e-01, -1.1262e+00,  ..., -1.4102e+00,\n",
      "            -6.0436e-01, -2.7637e+00],\n",
      "           [ 1.2909e+00,  3.6253e-01, -6.4848e-01,  ...,  2.6661e+00,\n",
      "             7.9518e-01, -6.4881e-01]],\n",
      "\n",
      "          [[ 5.6811e-01,  1.1841e+00, -3.4188e-01,  ...,  1.0994e+00,\n",
      "             1.7047e-01, -2.0127e-01],\n",
      "           [-3.4165e-01,  1.7634e+00,  4.5768e-01,  ...,  7.0542e-01,\n",
      "            -3.7188e-01,  2.8698e-01],\n",
      "           [-1.6202e-01, -4.1872e-01, -2.6136e-01,  ..., -1.1244e+00,\n",
      "            -1.3677e-01,  1.6483e+00],\n",
      "           ...,\n",
      "           [ 6.4912e-01, -1.6679e+00, -2.9630e-01,  ...,  5.8565e-01,\n",
      "             1.0424e+00, -8.4610e-01],\n",
      "           [-4.2357e-01, -1.4270e-02, -1.2647e-01,  ...,  1.4670e+00,\n",
      "             1.2601e+00, -1.2950e+00],\n",
      "           [ 1.0409e+00,  1.4622e-02, -2.7151e-01,  ..., -3.2675e-01,\n",
      "             2.9994e-01, -3.0473e-01]]],\n",
      "\n",
      "\n",
      "         [[[ 4.0488e-01, -4.4215e-01,  1.2816e-01,  ..., -4.6983e-01,\n",
      "             1.6085e+00,  1.0164e-02],\n",
      "           [ 1.2494e+00, -2.6958e-01,  1.9093e-01,  ..., -1.8252e-01,\n",
      "             1.6119e+00,  1.5376e+00],\n",
      "           [-6.6769e-01,  9.0184e-01, -4.6273e-01,  ...,  4.0696e-02,\n",
      "             3.7245e-01,  3.8508e-01],\n",
      "           ...,\n",
      "           [ 1.1314e+00, -4.4900e-01, -2.4829e-01,  ..., -2.0462e+00,\n",
      "            -3.6453e-01,  4.9548e-01],\n",
      "           [-1.5793e+00, -6.3004e-02, -1.9457e-01,  ...,  4.3538e-01,\n",
      "             1.9772e+00,  6.3037e-01],\n",
      "           [ 1.5808e+00,  8.9272e-01, -9.7367e-01,  ...,  1.9346e-01,\n",
      "             7.0635e-01, -7.5659e-01]],\n",
      "\n",
      "          [[ 1.2093e+00,  1.0686e+00, -6.0323e-01,  ..., -1.3132e-01,\n",
      "            -7.4058e-01,  6.1052e-01],\n",
      "           [-7.1955e-01, -4.7371e-01, -4.5974e-02,  ..., -6.0348e-01,\n",
      "             4.8823e-02,  2.0308e+00],\n",
      "           [-2.8472e-01, -9.3987e-01, -2.6851e+00,  ...,  4.8745e-01,\n",
      "             1.2860e+00, -1.3854e+00],\n",
      "           ...,\n",
      "           [ 1.0207e+00,  1.9290e+00, -8.0346e-01,  ...,  4.5937e-01,\n",
      "             2.4036e-01,  5.2335e-01],\n",
      "           [ 2.6969e-01, -1.1422e+00, -4.2787e-01,  ...,  1.0794e+00,\n",
      "             1.4098e+00, -1.3051e-01],\n",
      "           [ 6.4257e-02, -4.7020e-01,  4.8539e-01,  ...,  9.7661e-01,\n",
      "             3.2781e-01, -2.1992e-01]],\n",
      "\n",
      "          [[-9.0850e-01,  1.0579e+00, -1.0661e+00,  ..., -3.2045e-01,\n",
      "            -1.8895e+00,  2.3231e-01],\n",
      "           [ 1.5043e+00, -1.0853e+00, -6.1684e-02,  ..., -3.7827e-01,\n",
      "            -1.2851e+00,  3.6683e-01],\n",
      "           [-9.7268e-01,  6.1041e-02,  8.5516e-01,  ...,  7.7988e-01,\n",
      "             7.0923e-01, -9.0032e-02],\n",
      "           ...,\n",
      "           [-7.6347e-01, -5.5636e-01, -8.0087e-01,  ...,  1.8470e+00,\n",
      "            -8.0457e-01,  3.8917e-01],\n",
      "           [ 1.1137e-02,  1.2608e-01, -1.0183e-01,  ...,  6.2973e-01,\n",
      "             1.6417e+00,  9.6987e-02],\n",
      "           [-2.5255e-02, -8.1769e-03,  8.4406e-01,  ...,  8.7727e-02,\n",
      "            -2.2382e-01,  1.5763e-01]]],\n",
      "\n",
      "\n",
      "         ...,\n",
      "\n",
      "\n",
      "         [[[ 3.4796e-01, -1.5681e+00,  3.1718e+00,  ..., -1.5054e+00,\n",
      "            -4.4460e-02,  1.9308e-01],\n",
      "           [ 2.0391e+00,  1.2969e+00,  1.4621e+00,  ..., -8.7715e-01,\n",
      "            -1.8383e-01,  8.1467e-01],\n",
      "           [-9.2915e-02, -1.2045e+00,  1.2707e+00,  ...,  1.2962e+00,\n",
      "            -6.9297e-01,  6.3120e-01],\n",
      "           ...,\n",
      "           [-1.5789e-01,  1.8946e-01, -1.9145e+00,  ...,  1.1532e-01,\n",
      "             2.6757e-01,  9.5307e-01],\n",
      "           [-7.8690e-01,  1.5504e+00,  7.9049e-01,  ..., -4.7056e-01,\n",
      "            -5.5221e-01, -2.6573e-01],\n",
      "           [ 8.6204e-01,  6.7037e-01,  5.6794e-01,  ...,  7.1684e-02,\n",
      "             5.7573e-01,  1.1196e+00]],\n",
      "\n",
      "          [[-1.8431e-01, -9.7605e-01,  5.9144e-01,  ...,  1.3359e+00,\n",
      "            -1.0834e+00, -9.2455e-01],\n",
      "           [-2.3216e-02,  8.6000e-01,  5.3444e-01,  ..., -2.9818e-01,\n",
      "             3.9973e-01, -1.8872e+00],\n",
      "           [ 5.1039e-01,  1.0951e+00,  2.3118e-01,  ...,  1.4479e-01,\n",
      "            -1.2018e+00,  1.3539e+00],\n",
      "           ...,\n",
      "           [-1.5050e+00, -2.3021e+00,  8.7978e-02,  ...,  5.7950e-01,\n",
      "            -9.7412e-01,  1.2745e+00],\n",
      "           [-1.7746e+00,  1.0069e+00,  3.9013e-01,  ...,  5.7712e-02,\n",
      "             1.1927e+00, -8.7227e-01],\n",
      "           [-1.5118e-01,  4.9227e-01,  8.5381e-01,  ..., -2.6958e+00,\n",
      "             4.7832e-01,  8.4103e-01]],\n",
      "\n",
      "          [[ 1.4471e+00,  6.9008e-01, -4.4355e-01,  ...,  1.2356e+00,\n",
      "            -1.4519e+00, -5.5462e-01],\n",
      "           [ 9.6192e-03,  6.7738e-01,  3.3993e-01,  ...,  6.3368e-01,\n",
      "            -5.0336e-01, -6.1962e-01],\n",
      "           [ 6.8597e-01,  8.0864e-01, -4.4020e-01,  ..., -1.9324e+00,\n",
      "            -6.1236e-01, -3.8102e-02],\n",
      "           ...,\n",
      "           [-6.1810e-02,  2.5621e-02,  1.9096e+00,  ...,  9.4937e-03,\n",
      "             5.9575e-01, -1.0325e+00],\n",
      "           [-3.8810e-01,  1.7842e+00, -1.2843e+00,  ...,  7.0652e-01,\n",
      "             2.8472e-01,  1.0819e+00],\n",
      "           [ 9.2510e-01,  3.7573e-01, -2.8478e-01,  ..., -2.7194e+00,\n",
      "            -8.2100e-01,  2.0382e+00]]],\n",
      "\n",
      "\n",
      "         [[[ 1.0793e+00, -8.3616e-01,  3.4313e-01,  ..., -5.4049e-01,\n",
      "             1.0119e+00,  1.9339e+00],\n",
      "           [-8.8840e-02, -7.3469e-01,  1.2023e+00,  ...,  1.6087e-01,\n",
      "             1.2522e+00, -1.1389e-02],\n",
      "           [-2.0406e-01,  7.1798e-01, -5.6925e-02,  ..., -1.4027e+00,\n",
      "             1.7160e+00, -6.3374e-01],\n",
      "           ...,\n",
      "           [-8.1419e-01,  1.5680e+00,  7.7077e-01,  ..., -1.1286e+00,\n",
      "            -5.8296e-01,  1.1562e+00],\n",
      "           [ 4.2428e-01, -1.2603e+00, -2.6527e+00,  ..., -1.6415e+00,\n",
      "             1.7335e-01, -9.9412e-01],\n",
      "           [-4.3244e-01, -1.8143e+00,  3.9019e-01,  ..., -1.2528e+00,\n",
      "             1.2921e-02, -1.1287e+00]],\n",
      "\n",
      "          [[-2.7248e-01,  5.2760e-01,  5.6736e-01,  ..., -1.6308e+00,\n",
      "            -8.3001e-01,  1.0691e-01],\n",
      "           [-1.8954e-01, -5.5964e-01,  1.0423e+00,  ..., -8.3811e-01,\n",
      "            -1.9207e+00,  4.5196e-01],\n",
      "           [-1.1122e+00,  1.0713e-02,  1.1659e-01,  ..., -9.5028e-01,\n",
      "             4.1881e-02, -8.9522e-01],\n",
      "           ...,\n",
      "           [ 3.9483e-02,  3.9143e-01,  3.3569e-01,  ...,  6.7734e-02,\n",
      "            -2.8127e-02,  2.5100e-01],\n",
      "           [-2.0973e+00,  1.5824e-01,  4.8412e-01,  ...,  1.5433e-01,\n",
      "             5.0657e-01,  1.4065e+00],\n",
      "           [ 7.6783e-01,  1.0076e+00,  2.3366e-02,  ...,  3.0818e-01,\n",
      "             6.7977e-01, -1.4220e+00]],\n",
      "\n",
      "          [[ 4.8036e-01, -1.0409e+00, -1.9709e-01,  ..., -1.4832e+00,\n",
      "             1.2465e+00,  6.8679e-01],\n",
      "           [ 4.8424e-01,  3.0112e-01, -4.8048e-01,  ...,  1.6075e+00,\n",
      "             6.5422e-01, -7.2844e-01],\n",
      "           [-1.0094e+00, -6.8898e-01, -2.9087e-01,  ..., -7.2236e-02,\n",
      "            -4.7115e-01, -1.7744e+00],\n",
      "           ...,\n",
      "           [-9.4319e-01, -1.3926e-02, -4.2574e-01,  ...,  1.4939e+00,\n",
      "            -1.3864e+00, -1.3508e+00],\n",
      "           [ 3.9455e-01,  1.1678e-01,  1.1810e-01,  ...,  2.3333e+00,\n",
      "             3.1132e-01, -1.7730e+00],\n",
      "           [-5.8330e-02,  2.2526e-01, -1.5122e+00,  ..., -6.1227e-03,\n",
      "            -1.6774e+00, -1.3425e+00]]],\n",
      "\n",
      "\n",
      "         [[[ 5.6270e-02, -7.0691e-01, -4.3012e-01,  ..., -4.0628e-01,\n",
      "            -1.5358e+00,  1.0256e-01],\n",
      "           [-3.1788e-01,  8.9386e-01, -5.5234e-01,  ..., -8.0250e-01,\n",
      "            -3.9725e-01, -1.5296e+00],\n",
      "           [-5.5583e-01,  3.6699e-01,  6.0349e-01,  ..., -4.2127e-01,\n",
      "            -1.4227e+00, -8.9472e-01],\n",
      "           ...,\n",
      "           [ 9.8747e-01, -6.3877e-01, -1.1279e+00,  ...,  8.8231e-01,\n",
      "            -2.6764e-01,  3.0814e-01],\n",
      "           [-1.0166e+00,  1.1988e+00, -3.8678e-02,  ..., -1.1849e+00,\n",
      "            -3.0747e-01, -1.1974e-01],\n",
      "           [ 1.9951e+00, -3.9391e-01,  1.0379e+00,  ..., -2.8274e-01,\n",
      "             4.9821e-01,  7.4541e-01]],\n",
      "\n",
      "          [[-1.0626e+00,  7.0645e-01,  1.8434e-01,  ...,  1.0989e+00,\n",
      "             4.3449e-01, -1.2695e+00],\n",
      "           [-1.1276e+00, -1.2856e+00, -4.3488e-02,  ...,  3.0539e-01,\n",
      "            -5.4058e-01, -2.3796e+00],\n",
      "           [ 2.2777e-01, -1.3619e+00, -3.7189e-01,  ...,  7.0295e-01,\n",
      "            -6.0566e-01,  8.1426e-01],\n",
      "           ...,\n",
      "           [ 3.7719e-01,  1.9388e-01, -1.2675e+00,  ..., -7.7234e-02,\n",
      "            -1.6895e-01,  8.1265e-01],\n",
      "           [ 3.0811e-01,  1.5447e+00, -3.6553e-01,  ..., -5.7972e-01,\n",
      "            -7.6036e-01,  1.8606e-01],\n",
      "           [-5.3922e-01,  4.1799e-01,  3.1512e-01,  ..., -5.5438e-01,\n",
      "             2.0371e-01, -9.3263e-01]],\n",
      "\n",
      "          [[-3.0761e-01, -2.8997e-01, -2.5679e-01,  ..., -1.6929e+00,\n",
      "             9.7976e-01, -7.8616e-01],\n",
      "           [ 8.1800e-01,  1.0787e-01,  8.6221e-01,  ..., -3.0546e-01,\n",
      "            -9.5346e-01,  7.3884e-01],\n",
      "           [ 7.9940e-01, -9.8774e-01, -2.6142e-01,  ...,  3.5959e-01,\n",
      "            -3.4776e-01, -1.9779e+00],\n",
      "           ...,\n",
      "           [ 5.6448e-01, -8.5578e-01,  1.0255e+00,  ...,  4.0379e-01,\n",
      "             2.3390e-01, -9.8936e-01],\n",
      "           [-4.0575e-01, -1.0026e+00,  7.9673e-01,  ..., -5.9194e-01,\n",
      "             2.8557e+00,  2.0761e-01],\n",
      "           [-4.6228e-01, -1.2450e+00, -9.7767e-01,  ...,  1.2949e+00,\n",
      "             1.2032e+00,  1.5624e-01]]]],\n",
      "\n",
      "\n",
      "\n",
      "        ...,\n",
      "\n",
      "\n",
      "\n",
      "        [[[[-4.8349e-01,  4.0220e-01,  3.8930e-01,  ..., -1.5996e-01,\n",
      "             6.0881e-01, -7.1477e-01],\n",
      "           [ 5.6825e-02, -9.3018e-01,  1.0984e-01,  ...,  3.5712e-01,\n",
      "            -1.9258e+00, -3.2136e-01],\n",
      "           [-9.7756e-01, -5.0543e-02, -6.2817e-01,  ..., -2.1073e+00,\n",
      "            -9.5679e-01,  1.1331e+00],\n",
      "           ...,\n",
      "           [ 9.6813e-01,  1.2702e+00,  8.5102e-01,  ..., -6.1717e-01,\n",
      "             5.9095e-01,  5.0656e-01],\n",
      "           [-1.0602e+00,  1.1543e-01,  1.7315e-01,  ..., -1.7398e-01,\n",
      "             1.6219e+00, -1.8994e+00],\n",
      "           [ 3.7745e-01, -1.0757e+00, -3.1397e-01,  ..., -4.4281e-01,\n",
      "             7.1666e-01,  4.5538e-01]],\n",
      "\n",
      "          [[-9.5688e-01, -3.6674e-01, -3.7107e-02,  ..., -1.1714e+00,\n",
      "             1.9055e-01,  6.6561e-01],\n",
      "           [-6.3589e-01,  1.1166e+00, -6.6036e-01,  ...,  3.1903e-01,\n",
      "             2.2237e-01, -4.7513e-01],\n",
      "           [ 2.7652e-02,  1.9710e-01, -3.4641e-01,  ..., -1.3113e+00,\n",
      "             1.4097e-01, -6.3014e-01],\n",
      "           ...,\n",
      "           [-7.7518e-01,  1.3742e+00,  6.5498e-01,  ...,  1.5379e+00,\n",
      "             5.3367e-01, -8.8453e-01],\n",
      "           [-1.7180e+00, -1.1537e+00, -5.8630e-01,  ...,  1.4032e+00,\n",
      "            -4.6695e-01, -9.5626e-01],\n",
      "           [-2.1354e+00,  3.3497e-01,  1.9299e+00,  ..., -7.0776e-01,\n",
      "            -1.8586e+00, -9.6138e-01]],\n",
      "\n",
      "          [[-1.1929e+00, -2.5614e+00,  8.5845e-01,  ..., -1.1136e+00,\n",
      "            -1.6291e+00,  1.5575e+00],\n",
      "           [ 5.9084e-01, -1.4358e-01,  1.0080e+00,  ..., -8.7397e-01,\n",
      "            -1.1724e-02, -5.9541e-01],\n",
      "           [-1.0261e+00, -6.7767e-01, -4.6431e-01,  ..., -4.7237e-01,\n",
      "            -1.8222e+00,  2.2634e-01],\n",
      "           ...,\n",
      "           [-1.0273e+00,  1.5986e+00,  1.4256e-01,  ..., -6.3163e-01,\n",
      "            -7.9271e-01,  1.9325e-01],\n",
      "           [ 6.9030e-01, -2.3889e-01,  8.8098e-01,  ..., -4.0251e-01,\n",
      "             1.5878e+00, -1.0839e+00],\n",
      "           [ 2.7952e-01,  6.4383e-01, -2.5578e-01,  ...,  2.7928e-01,\n",
      "            -2.9474e-02,  1.0160e+00]]],\n",
      "\n",
      "\n",
      "         [[[-1.1215e+00,  2.2279e-01, -8.3095e-01,  ...,  1.8647e+00,\n",
      "             9.6900e-01, -2.7463e-01],\n",
      "           [ 7.2576e-02,  4.8449e-01, -2.7866e-01,  ...,  1.8162e+00,\n",
      "            -2.9781e-02, -9.2784e-01],\n",
      "           [-1.0501e+00,  1.4244e+00, -8.8329e-02,  ..., -2.6132e-01,\n",
      "             6.2479e-01,  3.7199e-01],\n",
      "           ...,\n",
      "           [-4.3058e-01,  2.9157e-01,  4.8262e-01,  ...,  2.2063e-02,\n",
      "             5.0133e-01,  9.9503e-01],\n",
      "           [ 5.7532e-01, -1.3701e+00,  7.6376e-01,  ...,  1.1386e+00,\n",
      "             2.9521e-02,  8.5260e-02],\n",
      "           [-1.6061e+00, -4.3358e-01,  1.8042e+00,  ...,  3.7506e-01,\n",
      "            -1.4345e+00, -6.7082e-01]],\n",
      "\n",
      "          [[ 1.1722e-01,  2.0867e+00,  3.2889e-01,  ..., -2.4764e-01,\n",
      "             1.1039e+00, -2.8377e-02],\n",
      "           [ 3.2925e-01, -1.6997e-01,  4.3522e-01,  ...,  1.1104e-01,\n",
      "            -1.4737e+00,  3.9396e-01],\n",
      "           [-1.0500e-01,  1.3459e-01, -2.1887e+00,  ...,  6.0542e-01,\n",
      "            -5.6205e-01,  3.4163e-01],\n",
      "           ...,\n",
      "           [ 1.4835e+00,  7.7827e-01,  5.8669e-01,  ..., -7.1770e-01,\n",
      "            -7.5620e-01, -5.4322e-01],\n",
      "           [ 2.8264e-02,  1.7573e+00, -4.4413e-01,  ...,  1.5632e+00,\n",
      "             2.7139e+00,  3.0239e-01],\n",
      "           [-9.2794e-01, -4.8381e-01, -1.3353e+00,  ..., -4.7606e-01,\n",
      "             1.0398e+00, -1.2035e+00]],\n",
      "\n",
      "          [[ 1.0386e-01,  7.0639e-01, -6.4723e-01,  ...,  8.5436e-02,\n",
      "            -1.4258e+00, -4.4278e-01],\n",
      "           [ 9.1801e-01, -1.1164e+00, -1.2935e+00,  ..., -1.1777e+00,\n",
      "            -2.9830e-01,  1.7716e+00],\n",
      "           [-4.4054e-01, -5.2697e-01, -1.4059e+00,  ...,  1.6812e+00,\n",
      "             2.2621e-01,  4.3935e-02],\n",
      "           ...,\n",
      "           [-1.4649e-01,  1.3516e-01, -3.3647e-01,  ..., -1.3232e+00,\n",
      "             6.3660e-01, -8.5398e-01],\n",
      "           [-1.5312e+00, -1.5099e+00, -6.7018e-01,  ..., -1.0173e-01,\n",
      "             7.3343e-01, -8.9058e-02],\n",
      "           [ 4.1212e-02, -7.5643e-01, -6.6900e-01,  ...,  3.3460e-01,\n",
      "            -1.4770e+00,  1.3145e+00]]],\n",
      "\n",
      "\n",
      "         [[[ 1.0258e+00,  8.6092e-01, -1.5091e+00,  ...,  1.0184e+00,\n",
      "            -2.5715e+00, -6.7024e-01],\n",
      "           [ 4.5624e-01, -5.7983e-01,  6.1216e-01,  ..., -1.3259e+00,\n",
      "            -2.0389e+00,  1.1386e+00],\n",
      "           [-8.1190e-01,  7.5192e-02,  2.4769e-01,  ...,  1.9627e-01,\n",
      "            -1.1138e+00,  4.2720e-01],\n",
      "           ...,\n",
      "           [ 1.8323e+00,  3.7804e-01, -1.3039e-01,  ..., -7.8983e-01,\n",
      "            -1.9702e-01,  7.8229e-02],\n",
      "           [-1.2199e+00, -7.0802e-01, -4.7964e-01,  ...,  1.2707e+00,\n",
      "            -1.5773e+00,  6.3335e-01],\n",
      "           [-1.3006e+00,  6.1896e-01,  1.1457e-01,  ..., -2.0158e+00,\n",
      "            -1.2945e+00, -7.9244e-01]],\n",
      "\n",
      "          [[-1.6458e-01,  5.6128e-01,  1.6273e+00,  ...,  9.3340e-01,\n",
      "            -7.1026e-01,  2.4399e-01],\n",
      "           [ 1.7789e-02,  1.1695e+00, -1.2320e+00,  ...,  4.2827e-01,\n",
      "             2.2055e+00,  2.0743e+00],\n",
      "           [-7.8763e-01, -1.9342e-02,  2.9027e-02,  ...,  2.1068e-01,\n",
      "             1.5983e+00,  8.4376e-01],\n",
      "           ...,\n",
      "           [ 1.4382e+00,  6.5263e-01,  1.4485e+00,  ..., -2.6798e-01,\n",
      "            -1.0971e+00, -9.0197e-01],\n",
      "           [ 1.6361e-01, -5.3408e-01, -6.3572e-01,  ...,  3.3457e-01,\n",
      "             1.2487e+00,  2.6230e+00],\n",
      "           [ 8.0732e-01,  1.1894e+00,  9.4154e-02,  ..., -5.5053e-01,\n",
      "            -4.6939e-01, -7.7303e-01]],\n",
      "\n",
      "          [[-9.3475e-01, -6.6764e-01, -8.1174e-01,  ...,  3.7458e-01,\n",
      "             3.6733e-01,  1.2017e-01],\n",
      "           [ 1.7603e+00,  6.9228e-01,  6.0833e-01,  ..., -1.1765e+00,\n",
      "            -1.1056e+00,  1.6590e+00],\n",
      "           [-9.2621e-01,  8.3004e-01,  6.0018e-01,  ...,  1.4294e+00,\n",
      "            -4.6051e-01,  4.7639e-01],\n",
      "           ...,\n",
      "           [-1.0019e+00, -1.0706e-01,  8.4809e-01,  ..., -9.9852e-01,\n",
      "            -6.7513e-01, -2.9532e-01],\n",
      "           [ 3.2213e-01, -4.8947e-02, -3.1307e-01,  ...,  1.9511e-01,\n",
      "             8.7526e-01, -3.5317e-01],\n",
      "           [-4.6280e-01, -1.1500e+00, -2.6883e-01,  ..., -3.6202e-01,\n",
      "            -5.6151e-03, -9.7754e-01]]],\n",
      "\n",
      "\n",
      "         ...,\n",
      "\n",
      "\n",
      "         [[[ 7.0685e-01,  3.1936e-01,  1.1112e+00,  ..., -7.3088e-01,\n",
      "            -1.2478e+00,  9.1630e-01],\n",
      "           [-2.1704e+00, -3.2994e-01,  1.3252e+00,  ...,  1.3410e-02,\n",
      "            -1.6323e+00,  5.5999e-02],\n",
      "           [-5.0038e-01,  8.3991e-01, -1.1392e-01,  ..., -5.6174e-01,\n",
      "            -4.6351e-01,  3.3084e-01],\n",
      "           ...,\n",
      "           [-2.7090e-01,  1.4691e+00, -6.1764e-01,  ...,  4.4701e-01,\n",
      "            -1.7335e+00,  3.9962e-01],\n",
      "           [ 1.0125e+00,  1.6391e-01,  9.3322e-01,  ...,  2.0223e-01,\n",
      "            -5.0130e-01,  3.3537e-01],\n",
      "           [ 2.1822e-01,  2.5570e-01, -1.5238e-01,  ..., -6.6555e-01,\n",
      "            -7.2701e-01,  9.4980e-01]],\n",
      "\n",
      "          [[ 6.2542e-01, -2.3628e+00, -2.2739e+00,  ..., -7.2592e-01,\n",
      "            -1.2734e+00,  6.0215e-01],\n",
      "           [ 8.1638e-01,  9.2676e-01, -3.4509e-01,  ...,  4.4721e-01,\n",
      "             1.0056e-01,  7.1076e-01],\n",
      "           [-2.6782e-01,  2.9354e-01, -2.3117e-01,  ...,  1.0665e+00,\n",
      "             7.5990e-01, -9.3979e-01],\n",
      "           ...,\n",
      "           [ 4.3438e-01, -4.3091e-01, -6.8524e-01,  ..., -8.7932e-01,\n",
      "             6.8654e-01,  9.1139e-01],\n",
      "           [-1.0383e-01, -6.0696e-01, -1.9243e-01,  ..., -2.0329e-01,\n",
      "            -1.1613e+00,  1.3315e+00],\n",
      "           [ 1.6113e-01,  1.3278e+00, -4.3595e-01,  ...,  1.3062e+00,\n",
      "             1.1008e+00, -3.0572e-01]],\n",
      "\n",
      "          [[ 9.1963e-01, -6.1078e-01, -1.3442e+00,  ..., -1.0501e+00,\n",
      "            -5.8174e-01,  1.0126e+00],\n",
      "           [ 1.5771e+00, -6.1883e-01,  6.0909e-01,  ...,  1.0832e+00,\n",
      "            -1.3997e+00,  8.1205e-01],\n",
      "           [ 7.5509e-02, -1.5965e-02,  1.0884e+00,  ...,  6.3596e-01,\n",
      "            -2.3597e-03, -1.1269e+00],\n",
      "           ...,\n",
      "           [ 3.6847e-01,  9.4949e-01, -5.6550e-02,  ..., -2.7692e-01,\n",
      "            -9.0043e-01, -3.1818e-01],\n",
      "           [ 1.1768e+00,  8.0580e-01,  1.7329e+00,  ...,  3.7914e-01,\n",
      "             5.0399e-02,  6.7070e-01],\n",
      "           [-4.4395e-02,  2.0305e+00, -7.0774e-01,  ..., -1.5416e+00,\n",
      "            -7.5867e-01, -6.4409e-01]]],\n",
      "\n",
      "\n",
      "         [[[-3.0173e-02,  6.5776e-01, -2.9753e+00,  ...,  7.2679e-01,\n",
      "            -1.3485e+00,  4.4202e-01],\n",
      "           [-4.2338e-01,  1.2687e-01, -1.4250e-01,  ..., -7.6208e-01,\n",
      "            -7.3335e-02,  8.8595e-01],\n",
      "           [-9.0937e-01,  1.0107e+00,  3.2294e-01,  ...,  3.9826e-01,\n",
      "            -1.1792e+00, -3.5586e-01],\n",
      "           ...,\n",
      "           [ 5.4824e-01,  9.1803e-01,  8.9954e-01,  ..., -1.0415e+00,\n",
      "             2.0944e-01, -9.4427e-02],\n",
      "           [ 4.1486e-01,  2.9415e-01,  6.8313e-02,  ..., -1.7319e-01,\n",
      "             7.7637e-01,  9.9471e-01],\n",
      "           [-1.4349e+00,  4.1838e-01, -1.1458e+00,  ..., -2.1427e-02,\n",
      "            -1.7819e-01, -1.5997e-01]],\n",
      "\n",
      "          [[-8.8985e-02, -1.4932e-01, -1.2190e+00,  ...,  1.1715e+00,\n",
      "            -8.8334e-01, -4.6186e-01],\n",
      "           [-5.6522e-01,  1.2729e+00, -3.0449e-01,  ..., -2.8496e-02,\n",
      "            -8.4167e-01,  5.3447e-01],\n",
      "           [-2.6276e-01, -9.7407e-02, -8.4536e-01,  ...,  4.7732e-01,\n",
      "             1.2555e-01, -1.1604e-01],\n",
      "           ...,\n",
      "           [-5.9320e-01, -2.0172e-01, -7.7955e-01,  ...,  1.3161e+00,\n",
      "            -1.3469e+00,  1.8815e-01],\n",
      "           [ 3.1089e-01, -7.1783e-01, -8.0829e-01,  ...,  1.0065e+00,\n",
      "             2.7432e-01,  2.6064e-01],\n",
      "           [-5.7014e-01, -9.8893e-01, -8.2492e-01,  ...,  1.8116e+00,\n",
      "             3.7186e-01, -1.8280e+00]],\n",
      "\n",
      "          [[-6.8082e-01,  8.0635e-01, -3.6347e-01,  ...,  3.8607e-01,\n",
      "            -4.3084e-01,  2.6721e-01],\n",
      "           [-2.5365e-01, -6.9274e-01,  1.0855e+00,  ...,  5.1488e-01,\n",
      "             8.5433e-01,  9.8338e-01],\n",
      "           [ 3.9962e-01, -1.0050e+00,  1.5838e+00,  ...,  1.2610e+00,\n",
      "             1.7789e-01,  5.1090e-01],\n",
      "           ...,\n",
      "           [-4.0004e-02, -7.3549e-01,  7.8053e-01,  ..., -1.2065e+00,\n",
      "            -3.7497e-01, -1.3894e+00],\n",
      "           [-4.3541e-01, -4.2726e-01,  1.4329e+00,  ..., -6.6914e-01,\n",
      "             1.6667e-01, -7.9776e-01],\n",
      "           [-1.3274e+00, -1.5247e+00, -1.7069e+00,  ...,  5.1301e-02,\n",
      "             3.4762e-01, -1.2796e+00]]],\n",
      "\n",
      "\n",
      "         [[[ 1.2285e+00, -7.8449e-02, -9.3828e-02,  ..., -1.5642e+00,\n",
      "             6.5609e-01,  1.2168e+00],\n",
      "           [ 8.3952e-01,  1.8693e+00, -1.0351e+00,  ...,  4.2148e-01,\n",
      "             1.0048e+00, -1.0032e+00],\n",
      "           [-1.2657e-01, -1.4812e-01, -3.9350e-01,  ...,  3.3907e-01,\n",
      "            -8.7507e-01, -9.3019e-01],\n",
      "           ...,\n",
      "           [-7.5519e-02,  1.8343e-01, -9.6641e-01,  ..., -1.2261e+00,\n",
      "             6.2407e-01, -1.2059e+00],\n",
      "           [-1.2482e-01, -5.9415e-01, -5.0388e-01,  ..., -1.8456e-01,\n",
      "             5.6119e-01,  1.1708e+00],\n",
      "           [ 4.5838e-01, -5.5094e-01,  2.1163e-01,  ..., -5.9090e-01,\n",
      "             6.2492e-01, -7.0875e-01]],\n",
      "\n",
      "          [[-1.4072e+00,  4.7427e-01,  3.0933e+00,  ..., -4.6531e-01,\n",
      "             4.7299e-01, -1.9034e+00],\n",
      "           [-1.5116e-01, -5.1282e-01,  2.6485e+00,  ..., -1.1043e+00,\n",
      "             1.7405e+00,  2.6204e-01],\n",
      "           [-3.5695e-01, -1.4093e+00,  1.5128e-01,  ..., -7.1038e-01,\n",
      "            -7.8329e-01,  1.8031e-01],\n",
      "           ...,\n",
      "           [ 7.4399e-01,  1.4143e+00,  8.9992e-01,  ..., -1.0299e+00,\n",
      "             2.4960e-01, -3.0150e-01],\n",
      "           [ 2.4561e+00, -8.2229e-02, -4.8269e-01,  ..., -6.5969e-01,\n",
      "             5.9318e-02,  1.0320e-01],\n",
      "           [-9.9480e-01,  9.3840e-01,  2.1181e-01,  ..., -3.0568e-02,\n",
      "            -7.4050e-01, -4.2363e-01]],\n",
      "\n",
      "          [[-7.6295e-01, -1.0125e+00, -1.0859e+00,  ..., -7.3454e-01,\n",
      "             1.7442e-01,  6.4292e-01],\n",
      "           [-1.7529e-01,  8.4838e-01,  1.8845e+00,  ..., -2.4970e-02,\n",
      "            -1.0016e+00, -7.6030e-01],\n",
      "           [ 8.1536e-01,  6.3698e-01,  1.2149e+00,  ..., -2.1108e+00,\n",
      "            -9.7609e-01,  5.5486e-01],\n",
      "           ...,\n",
      "           [ 1.5459e+00,  1.2140e+00, -2.2348e-01,  ...,  2.1790e-01,\n",
      "            -9.2016e-01, -6.7521e-01],\n",
      "           [-1.4570e+00,  7.0615e-01,  7.0767e-02,  ..., -1.2497e-01,\n",
      "            -1.0733e+00, -1.2407e+00],\n",
      "           [-1.2497e+00,  1.3487e+00, -7.8826e-02,  ..., -1.9373e+00,\n",
      "             1.5700e+00,  8.0256e-01]]]],\n",
      "\n",
      "\n",
      "\n",
      "        [[[[-2.2679e+00, -1.6568e+00, -1.2396e-01,  ..., -5.0543e-01,\n",
      "            -1.3705e+00,  6.7654e-01],\n",
      "           [ 2.0744e+00, -9.2797e-01, -7.0867e-01,  ...,  9.8927e-02,\n",
      "            -1.6730e+00,  1.0971e+00],\n",
      "           [ 1.6720e-01, -5.4424e-01, -6.3401e-01,  ...,  6.7079e-01,\n",
      "             6.2886e-01,  1.0323e+00],\n",
      "           ...,\n",
      "           [-1.2152e+00, -1.0076e+00,  1.4226e+00,  ..., -9.8869e-01,\n",
      "            -1.4000e-01,  1.3798e-01],\n",
      "           [-2.3389e-01,  1.9893e-01, -8.4404e-02,  ...,  8.6172e-01,\n",
      "            -1.5529e+00, -1.8460e-01],\n",
      "           [-5.8349e-01,  8.4826e-01,  8.0407e-01,  ..., -1.5562e+00,\n",
      "             6.7970e-01,  9.1141e-02]],\n",
      "\n",
      "          [[-1.1960e-01,  3.5663e-01,  1.3114e+00,  ...,  9.3130e-01,\n",
      "            -1.2107e+00, -7.2488e-01],\n",
      "           [ 4.4128e-01,  9.5933e-01,  5.0633e-01,  ...,  1.0498e-01,\n",
      "            -2.5118e-01,  1.8097e+00],\n",
      "           [ 8.3763e-01,  1.1848e+00, -4.2303e-01,  ..., -2.2120e-01,\n",
      "            -6.2046e-01, -4.4709e-01],\n",
      "           ...,\n",
      "           [-6.8610e-02,  1.4089e+00,  5.3605e-01,  ...,  2.3342e+00,\n",
      "            -6.5690e-01, -4.7089e-01],\n",
      "           [ 2.3901e-01,  2.3068e+00, -8.4653e-01,  ..., -1.2513e+00,\n",
      "             2.0052e+00, -7.8458e-01],\n",
      "           [-2.6160e-01, -4.2899e-01,  1.3115e-02,  ...,  9.2295e-01,\n",
      "             1.7218e+00,  1.1097e+00]],\n",
      "\n",
      "          [[-1.1625e-01, -2.1369e-02, -2.6546e-01,  ...,  1.0342e+00,\n",
      "             2.1365e+00,  1.1384e+00],\n",
      "           [ 2.0591e-01, -6.5586e-01,  4.9890e-02,  ...,  4.4366e-01,\n",
      "             2.8629e-01, -4.3957e-01],\n",
      "           [ 8.1863e-01, -1.5569e+00, -2.6988e-01,  ...,  1.1654e+00,\n",
      "            -1.0885e+00,  2.1839e+00],\n",
      "           ...,\n",
      "           [ 5.2736e-01, -1.3331e+00,  5.1329e-01,  ...,  5.2871e-01,\n",
      "            -2.1159e-01,  1.5092e+00],\n",
      "           [-1.3680e-02,  1.7110e-01, -2.8111e+00,  ..., -1.0744e+00,\n",
      "            -8.9078e-01,  8.3504e-01],\n",
      "           [-1.2815e+00,  2.1042e-01, -9.9327e-01,  ..., -1.3569e+00,\n",
      "            -2.6261e-02,  1.8321e-01]]],\n",
      "\n",
      "\n",
      "         [[[-5.0222e-01, -6.3591e-02,  2.8306e-01,  ...,  2.8404e-01,\n",
      "            -4.8382e-01,  1.2310e-01],\n",
      "           [-2.3310e+00,  2.6896e-02,  1.6109e+00,  ...,  2.3825e-01,\n",
      "            -8.5102e-01,  2.7325e-01],\n",
      "           [ 1.6302e-01,  1.6841e+00, -4.4104e-01,  ..., -1.2838e+00,\n",
      "             5.5483e-01,  5.4506e-01],\n",
      "           ...,\n",
      "           [-2.9622e-01,  5.7478e-04, -6.2848e-01,  ...,  3.4978e-01,\n",
      "             1.5087e+00,  3.7392e-01],\n",
      "           [ 1.2765e+00, -1.1422e+00, -6.1470e-01,  ...,  3.4490e-01,\n",
      "             4.0677e-01,  5.3393e-01],\n",
      "           [-5.7991e-01, -9.5797e-01, -5.1492e-01,  ..., -5.1050e-01,\n",
      "             5.8609e-01, -4.2272e-01]],\n",
      "\n",
      "          [[ 1.5973e+00, -7.7585e-01,  9.8172e-02,  ..., -4.1022e-01,\n",
      "            -3.2181e-01,  1.0223e+00],\n",
      "           [-5.8477e-01,  7.1425e-01,  1.5026e-01,  ...,  2.8641e-01,\n",
      "            -1.4039e+00, -5.2370e-01],\n",
      "           [ 6.9511e-02,  1.5825e+00, -1.0208e-01,  ...,  5.6865e-01,\n",
      "             1.1528e+00, -9.3129e-01],\n",
      "           ...,\n",
      "           [-8.9252e-01, -3.6689e-01, -1.1722e-01,  ..., -8.8972e-01,\n",
      "            -9.6277e-01,  1.0713e+00],\n",
      "           [-1.0480e+00,  1.2100e-02, -9.9348e-01,  ...,  1.0392e+00,\n",
      "             2.1630e-01, -7.9477e-01],\n",
      "           [ 1.2398e+00,  3.9476e-01, -8.0234e-01,  ...,  7.3562e-02,\n",
      "             1.5576e+00,  8.9647e-01]],\n",
      "\n",
      "          [[-1.5992e-01, -6.3131e-01, -5.7992e-01,  ...,  6.1916e-01,\n",
      "            -7.3490e-02, -4.3020e-01],\n",
      "           [ 5.3583e-01, -5.1100e-01, -1.2350e+00,  ..., -1.9902e-01,\n",
      "             9.4707e-01,  7.5895e-02],\n",
      "           [ 1.3142e-01,  2.0362e-02, -1.0462e+00,  ..., -3.6823e-01,\n",
      "            -1.6578e+00,  4.5997e-01],\n",
      "           ...,\n",
      "           [ 8.4160e-02, -4.3170e-01,  2.6815e-01,  ...,  1.2486e+00,\n",
      "             6.3346e-01,  1.2091e+00],\n",
      "           [ 2.3576e+00, -1.6892e+00, -1.0318e+00,  ..., -1.3930e-01,\n",
      "             1.0426e+00, -3.1585e+00],\n",
      "           [-6.8637e-01,  1.0266e-01, -2.3544e-01,  ...,  1.5255e+00,\n",
      "             6.6953e-01, -6.9979e-01]]],\n",
      "\n",
      "\n",
      "         [[[ 8.5469e-01, -6.5368e-01, -7.6155e-01,  ...,  1.2906e+00,\n",
      "            -6.9916e-01,  2.7053e-01],\n",
      "           [ 1.0512e+00,  6.0366e-01,  6.1630e-01,  ..., -4.6700e-01,\n",
      "            -4.4928e-01, -1.0596e+00],\n",
      "           [-3.2713e+00, -3.2574e-01, -1.0944e+00,  ..., -2.6738e-01,\n",
      "             2.0912e+00,  5.6630e-01],\n",
      "           ...,\n",
      "           [ 6.0037e-01,  1.6621e+00,  7.8796e-01,  ..., -1.5136e+00,\n",
      "            -1.5060e+00,  2.3067e+00],\n",
      "           [-6.2573e-01, -3.4033e-02, -1.4507e+00,  ...,  9.9287e-01,\n",
      "             4.7532e-01, -2.8063e+00],\n",
      "           [ 8.6376e-01, -1.2613e+00,  2.2525e-01,  ...,  1.4495e+00,\n",
      "             1.2808e+00, -7.0781e-01]],\n",
      "\n",
      "          [[-2.2640e-01,  3.1102e-01, -1.7927e-01,  ...,  1.4995e+00,\n",
      "            -1.0300e+00,  1.2001e-01],\n",
      "           [-1.0778e+00,  9.2728e-01,  7.0822e-01,  ...,  1.7755e+00,\n",
      "            -9.6084e-01,  1.5072e+00],\n",
      "           [ 1.3338e+00, -5.8802e-02, -1.3112e+00,  ..., -1.0688e+00,\n",
      "            -2.5557e-01, -2.2200e+00],\n",
      "           ...,\n",
      "           [-9.8504e-01,  1.1184e-01,  1.1590e+00,  ...,  8.3117e-01,\n",
      "            -1.7179e+00, -4.5884e-01],\n",
      "           [ 2.9561e-02,  1.1932e+00, -1.3775e+00,  ...,  5.6891e-01,\n",
      "            -1.5267e-01, -2.9346e-01],\n",
      "           [ 5.4380e-01,  4.4999e-01,  3.9922e-01,  ..., -9.7510e-01,\n",
      "            -9.3661e-01, -5.8727e-02]],\n",
      "\n",
      "          [[ 3.6764e-01,  5.4918e-02, -5.0795e-01,  ...,  2.1834e-01,\n",
      "            -6.2910e-01,  1.7023e+00],\n",
      "           [-1.0350e+00, -4.5595e-01, -1.0144e+00,  ...,  8.1199e-01,\n",
      "            -2.8416e-01, -7.8485e-01],\n",
      "           [-9.4561e-01,  1.5758e+00,  7.8222e-01,  ...,  3.5273e-01,\n",
      "             1.2297e-01, -1.8924e+00],\n",
      "           ...,\n",
      "           [-6.9774e-01,  6.7493e-01, -1.0084e+00,  ..., -1.2311e+00,\n",
      "            -4.0656e-01,  6.9972e-01],\n",
      "           [-6.7230e-01,  1.3001e-01, -5.6995e-02,  ..., -1.3980e+00,\n",
      "             1.4411e+00,  3.0974e-01],\n",
      "           [-1.2469e+00, -7.8530e-01, -8.4046e-01,  ...,  2.4920e+00,\n",
      "            -1.3699e+00,  1.0655e+00]]],\n",
      "\n",
      "\n",
      "         ...,\n",
      "\n",
      "\n",
      "         [[[ 2.2728e+00, -8.2393e-01,  7.5514e-01,  ...,  1.3748e+00,\n",
      "             2.1332e-01, -1.1706e+00],\n",
      "           [-7.8274e-02,  6.2901e-01, -1.1470e-01,  ...,  2.0551e-01,\n",
      "             2.3421e-01,  2.0056e+00],\n",
      "           [-6.1336e-02, -1.1646e-03, -6.5215e-01,  ...,  1.0709e-01,\n",
      "             7.0076e-01,  1.5456e+00],\n",
      "           ...,\n",
      "           [ 1.8094e+00, -4.4593e-01, -3.7074e-01,  ...,  6.3363e-01,\n",
      "             2.0345e+00,  5.9365e-01],\n",
      "           [ 2.8956e+00, -3.4490e-01,  1.0991e+00,  ..., -1.4155e-01,\n",
      "             1.8540e-01, -3.0618e-01],\n",
      "           [ 1.1339e+00,  7.5294e-01, -1.9293e+00,  ..., -1.1964e+00,\n",
      "            -1.7685e+00,  2.8366e-01]],\n",
      "\n",
      "          [[ 4.6863e-01, -9.4638e-01,  9.6677e-01,  ..., -5.0087e-01,\n",
      "            -1.7621e+00, -6.8861e-01],\n",
      "           [-1.7839e+00, -8.1305e-01,  4.5507e-01,  ...,  4.0473e-01,\n",
      "            -6.2143e-01, -2.0716e+00],\n",
      "           [-3.2644e-01,  2.4203e+00,  8.8600e-01,  ..., -2.4618e-02,\n",
      "            -9.5513e-01,  8.3797e-01],\n",
      "           ...,\n",
      "           [-7.1563e-01,  2.6112e+00,  6.2210e-01,  ...,  4.0508e-01,\n",
      "             1.0822e+00,  4.7002e-01],\n",
      "           [-8.5174e-01, -5.2196e-01, -1.0336e+00,  ..., -8.2602e-01,\n",
      "             8.3459e-01, -8.3635e-01],\n",
      "           [-9.1450e-01,  5.9593e-01,  1.2017e-01,  ..., -1.4708e+00,\n",
      "            -1.6402e+00, -2.1282e-01]],\n",
      "\n",
      "          [[ 7.2721e-01,  6.2557e-01, -2.8148e-01,  ..., -9.0270e-01,\n",
      "            -2.2945e+00,  2.0198e+00],\n",
      "           [ 1.9824e+00, -9.9757e-01, -3.4411e-01,  ..., -1.7440e+00,\n",
      "            -8.9279e-02, -1.2715e+00],\n",
      "           [ 1.1267e+00,  6.4992e-01, -2.7701e-01,  ...,  1.4225e+00,\n",
      "            -1.1043e+00, -5.1908e-01],\n",
      "           ...,\n",
      "           [ 1.0197e+00,  5.2759e-01,  1.4038e+00,  ...,  1.9592e-01,\n",
      "             4.6308e-02, -5.9958e-01],\n",
      "           [-1.5575e-01, -6.4362e-01, -3.5251e-01,  ...,  5.9784e-02,\n",
      "            -4.0507e-01,  1.0284e+00],\n",
      "           [ 1.0157e+00,  1.4644e+00,  5.7371e-01,  ...,  4.2411e-01,\n",
      "            -7.3994e-02,  7.1567e-01]]],\n",
      "\n",
      "\n",
      "         [[[-3.7573e-01,  5.6438e-02,  3.2321e-01,  ...,  4.8123e-02,\n",
      "            -6.6343e-01, -3.6813e-01],\n",
      "           [ 2.1830e+00,  7.2226e-01, -1.2645e+00,  ...,  1.5326e+00,\n",
      "             7.5750e-01,  6.1731e-01],\n",
      "           [-2.0015e+00, -9.9255e-01,  7.3815e-01,  ...,  2.0448e+00,\n",
      "            -1.3427e+00, -4.0018e-01],\n",
      "           ...,\n",
      "           [ 1.4062e+00,  2.5437e-01,  1.1592e+00,  ...,  5.7252e-01,\n",
      "             3.4243e-02, -9.3809e-01],\n",
      "           [-1.6774e-01,  6.8428e-02,  4.6914e-01,  ..., -1.9056e+00,\n",
      "            -1.2841e+00, -5.2279e-01],\n",
      "           [-8.7137e-01,  1.4373e+00,  1.6272e+00,  ..., -9.0333e-01,\n",
      "            -5.8348e-02, -5.5188e-01]],\n",
      "\n",
      "          [[ 8.1191e-01, -2.4346e-01, -2.5575e-01,  ..., -9.5816e-01,\n",
      "             9.5109e-01,  7.5048e-01],\n",
      "           [ 1.0934e+00,  5.2828e-01, -4.7834e-01,  ..., -1.8870e-01,\n",
      "            -3.3214e-01,  7.0729e-01],\n",
      "           [ 1.7202e+00, -1.6538e-01, -7.9463e-01,  ...,  1.1999e+00,\n",
      "            -5.9145e-01,  1.2008e-01],\n",
      "           ...,\n",
      "           [-1.7608e-01, -9.2223e-01, -2.2033e-01,  ..., -8.2931e-01,\n",
      "            -6.7216e-01, -3.7812e-01],\n",
      "           [ 1.1541e+00, -1.1870e+00,  1.5168e+00,  ...,  1.1782e+00,\n",
      "             3.3645e-01,  1.2779e+00],\n",
      "           [ 2.7169e-01,  6.8510e-01,  6.6126e-01,  ..., -4.2055e-01,\n",
      "            -6.3659e-02, -8.7059e-01]],\n",
      "\n",
      "          [[-6.7580e-01, -1.3530e-01, -1.6079e+00,  ..., -2.0012e-01,\n",
      "             2.2083e+00, -4.5752e-01],\n",
      "           [-6.0539e-02, -1.2805e+00,  5.3786e-01,  ...,  8.0328e-01,\n",
      "            -1.6741e+00,  2.8931e-02],\n",
      "           [-1.0497e+00, -3.4101e-01, -3.4504e-01,  ..., -1.1245e+00,\n",
      "             5.4083e-01,  2.8799e-01],\n",
      "           ...,\n",
      "           [-1.6925e-01,  5.1627e-01, -3.3670e-01,  ..., -4.5620e-01,\n",
      "             7.1228e-02, -3.7914e-02],\n",
      "           [-6.3430e-04, -6.9987e-01, -1.5921e+00,  ..., -2.4619e+00,\n",
      "             2.6218e-01,  9.0371e-01],\n",
      "           [ 1.5643e-01,  6.5600e-01,  1.0839e+00,  ..., -2.5959e-01,\n",
      "             1.3310e+00,  5.7771e-01]]],\n",
      "\n",
      "\n",
      "         [[[-1.6601e-01, -1.0599e+00, -2.3170e+00,  ..., -1.4058e+00,\n",
      "            -1.6132e+00, -7.0228e-01],\n",
      "           [ 4.8643e-01,  8.3324e-02,  1.3731e+00,  ...,  2.0484e-01,\n",
      "            -7.0531e-01, -1.2195e+00],\n",
      "           [ 2.3393e-01,  1.9698e-02, -4.5445e-02,  ...,  1.0597e+00,\n",
      "            -8.7762e-02, -6.5467e-01],\n",
      "           ...,\n",
      "           [-1.7794e-01,  1.8616e+00,  2.0304e+00,  ..., -9.2266e-01,\n",
      "            -5.5206e-02,  6.8588e-01],\n",
      "           [ 5.7696e-01,  9.8282e-01, -1.8203e-01,  ..., -9.8216e-01,\n",
      "             3.8869e-01,  1.1800e+00],\n",
      "           [ 1.0854e+00, -1.1421e+00,  7.3524e-01,  ..., -1.7871e-01,\n",
      "            -1.5657e+00, -5.1839e-01]],\n",
      "\n",
      "          [[ 1.4722e+00,  2.4571e-01,  3.0520e-01,  ..., -3.2148e-01,\n",
      "             3.8714e-01, -1.1023e+00],\n",
      "           [ 1.2917e-01,  3.3405e-01, -1.3434e+00,  ..., -1.1688e+00,\n",
      "            -1.3020e+00, -9.7221e-02],\n",
      "           [-7.9932e-01,  1.0566e+00, -6.0735e-01,  ..., -1.3464e+00,\n",
      "            -1.2296e+00, -5.9233e-01],\n",
      "           ...,\n",
      "           [-9.1500e-01, -7.8617e-01,  1.4008e+00,  ..., -6.9942e-01,\n",
      "            -2.2974e-01, -1.1505e+00],\n",
      "           [ 1.8689e+00,  1.3311e+00,  1.5552e-02,  ..., -2.4468e-01,\n",
      "             1.0705e+00,  6.1740e-01],\n",
      "           [ 1.1671e+00, -3.2730e-01,  8.5025e-01,  ...,  1.8304e-01,\n",
      "            -1.1451e+00,  5.8646e-02]],\n",
      "\n",
      "          [[ 1.4703e-01,  6.1412e-01,  1.4207e-01,  ...,  7.4112e-01,\n",
      "             6.7008e-01, -7.9047e-01],\n",
      "           [ 1.0566e+00,  2.8517e-02, -2.1114e-01,  ...,  8.9938e-01,\n",
      "            -1.0111e+00,  1.5263e-01],\n",
      "           [-6.3667e-01, -5.6487e-01, -1.6464e+00,  ..., -8.3653e-01,\n",
      "            -7.7922e-01, -3.4004e+00],\n",
      "           ...,\n",
      "           [-9.3578e-02, -2.5511e-01, -1.7692e+00,  ..., -6.0063e-01,\n",
      "            -1.7680e-02, -1.4075e+00],\n",
      "           [-3.5605e-01, -8.9814e-02,  5.2157e-01,  ..., -2.7458e-01,\n",
      "             2.5860e+00, -3.9294e-01],\n",
      "           [ 6.9561e-01,  5.1982e-01,  1.7017e+00,  ...,  1.2009e+00,\n",
      "            -9.1344e-01, -2.3793e-01]]]],\n",
      "\n",
      "\n",
      "\n",
      "        [[[[ 1.6139e+00,  2.0604e+00, -2.3370e+00,  ...,  6.4591e-01,\n",
      "            -8.7736e-01, -2.1323e+00],\n",
      "           [ 1.5969e-01,  5.9193e-01,  5.5423e-01,  ...,  8.7500e-02,\n",
      "             8.1847e-02,  2.5795e-01],\n",
      "           [-7.2976e-01, -1.0913e+00,  3.8398e-01,  ..., -3.7207e-01,\n",
      "             5.4596e-01,  7.1130e-01],\n",
      "           ...,\n",
      "           [ 7.3950e-02,  4.0305e-01, -5.8374e-01,  ...,  3.1340e-01,\n",
      "             2.4722e-01, -5.8239e-02],\n",
      "           [ 1.5726e-01,  1.7110e-01, -2.4577e+00,  ...,  1.4110e-01,\n",
      "             9.3604e-01,  2.7119e+00],\n",
      "           [-1.1749e-01, -8.4719e-01,  6.5343e-02,  ...,  1.8087e+00,\n",
      "             1.7785e+00,  1.1352e+00]],\n",
      "\n",
      "          [[-8.5623e-01, -6.3100e-01, -8.9959e-02,  ..., -5.3477e-01,\n",
      "             1.1599e-01,  5.0449e-01],\n",
      "           [-4.2385e-01, -4.7175e-01, -4.2759e-01,  ...,  1.4512e+00,\n",
      "             5.5622e-01,  5.9492e-02],\n",
      "           [-2.8246e-01, -2.5927e-02,  9.5140e-01,  ...,  8.2376e-01,\n",
      "             1.3528e+00, -3.3263e-01],\n",
      "           ...,\n",
      "           [ 1.2871e-01,  1.7551e+00, -7.3165e-01,  ...,  9.4930e-01,\n",
      "            -3.6333e-01,  1.0646e+00],\n",
      "           [-2.7992e-01, -1.8802e-01,  1.7794e+00,  ..., -1.3151e+00,\n",
      "            -1.4163e+00,  3.5294e-01],\n",
      "           [-5.5735e-01,  1.8058e+00, -1.3801e-01,  ..., -1.3045e+00,\n",
      "            -9.9892e-02, -9.7185e-01]],\n",
      "\n",
      "          [[-3.1825e-01,  1.7187e-03,  2.1334e-01,  ..., -8.8199e-01,\n",
      "            -2.7246e+00, -9.3339e-02],\n",
      "           [-1.3820e+00,  5.7967e-01, -1.8982e+00,  ..., -1.2861e+00,\n",
      "             1.3756e+00,  5.2763e-01],\n",
      "           [ 9.4140e-01, -1.9432e-01,  2.5812e+00,  ...,  5.7168e-02,\n",
      "            -6.5062e-01, -8.5793e-01],\n",
      "           ...,\n",
      "           [-2.4394e+00, -1.5973e+00, -7.8646e-01,  ...,  2.9093e-01,\n",
      "            -3.8574e-01,  1.9329e+00],\n",
      "           [ 1.0901e+00, -2.4650e+00,  4.8184e-01,  ..., -1.0066e-01,\n",
      "             1.3841e+00, -1.2657e-01],\n",
      "           [ 8.5738e-01,  1.6714e-02, -8.0558e-01,  ..., -8.7684e-02,\n",
      "            -5.9000e-01,  5.9298e-01]]],\n",
      "\n",
      "\n",
      "         [[[ 1.0535e+00, -4.9446e-01,  2.8555e+00,  ..., -1.6518e+00,\n",
      "             9.0843e-02, -5.9965e-01],\n",
      "           [-5.2095e-01,  5.7946e-02, -5.8808e-01,  ..., -1.5604e+00,\n",
      "             2.1204e+00,  8.7490e-01],\n",
      "           [-9.7496e-01,  4.6749e-01, -5.7356e-01,  ..., -3.6430e-01,\n",
      "             1.1288e-01, -5.6641e-01],\n",
      "           ...,\n",
      "           [-7.5924e-01,  1.3662e+00,  1.0295e+00,  ..., -4.6731e-01,\n",
      "             7.2826e-01, -8.2446e-01],\n",
      "           [ 1.4856e+00, -3.2424e-01,  1.5984e-01,  ..., -1.2075e+00,\n",
      "             8.0115e-01, -8.0441e-01],\n",
      "           [-1.0614e+00,  2.1258e+00, -5.3152e-01,  ..., -3.9383e-01,\n",
      "            -1.5025e-01,  1.6239e+00]],\n",
      "\n",
      "          [[ 1.1879e+00,  1.0201e+00,  3.0639e-02,  ...,  7.4337e-01,\n",
      "             5.0910e-01, -9.1439e-01],\n",
      "           [ 3.7431e-01, -5.9542e-01,  4.6555e-01,  ...,  1.4505e+00,\n",
      "            -2.3632e+00, -1.0090e-02],\n",
      "           [ 3.4110e-01,  1.2334e+00, -7.2019e-01,  ...,  1.2351e+00,\n",
      "            -2.6713e-01,  7.0449e-01],\n",
      "           ...,\n",
      "           [-8.0552e-01,  9.1547e-01, -3.2641e-02,  ...,  1.6705e-01,\n",
      "            -1.5787e-01, -3.7704e-01],\n",
      "           [ 1.1772e+00,  1.9804e-01,  4.4124e-01,  ..., -5.1559e-01,\n",
      "             3.9093e-01, -6.4912e-01],\n",
      "           [ 1.3328e+00,  1.7139e+00,  3.1324e-01,  ...,  4.2600e-01,\n",
      "             8.8745e-02,  5.3001e-01]],\n",
      "\n",
      "          [[ 2.0969e-01,  4.6163e-01,  1.0230e+00,  ...,  1.6784e-01,\n",
      "             1.1628e+00,  3.8211e-01],\n",
      "           [-7.4972e-01, -1.6470e+00,  6.2134e-01,  ..., -2.3660e+00,\n",
      "             2.6434e-01, -9.7849e-01],\n",
      "           [-5.9526e-01, -8.6187e-01,  1.2850e+00,  ...,  1.1270e-01,\n",
      "            -1.7705e-01,  2.5428e+00],\n",
      "           ...,\n",
      "           [-1.4401e+00,  1.2367e-01, -1.7545e+00,  ..., -1.1457e-01,\n",
      "             1.0892e+00, -1.2027e+00],\n",
      "           [-1.0373e+00, -2.3292e-01, -6.9479e-02,  ...,  6.3719e-01,\n",
      "            -2.4623e+00, -1.6815e+00],\n",
      "           [-1.1796e-01, -7.2437e-01, -9.5862e-01,  ...,  2.0192e+00,\n",
      "            -2.5360e+00,  1.3448e-01]]],\n",
      "\n",
      "\n",
      "         [[[ 1.2334e+00,  2.3443e-01, -2.1109e-01,  ...,  9.2851e-01,\n",
      "             2.9681e-01,  9.6603e-01],\n",
      "           [ 1.9173e+00,  2.9055e-01, -1.2863e+00,  ..., -1.1972e+00,\n",
      "            -2.2398e+00,  1.4281e+00],\n",
      "           [-2.0199e-01,  5.1356e-01, -4.6931e-01,  ..., -3.7507e-01,\n",
      "             9.5243e-01, -2.1679e-01],\n",
      "           ...,\n",
      "           [ 8.5277e-01, -1.7973e-02, -2.6435e-01,  ..., -1.1021e+00,\n",
      "            -1.3117e+00, -1.0681e+00],\n",
      "           [ 2.5343e+00, -1.4041e+00,  7.3304e-01,  ...,  2.6966e+00,\n",
      "             5.7901e-01,  1.4945e-01],\n",
      "           [-5.1188e-01, -7.9268e-01,  4.9359e-02,  ..., -5.1800e-01,\n",
      "             6.9666e-01,  1.2874e-01]],\n",
      "\n",
      "          [[ 6.3312e-01,  8.1076e-01,  2.2708e+00,  ...,  2.0352e-01,\n",
      "             1.3328e-01,  5.9436e-01],\n",
      "           [-1.0486e+00,  2.8768e-02,  2.7650e-01,  ...,  1.0560e+00,\n",
      "             8.5768e-01,  5.5721e-02],\n",
      "           [-1.2427e+00,  1.7607e+00,  4.1919e-01,  ...,  3.7791e-01,\n",
      "            -9.5171e-02, -1.0930e+00],\n",
      "           ...,\n",
      "           [-4.1123e-01, -3.2217e-01, -9.1075e-01,  ..., -6.2634e-01,\n",
      "             1.3010e-01,  1.3618e+00],\n",
      "           [ 6.8086e-01, -1.9889e+00, -8.8068e-01,  ...,  5.0869e-01,\n",
      "            -1.5108e+00, -4.8268e-01],\n",
      "           [ 7.2841e-01, -6.3507e-01, -6.0978e-01,  ...,  9.7785e-01,\n",
      "             1.0798e+00,  4.5502e-01]],\n",
      "\n",
      "          [[ 3.7262e-01, -4.6576e-02, -1.0736e+00,  ...,  1.1814e+00,\n",
      "            -1.5399e+00,  3.2722e-01],\n",
      "           [-2.6129e-03,  1.4932e+00,  6.3174e-01,  ..., -6.3539e-01,\n",
      "             1.6878e+00,  2.8586e-01],\n",
      "           [ 8.4517e-01, -9.8377e-01,  8.3501e-01,  ..., -9.4623e-01,\n",
      "            -8.3717e-01,  2.0853e-01],\n",
      "           ...,\n",
      "           [-2.9748e-01, -1.4371e-01, -9.6554e-01,  ...,  5.4512e-01,\n",
      "            -2.2230e+00,  2.1806e-01],\n",
      "           [-1.0193e-02, -4.1702e-01, -3.6772e-01,  ...,  1.6047e+00,\n",
      "            -4.6209e-01, -4.8215e-01],\n",
      "           [-3.6095e-01,  3.7981e-01,  1.1502e+00,  ..., -1.0986e+00,\n",
      "             2.0475e-01,  1.1435e+00]]],\n",
      "\n",
      "\n",
      "         ...,\n",
      "\n",
      "\n",
      "         [[[-1.0925e+00, -6.7519e-01,  1.3487e+00,  ...,  1.8111e-01,\n",
      "            -1.4330e+00,  2.4094e-01],\n",
      "           [-1.9205e+00,  1.3816e+00, -2.7353e+00,  ...,  5.6998e-01,\n",
      "             2.4474e-01, -2.8488e-01],\n",
      "           [-1.7531e+00, -6.0627e-01, -3.8409e-01,  ...,  1.2412e+00,\n",
      "             3.3539e-01,  1.3407e+00],\n",
      "           ...,\n",
      "           [-3.2133e-01,  1.3224e+00,  7.8711e-01,  ..., -1.0613e+00,\n",
      "             1.1166e-01, -1.9465e-01],\n",
      "           [ 6.2376e-01, -4.2478e-01, -4.9537e-01,  ...,  1.7614e-02,\n",
      "             4.0563e-01,  1.2752e+00],\n",
      "           [ 4.4841e-01, -1.9969e-01, -9.9176e-01,  ..., -2.1417e+00,\n",
      "             2.7645e-01, -2.6553e+00]],\n",
      "\n",
      "          [[-1.9217e+00, -2.0812e-01,  8.6310e-01,  ...,  1.2061e+00,\n",
      "             6.6190e-01, -1.1675e+00],\n",
      "           [ 6.4347e-01,  2.0719e+00,  1.1132e+00,  ...,  4.5514e-01,\n",
      "            -1.6851e+00, -6.5633e-01],\n",
      "           [-3.6552e-01,  1.4175e+00,  7.1644e-01,  ..., -2.1108e+00,\n",
      "            -9.5116e-01,  5.6823e-02],\n",
      "           ...,\n",
      "           [ 1.9061e-01,  4.4710e-01, -4.4604e-01,  ...,  7.6357e-01,\n",
      "            -1.6533e+00, -8.8370e-01],\n",
      "           [-1.3849e+00,  1.2202e-01, -2.1226e+00,  ...,  1.0956e+00,\n",
      "             2.3145e+00, -1.4585e+00],\n",
      "           [ 8.7104e-02,  6.5234e-01, -1.3305e-01,  ...,  2.2156e+00,\n",
      "            -5.0286e-01, -8.0332e-01]],\n",
      "\n",
      "          [[-4.7205e-02, -1.8287e-01,  1.7696e-01,  ...,  1.7810e-01,\n",
      "            -1.9709e+00, -8.6593e-02],\n",
      "           [ 1.7391e-01,  8.9659e-01,  4.1829e-01,  ...,  1.6098e+00,\n",
      "            -5.0459e-02, -8.7023e-01],\n",
      "           [-1.0108e+00, -4.5880e-01, -1.0333e+00,  ...,  9.3068e-01,\n",
      "            -6.6412e-01,  1.4121e-02],\n",
      "           ...,\n",
      "           [ 2.5662e-01, -6.3139e-01, -2.7385e-01,  ...,  1.7679e-01,\n",
      "             1.3482e+00,  1.0255e+00],\n",
      "           [ 1.1243e+00, -1.2020e+00,  3.4508e-01,  ..., -8.9180e-01,\n",
      "             5.4379e-01, -6.1759e-01],\n",
      "           [-1.1946e+00, -6.1039e-01,  1.0067e+00,  ...,  5.1320e-01,\n",
      "            -8.7903e-01,  1.0100e+00]]],\n",
      "\n",
      "\n",
      "         [[[ 2.0584e-01,  3.5167e-01, -5.2998e-01,  ..., -3.1318e-01,\n",
      "            -5.6311e-01, -8.3202e-02],\n",
      "           [-1.7487e+00, -3.0094e-01,  5.1053e-01,  ...,  2.5726e-01,\n",
      "            -6.9147e-01,  2.8026e+00],\n",
      "           [ 1.9337e-01,  7.5295e-01, -7.8116e-02,  ..., -2.1073e+00,\n",
      "             1.2639e-01,  9.5290e-01],\n",
      "           ...,\n",
      "           [ 1.5753e+00,  2.2400e-01, -1.0493e+00,  ..., -8.3793e-01,\n",
      "            -3.7259e-01, -5.4412e-01],\n",
      "           [ 1.0847e+00,  1.9686e-01, -8.9820e-03,  ...,  1.4610e+00,\n",
      "             5.6645e-01,  1.2840e+00],\n",
      "           [ 5.8251e-01,  1.0895e-01,  1.0050e+00,  ...,  8.1207e-01,\n",
      "            -3.1711e-01,  9.1163e-01]],\n",
      "\n",
      "          [[-3.7179e-01,  2.4054e-01, -4.1702e-01,  ..., -2.2429e+00,\n",
      "            -2.4373e-01, -4.1556e-01],\n",
      "           [ 1.0228e+00, -2.6716e-01,  1.6961e+00,  ..., -5.1614e-01,\n",
      "            -1.0122e+00,  1.1908e-01],\n",
      "           [ 9.2275e-01, -1.6788e+00,  7.8885e-01,  ...,  5.7922e-01,\n",
      "            -9.5422e-01,  2.0644e+00],\n",
      "           ...,\n",
      "           [-6.4187e-01, -1.6849e-01,  2.0140e+00,  ...,  1.4300e+00,\n",
      "             1.3861e+00,  1.7713e-01],\n",
      "           [ 5.4813e-01, -1.7057e+00,  5.1719e-01,  ...,  9.8071e-01,\n",
      "            -2.6987e-01, -6.5597e-01],\n",
      "           [ 3.6243e-01,  7.8501e-01, -1.7517e-01,  ..., -1.7156e+00,\n",
      "             7.6939e-01,  8.8761e-01]],\n",
      "\n",
      "          [[ 2.6202e+00, -7.1898e-01,  6.1571e-01,  ...,  1.0229e+00,\n",
      "            -2.4028e-01,  2.3942e-01],\n",
      "           [-3.2016e-01,  1.4455e-01,  1.1604e+00,  ..., -1.7450e-01,\n",
      "            -1.8881e-01, -8.6896e-01],\n",
      "           [ 5.2441e-01,  4.4420e-01,  3.0230e-01,  ...,  5.8633e-02,\n",
      "            -5.8906e-01, -3.5969e-01],\n",
      "           ...,\n",
      "           [ 5.5766e-01,  7.3087e-01,  9.6712e-01,  ..., -1.1487e+00,\n",
      "             7.7732e-01, -1.2394e+00],\n",
      "           [-9.6444e-01, -4.3844e-01, -7.9555e-01,  ..., -1.1966e-01,\n",
      "            -1.8070e-01,  6.1466e-01],\n",
      "           [ 8.7961e-02,  5.5380e-01,  3.5166e-01,  ...,  7.0352e-01,\n",
      "             2.3064e-01,  5.5975e-01]]],\n",
      "\n",
      "\n",
      "         [[[-5.9707e-01,  2.2565e-01,  2.6797e+00,  ..., -4.2552e-01,\n",
      "            -2.2591e+00, -7.7061e-01],\n",
      "           [ 4.7846e-01,  1.5482e+00, -1.1629e+00,  ...,  2.7880e-01,\n",
      "             1.2193e+00,  5.7852e-01],\n",
      "           [ 1.2031e+00, -1.1950e+00,  4.8509e-01,  ..., -4.4859e-01,\n",
      "            -5.4744e-01,  1.4964e-01],\n",
      "           ...,\n",
      "           [ 3.8509e-01, -1.6537e-01,  8.8528e-01,  ..., -9.6798e-01,\n",
      "            -1.1745e+00,  6.6374e-02],\n",
      "           [ 3.0046e-01, -3.8123e-01, -4.6887e-01,  ..., -1.7952e-01,\n",
      "             3.9908e-01,  1.0818e+00],\n",
      "           [-1.5669e+00, -1.2210e+00,  3.9611e-01,  ...,  1.1118e+00,\n",
      "            -2.7673e-01, -6.8097e-01]],\n",
      "\n",
      "          [[-2.8005e-01,  5.7870e-01,  7.5613e-01,  ..., -2.8075e-01,\n",
      "            -4.8141e-01, -5.8483e-01],\n",
      "           [ 5.8446e-01,  1.4855e+00, -1.8344e-01,  ...,  4.7920e-01,\n",
      "            -1.2545e+00,  1.2618e+00],\n",
      "           [-5.9936e-01,  3.6792e-01, -3.8049e-01,  ...,  7.8092e-01,\n",
      "            -1.3417e-01, -1.5934e-01],\n",
      "           ...,\n",
      "           [-2.8789e-01, -7.3462e-01, -7.7552e-01,  ...,  4.5511e-01,\n",
      "             4.2793e-01,  9.4160e-01],\n",
      "           [ 5.7529e-01, -2.3573e-01, -1.2404e-01,  ..., -5.1917e-01,\n",
      "            -6.5455e-01, -1.1065e+00],\n",
      "           [ 7.7160e-02, -1.6418e-01, -9.7534e-01,  ...,  3.8263e-01,\n",
      "             4.8844e-01,  1.3608e+00]],\n",
      "\n",
      "          [[ 1.9415e+00, -2.2005e-01, -4.7384e-01,  ..., -5.5103e-01,\n",
      "             1.5740e-02,  1.1666e-01],\n",
      "           [ 2.2697e-01,  1.1299e+00, -9.7308e-01,  ...,  2.3987e+00,\n",
      "            -1.2685e+00, -5.6456e-01],\n",
      "           [-9.7364e-01, -2.8691e-01,  1.1900e-01,  ..., -1.1643e+00,\n",
      "            -7.6833e-01, -1.0219e-01],\n",
      "           ...,\n",
      "           [-1.5408e-01,  2.6804e-01, -1.2011e+00,  ..., -2.2835e-01,\n",
      "            -3.9904e-02, -4.9541e-01],\n",
      "           [ 8.1538e-01, -6.6134e-02,  1.4687e+00,  ...,  4.7191e-01,\n",
      "            -1.0484e+00,  1.5332e+00],\n",
      "           [-5.6332e-01,  1.6808e-01,  6.5412e-01,  ..., -1.4656e+00,\n",
      "             2.0544e-01,  6.0707e-01]]]]])\n",
      "torch.Size([128, 10, 3, 64, 64])\n",
      "torch.Size([128, 3, 64, 64])\n",
      "torch.Size([128, 3, 64])\n",
      "torch.Size([128, 1, 64])\n"
     ]
    }
   ],
   "source": [
    "# Create a tensor of shape (128, 10, 3, 64, 64)\n",
    "x = torch.randn(128, 10, 3, 64, 64)\n",
    "print(x)\n",
    "print(x.shape)\n",
    "\n",
    "# Take the mean over dimension 1; shape is now (128, 3, 64, 64)\n",
    "x = x.mean(dim=1)\n",
    "print(x.shape)\n",
    "\n",
    "# Take the sum over dimension 2; shape is now (128, 3, 64)\n",
    "x = x.sum(dim=2)\n",
    "print(x.shape)\n",
    "\n",
    "# Take the mean over dimension 1, but keep the dimension from being eliminated\n",
    "# by passing keepdim=True; shape is now (128, 1, 64)\n",
    "x = x.mean(dim=1, keepdim=True)\n",
    "print(x.shape)"
   ]
  },
  {
   "cell_type": "code",
   "execution_count": null,
   "metadata": {},
   "outputs": [],
   "source": []
  },
  {
   "cell_type": "markdown",
   "metadata": {
    "colab_type": "text",
    "id": "gXMp4tcM0Q_E"
   },
   "source": [
    "**Your turn**: In the file `pytorch101.py`, implement the function `zero_row_min` which sets the minimum value along each row of a tensor to zero. You should use reduction and indexing operations, and you should not use any explicit loops.\n",
    "\n",
    "Hint: [`clone`](https://pytorch.org/docs/stable/tensors.html#torch.Tensor.clone), [`argmin`](https://pytorch.org/docs/stable/tensors.html#torch.Tensor.argmin)"
   ]
  },
  {
   "cell_type": "code",
   "execution_count": null,
   "metadata": {
    "colab": {
     "base_uri": "https://localhost:8080/",
     "height": 306
    },
    "colab_type": "code",
    "id": "aaJzt-Y62blF",
    "outputId": "efe4efcd-e0d1-45ef-85d9-8b4487f8aea9"
   },
   "outputs": [],
   "source": [
    "from pytorch101 import zero_row_min\n",
    "\n",
    "x0 = torch.tensor([[10, 20, 30], [2, 5, 1]])\n",
    "print('Here is x0:')\n",
    "print(x0)\n",
    "y0 = zero_row_min(x0)\n",
    "print('Here is y0:')\n",
    "print(y0)\n",
    "expected = [[0, 20, 30], [2, 5, 0]]\n",
    "y0_correct = torch.is_tensor(y0) and y0.tolist() == expected\n",
    "print('y0 correct: ', y0_correct)\n",
    "\n",
    "x1 = torch.tensor([[2, 5, 10, -1], [1, 3, 2, 4], [5, 6, 2, 10]])\n",
    "print('\\nHere is x1:')\n",
    "print(x1)\n",
    "y1 = zero_row_min(x1)\n",
    "print('Here is y1:')\n",
    "print(y1)\n",
    "expected = [[2, 5, 10, 0], [0, 3, 2, 4], [5, 6, 0, 10]]\n",
    "y1_correct = torch.is_tensor(y1) and y1.tolist() == expected\n",
    "print('y1 correct: ', y1_correct)"
   ]
  },
  {
   "cell_type": "markdown",
   "metadata": {
    "colab_type": "text",
    "id": "lRyLyXU2u29N"
   },
   "source": [
    "### Matrix operations"
   ]
  },
  {
   "cell_type": "markdown",
   "metadata": {
    "colab_type": "text",
    "id": "7DwjbapG6MM_"
   },
   "source": [
    "Note that unlike MATLAB, * is elementwise multiplication, not matrix multiplication. PyTorch provides a number of linear algebra functions that compute different types of vector and matrix products. The most commonly used are:\n",
    "\n",
    "- [`torch.dot`](https://pytorch.org/docs/stable/generated/torch.dot.html#torch.dot): Computes inner product of vectors\n",
    "- [`torch.mm`](https://pytorch.org/docs/stable/generated/torch.mm.html#torch.mm): Computes matrix-matrix products\n",
    "- [`torch.mv`](https://pytorch.org/docs/stable/generated/torch.mv.html#torch.mv): Computes matrix-vector products\n",
    "- [`torch.addmm`](https://pytorch.org/docs/stable/generated/torch.addmm.html#torch.addmm) / [`torch.addmv`](https://pytorch.org/docs/stable/generated/torch.addmv.html#torch.addmv): Computes matrix-matrix and matrix-vector multiplications plus a bias\n",
    "- [`torch.bmm`](https://pytorch.org/docs/stable/generated/torch.bmm.html#torch.bmm) / [`torch.baddmm`](https://pytorch.org/docs/stable/generated/torch.baddbmm.html#torch.baddbmm): Batched versions of `torch.mm` and `torch.addmm`, respectively\n",
    "- [`torch.matmul`](https://pytorch.org/docs/stable/generated/torch.matmul.html#torch.matmul): General matrix product that performs different operations depending on the rank of the inputs. Confusingly, this is similar to `np.dot` in numpy.\n",
    "\n",
    "You can find a full list of the available linear algebra operators [in the documentation](https://pytorch.org/docs/stable/torch.html#blas-and-lapack-operations).\n",
    "\n",
    "Here is an example of using `torch.dot` to compute inner products. Like the other mathematical operators we've seen, most linear algebra operators are available both as functions in the `torch` module and as instance methods of tensors:"
   ]
  },
  {
   "cell_type": "code",
   "execution_count": 12,
   "metadata": {
    "colab": {
     "base_uri": "https://localhost:8080/",
     "height": 187
    },
    "colab_type": "code",
    "id": "TRUYW2as6ZCh",
    "outputId": "cc9cd4cb-15a5-4a37-acba-9c4942383f65"
   },
   "outputs": [
    {
     "name": "stdout",
     "output_type": "stream",
     "text": [
      "Dot products:\n",
      "tensor(219.)\n",
      "tensor(219.)\n",
      "1D tensors expected, but got 2D and 2D tensors\n",
      "\n",
      "Matrix-matrix product:\n",
      "tensor([[19., 22.],\n",
      "        [43., 50.]])\n",
      "tensor([[19., 22.],\n",
      "        [43., 50.]])\n"
     ]
    }
   ],
   "source": [
    "v = torch.tensor([9,10], dtype=torch.float32)\n",
    "w = torch.tensor([11, 12], dtype=torch.float32)\n",
    "\n",
    "# Inner product of vectors\n",
    "print('Dot products:')\n",
    "print(torch.dot(v, w))\n",
    "print(v.dot(w))\n",
    "\n",
    "# dot only works for vectors -- it will give an error for tensors of rank > 1\n",
    "x = torch.tensor([[1,2],[3,4]], dtype=torch.float32)\n",
    "y = torch.tensor([[5,6],[7,8]], dtype=torch.float32)\n",
    "try:\n",
    "  print(x.dot(y))\n",
    "except RuntimeError as e:\n",
    "  print(e)\n",
    "  \n",
    "# Instead we use mm for matrix-matrix products:\n",
    "print('\\nMatrix-matrix product:')\n",
    "print(torch.mm(x, y))\n",
    "print(x.mm(y))"
   ]
  },
  {
   "cell_type": "markdown",
   "metadata": {
    "colab_type": "text",
    "id": "MQRxK34KdHm3"
   },
   "source": [
    "With all the different linear algebra operators that PyTorch provides, there is usually more than one way to compute something. For example to compute matrix-vector products we can use `torch.mv`; we can reshape the vector to have rank 2 and use `torch.mm`; or we can use `torch.matmul`. All give the same results, but the outputs might have different ranks:"
   ]
  },
  {
   "cell_type": "code",
   "execution_count": null,
   "metadata": {
    "colab": {
     "base_uri": "https://localhost:8080/",
     "height": 357
    },
    "colab_type": "code",
    "id": "qqEzcnHkdRYA",
    "outputId": "6c6618ad-56af-4e08-a2a6-deeae1263706"
   },
   "outputs": [],
   "source": [
    "print('Here is x (rank 2):')\n",
    "print(x)\n",
    "print('\\nHere is v (rank 1):')\n",
    "print(v)\n",
    "\n",
    "# Matrix-vector multiply with torch.mv produces a rank-1 output\n",
    "print('\\nMatrix-vector product with torch.mv (rank 1 output)')\n",
    "print(torch.mv(x, v))\n",
    "print(x.mv(v))\n",
    "\n",
    "# We can reshape the vector to have rank 2 and use torch.mm to perform\n",
    "# matrix-vector products, but the result will have rank 2\n",
    "print('\\nMatrix-vector product with torch.mm (rank 2 output)')\n",
    "print(torch.mm(x, v.view(2, 1)))\n",
    "print(x.mm(v.view(2, 1)))\n",
    "\n",
    "print('\\nMatrix-vector product with torch.matmul (rank 1 output)')\n",
    "print(torch.matmul(x, v))\n",
    "print(x.matmul(v))"
   ]
  },
  {
   "cell_type": "markdown",
   "metadata": {
    "colab_type": "text",
    "id": "-eqQJ5IUjtNT"
   },
   "source": [
    "**Your turn**: In the file `pytorch101.py`, implement the function `batched_matrix_multiply`. You should implement two pathways within this function: one that uses an explicit loop over the batch dimension, and another that performs the batched matrix multiply using a single PyTorch operation and no explicit loop.\n",
    "\n",
    "Hint: [`torch.stack`](https://pytorch.org/docs/master/generated/torch.stack.html), [`bmm`](https://pytorch.org/docs/stable/generated/torch.bmm.html#torch.bmm)\n",
    "\n"
   ]
  },
  {
   "cell_type": "code",
   "execution_count": null,
   "metadata": {
    "colab": {
     "base_uri": "https://localhost:8080/",
     "height": 102
    },
    "colab_type": "code",
    "id": "sZD1VQHKVTRQ",
    "outputId": "5ce63c85-10c1-4c1f-9a13-11e0c65b40d9"
   },
   "outputs": [],
   "source": [
    "from pytorch101 import batched_matrix_multiply\n",
    "\n",
    "B, N, M, P = 2, 3, 5, 4\n",
    "x = torch.randn(B, N, M)\n",
    "y = torch.randn(B, M, P)\n",
    "z_expected = torch.stack([x[0] @ y[0], x[1] @ y[1]])\n",
    "\n",
    "# The two may not return exactly the same result; different linear algebra\n",
    "# routines often return slightly different results due to the fact that\n",
    "# floating-point math is non-exact and non-associative.\n",
    "z1 = batched_matrix_multiply(x, y, use_loop=True)\n",
    "z1_diff = (z1 - z_expected).abs().max().item()\n",
    "print('z1 difference: ', z1_diff)\n",
    "print('z1 difference within tolerance: ', z1_diff < 1e-6)\n",
    "\n",
    "z2 = batched_matrix_multiply(x, y, use_loop=False)\n",
    "z2_diff = (z2 - z_expected).abs().max().item()\n",
    "print('\\nz2 difference: ', z2_diff)\n",
    "print('z2 difference within tolerance: ', z2_diff < 1e-6)"
   ]
  },
  {
   "cell_type": "markdown",
   "metadata": {
    "colab_type": "text",
    "id": "mbCVOr2sVTRR"
   },
   "source": [
    "### Vectorization\n",
    "In many cases, avoiding explicit Python loops in your code and instead using PyTorch operators to handle looping internally will cause your code to run a lot faster. This style of writing code, called **vectorization**, avoids overhead from the Python interpreter, and can also better parallelize the computation (e.g. across CPU cores, on on GPUs). Whenever possible you should strive to write vectorized code.\n",
    "\n",
    "Run the following the compare the speed of the `batched_matrix_multiply` with `use_loop=True` and with `use_loop=False`."
   ]
  },
  {
   "cell_type": "code",
   "execution_count": null,
   "metadata": {
    "colab": {
     "base_uri": "https://localhost:8080/",
     "height": 279
    },
    "colab_type": "code",
    "id": "a-acTIOpVTRR",
    "outputId": "23233526-944f-4cea-8f95-eeaca2fa94eb"
   },
   "outputs": [],
   "source": [
    "import time\n",
    "import matplotlib.pyplot as plt\n",
    "from pytorch101 import batched_matrix_multiply\n",
    "\n",
    "N, M, P = 100, 100, 100\n",
    "loop_times = []\n",
    "no_loop_times = []\n",
    "Bs = list(range(5, 100, 5))\n",
    "num_trials = 20\n",
    "for B in Bs:\n",
    "    loop_trials = []\n",
    "    no_loop_trials = []\n",
    "    for trial in range(num_trials):\n",
    "        x = torch.randn(B, N, M)\n",
    "        y = torch.randn(B, M, P)\n",
    "        t0 = time.time()\n",
    "        z1 = batched_matrix_multiply(x, y, use_loop=True)\n",
    "        t1 = time.time()\n",
    "        z2 = batched_matrix_multiply(x, y, use_loop=False)\n",
    "        t2 = time.time()\n",
    "        loop_trials.append(t1 - t0)\n",
    "        no_loop_trials.append(t2 - t1)\n",
    "    loop_mean = torch.tensor(loop_trials).mean().item()\n",
    "    no_loop_mean = torch.tensor(no_loop_trials).mean().item()\n",
    "    loop_times.append(loop_mean)\n",
    "    no_loop_times.append(no_loop_mean)\n",
    "    \n",
    "plt.plot(Bs, loop_times, 'o-', label='use_loop=True')\n",
    "plt.plot(Bs, no_loop_times, 'o-', label='use_loop=False')\n",
    "plt.xlabel('Batch size B')\n",
    "plt.ylabel('Runtime (s)')\n",
    "plt.legend()\n",
    "plt.show()"
   ]
  },
  {
   "cell_type": "markdown",
   "metadata": {
    "colab_type": "text",
    "id": "UISn2pcf9QjY"
   },
   "source": [
    "## Broadcasting"
   ]
  },
  {
   "cell_type": "markdown",
   "metadata": {
    "colab_type": "text",
    "id": "fTj6f8VN9UZg"
   },
   "source": [
    "Broadcasting is a powerful mechanism that allows PyTorch to work with arrays of different shapes when performing arithmetic operations. Frequently we have a smaller tensor and a larger tensor, and we want to use the smaller tensor multiple times to perform some operation on the larger tensor.\n",
    "\n",
    "For example, suppose that we want to add a constant vector to each row of a tensor. We could do it like this:\n"
   ]
  },
  {
   "cell_type": "code",
   "execution_count": null,
   "metadata": {
    "colab": {
     "base_uri": "https://localhost:8080/",
     "height": 85
    },
    "colab_type": "code",
    "id": "kF0Dhzlu9fef",
    "outputId": "77826484-6cad-4953-ecbe-099c4460c0e0"
   },
   "outputs": [],
   "source": [
    "# We will add the vector v to each row of the matrix x,\n",
    "# storing the result in the matrix y\n",
    "x = torch.tensor([[1,2,3], [4,5,6], [7,8,9], [10, 11, 12]])\n",
    "v = torch.tensor([1, 0, 1])\n",
    "y = torch.zeros_like(x)   # Create an empty matrix with the same shape as x\n",
    "\n",
    "# Add the vector v to each row of the matrix x with an explicit loop\n",
    "for i in range(4):\n",
    "    y[i, :] = x[i, :] + v\n",
    "\n",
    "print(y)"
   ]
  },
  {
   "cell_type": "markdown",
   "metadata": {
    "colab_type": "text",
    "id": "7gXpoBKE9vp7"
   },
   "source": [
    "This works; however when the tensor x is very large, computing an explicit loop in Python could be slow. Note that adding the vector v to each row of the tensor x is equivalent to forming a tensor vv by stacking multiple copies of v vertically, then performing elementwise summation of x and vv. We could implement this approach like this:\n"
   ]
  },
  {
   "cell_type": "code",
   "execution_count": null,
   "metadata": {
    "colab": {
     "base_uri": "https://localhost:8080/",
     "height": 85
    },
    "colab_type": "code",
    "id": "_2_5cKeu94c2",
    "outputId": "2ff7ec2f-28ff-4f61-ca72-96ccd0b6464b"
   },
   "outputs": [],
   "source": [
    "vv = v.repeat((4, 1))  # Stack 4 copies of v on top of each other\n",
    "print(vv)              # Prints \"[[1 0 1]\n",
    "                       #          [1 0 1]\n",
    "                       #          [1 0 1]\n",
    "                       #          [1 0 1]]\""
   ]
  },
  {
   "cell_type": "code",
   "execution_count": null,
   "metadata": {
    "colab": {
     "base_uri": "https://localhost:8080/",
     "height": 85
    },
    "colab_type": "code",
    "id": "1KiRj23p-QIs",
    "outputId": "4e08cbed-1ca2-4c55-eb37-beed43f19bdb"
   },
   "outputs": [],
   "source": [
    "y = x + vv  # Add x and vv elementwise\n",
    "print(y)"
   ]
  },
  {
   "cell_type": "markdown",
   "metadata": {
    "colab_type": "text",
    "id": "A7NNlSsHBKib"
   },
   "source": [
    "PyTorch broadcasting allows us to perform this computation without actually creating multiple copies of v. Consider this version, using broadcasting:"
   ]
  },
  {
   "cell_type": "code",
   "execution_count": null,
   "metadata": {
    "colab": {
     "base_uri": "https://localhost:8080/",
     "height": 85
    },
    "colab_type": "code",
    "id": "2jIiZc-ABBnt",
    "outputId": "21434ba2-5bb7-448b-b524-76ac4f57c340"
   },
   "outputs": [],
   "source": [
    "# We will add the vector v to each row of the matrix x,\n",
    "# storing the result in the matrix y\n",
    "x = torch.tensor([[1,2,3], [4,5,6], [7,8,9], [10, 11, 12]])\n",
    "v = torch.tensor([1, 0, 1])\n",
    "y = x + v  # Add v to each row of x using broadcasting\n",
    "print(y)"
   ]
  },
  {
   "cell_type": "markdown",
   "metadata": {
    "colab_type": "text",
    "id": "HuUBX8YnBSIG"
   },
   "source": [
    "The line y = x + v works even though x has shape (4, 3) and v has shape (3,) due to broadcasting; this line works as if v actually had shape (4, 3), where each row was a copy of v, and the sum was performed elementwise.\n",
    "\n",
    "Broadcasting two tensors together follows these rules:\n",
    "\n",
    "1.   If the tensors do not have the same rank, prepend the shape of the lower rank array with 1s until both shapes have the same length.\n",
    "2.   The two tensors are said to be *compatible* in a dimension if they have the same size in the dimension, or if one of the tensors has size 1 in that dimension.\n",
    "3.   The tensors can be broadcast together if they are compatible in all dimensions.\n",
    "4.   After broadcasting, each tensor behaves as if it had shape equal to the elementwise maximum of shapes of the two input tensors.\n",
    "5.   In any dimension where one tensor had size 1 and the other tensor had size greater than 1, the first tensor behaves as if it were copied along that dimension\n",
    "\n",
    "If this explanation does not make sense, try reading the explanation from the [documentation](https://pytorch.org/docs/stable/notes/broadcasting.html).\n",
    "\n",
    "Broadcasting usually happens implicitly inside many PyTorch operators. However we can also broadcast explicitly using the function [`torch.broadcast_tensors`](https://pytorch.org/docs/stable/generated/torch.broadcast_tensors.html#torch.broadcast_tensors):"
   ]
  },
  {
   "cell_type": "code",
   "execution_count": null,
   "metadata": {
    "colab": {
     "base_uri": "https://localhost:8080/",
     "height": 408
    },
    "colab_type": "code",
    "id": "YIlIBao3VTRc",
    "outputId": "02841ff2-e5a7-43ef-a1fe-c49cebd60716"
   },
   "outputs": [],
   "source": [
    "x = torch.tensor([[1, 2, 3], [4, 5, 6], [7, 8, 9], [10, 11, 12]])\n",
    "v = torch.tensor([1, 0, 1])\n",
    "print('Here is x (before broadcasting):')\n",
    "print(x)\n",
    "print('x.shape: ', x.shape)\n",
    "print('\\nHere is v (before broadcasting):')\n",
    "print(v)\n",
    "print('v.shape: ', v.shape)\n",
    "\n",
    "xx, vv = torch.broadcast_tensors(x, v)\n",
    "print('Here is xx (after) broadcasting):')\n",
    "print(xx)\n",
    "print('xx.shape: ', x.shape)\n",
    "print('\\nHere is vv (after broadcasting):')\n",
    "print(vv)\n",
    "print('vv.shape: ', vv.shape)"
   ]
  },
  {
   "cell_type": "markdown",
   "metadata": {
    "colab_type": "text",
    "id": "PWXtBo6eVTRf"
   },
   "source": [
    "Notice that after broadcasting, `x` remains the same but `v` has an extra dimension prepended to its shape, and it is duplicated to have the same shape as `x`; since they have the same shape after broadcasting they can be added elementwise.\n",
    "\n",
    "Not all functions support broadcasting. You can find functions that does not support broadcasting from the official docs. (e.g. [`torch.mm`](https://pytorch.org/docs/stable/torch.html#torch.mm) does not support broadcasting, but [`torch.matmul`](https://pytorch.org/docs/1.1.0/torch.html#torch.matmul) does)\n",
    "\n",
    "Broadcasting can let us easily implement many different operations. For example we can compute an outer product of vectors:"
   ]
  },
  {
   "cell_type": "code",
   "execution_count": null,
   "metadata": {
    "colab": {
     "base_uri": "https://localhost:8080/",
     "height": 68
    },
    "colab_type": "code",
    "id": "_W-k7-hpCwlT",
    "outputId": "96937ee0-a27d-482f-d59e-1c0d5b277004"
   },
   "outputs": [],
   "source": [
    "# Compute outer product of vectors\n",
    "v = torch.tensor([1, 2, 3])  # v has shape (3,)\n",
    "w = torch.tensor([4, 5])     # w has shape (2,)\n",
    "# To compute an outer product, we first reshape v to be a column\n",
    "# vector of shape (3, 1); we can then broadcast it against w to yield\n",
    "# an output of shape (3, 2), which is the outer product of v and w:\n",
    "print(v.view(3, 1) * w)"
   ]
  },
  {
   "cell_type": "markdown",
   "metadata": {
    "colab_type": "text",
    "id": "6a9EcX20moP_"
   },
   "source": [
    "We can add a vector to each row of a matrix:"
   ]
  },
  {
   "cell_type": "code",
   "execution_count": null,
   "metadata": {
    "colab": {
     "base_uri": "https://localhost:8080/",
     "height": 187
    },
    "colab_type": "code",
    "id": "9bhmBiwcDF1B",
    "outputId": "f9b160f1-a9fe-4848-da6b-562c6da3cc0c"
   },
   "outputs": [],
   "source": [
    "x = torch.tensor([[1, 2, 3], [4, 5, 6]])  # x has shape (2, 3)\n",
    "v = torch.tensor([1, 2, 3])               # v has shape (3,)\n",
    "print('Here is the matrix:')\n",
    "print(x)\n",
    "print('\\nHere is the vector:')\n",
    "print(v)\n",
    "\n",
    "# x has shape (2, 3) and v has shape (3,) so they broadcast to (2, 3),\n",
    "# giving the following matrix:\n",
    "print('\\nAdd the vector to each row of the matrix:')\n",
    "print(x + v)"
   ]
  },
  {
   "cell_type": "markdown",
   "metadata": {
    "colab_type": "text",
    "id": "jYloJIvmm_Me"
   },
   "source": [
    "We can add a vector to each column of a matrix:"
   ]
  },
  {
   "cell_type": "code",
   "execution_count": null,
   "metadata": {
    "colab": {
     "base_uri": "https://localhost:8080/",
     "height": 221
    },
    "colab_type": "code",
    "id": "TDTFKACqDK22",
    "outputId": "44a9d01c-09d5-4283-88bd-795454ca02eb"
   },
   "outputs": [],
   "source": [
    "x = torch.tensor([[1, 2, 3], [4, 5, 6]])  # x has shape (2, 3)\n",
    "w = torch.tensor([4, 5])                  # w has shape (2,)\n",
    "print('Here is the matrix:')\n",
    "print(x)\n",
    "print('\\nHere is the vector:')\n",
    "print(w)\n",
    "\n",
    "# x has shape (2, 3) and w has shape (2,). We reshape w to (2, 1);\n",
    "# then when we add the two the result broadcasts to (2, 3):\n",
    "print('\\nAdd the vector to each column of the matrix:')\n",
    "print(x + w.view(-1, 1))\n",
    "\n",
    "# Another solution is the following:\n",
    "# 1. Transpose x so it has shape (3, 2)\n",
    "# 2. Since w has shape (2,), adding will broadcast to (3, 2)\n",
    "# 3. Transpose the result, resulting in a shape (2, 3)\n",
    "print((x.t() + w).t())"
   ]
  },
  {
   "cell_type": "markdown",
   "metadata": {
    "colab_type": "text",
    "id": "9717YmBBpBfr"
   },
   "source": [
    "Multiply a tensor by a set of constants:"
   ]
  },
  {
   "cell_type": "code",
   "execution_count": null,
   "metadata": {
    "colab": {
     "base_uri": "https://localhost:8080/",
     "height": 340
    },
    "colab_type": "code",
    "id": "4UjWDp_XDc_-",
    "outputId": "ca8afe6b-5d58-430d-d202-64886eddcac2"
   },
   "outputs": [],
   "source": [
    "x = torch.tensor([[1, 2, 3], [4, 5, 6]])  # x has shape (2, 3)\n",
    "c = torch.tensor([1, 10, 11, 100])        # c has shape (4)\n",
    "print('Here is the matrix:')\n",
    "print(x)\n",
    "print('\\nHere is the vector:')\n",
    "print(c)\n",
    "\n",
    "# We do the following:\n",
    "# 1. Reshape c from (4,) to (4, 1, 1)\n",
    "# 2. x has shape (2, 3). Since they have different ranks, when we multiply the\n",
    "#    two, x behaves as if its shape were (1, 2, 3)\n",
    "# 3. The result of the broadcast multiplication between tensor of shape\n",
    "#    (4, 1, 1) and (1, 2, 3) has shape (4, 2, 3)\n",
    "# 4. The result y has shape (4, 2, 3), and y[i] (shape (2, 3)) is equal to\n",
    "#    c[i] * x\n",
    "y = c.view(-1, 1, 1) * x\n",
    "print('\\nMultiply x by a set of constants:')\n",
    "print(y)"
   ]
  },
  {
   "cell_type": "markdown",
   "metadata": {
    "colab_type": "text",
    "id": "J2EHXFBFq1ea"
   },
   "source": [
    "**Your turn**: In the file `pytorch101.py`, implement the function `normalize_columns` that normalizes the columns of a matrix. It should compute the mean and standard deviation of each column, then subtract the mean and divide by the standard deviation for each element in the column.\n",
    "\n",
    "Example:\n",
    "```\n",
    "x = [[ 0,  30,  600],\n",
    "     [ 1,  10,  200],\n",
    "     [-1,  20,  400]]\n",
    "```\n",
    "- The first column has mean 0 and std 1\n",
    "- The second column has mean 20 and std 10\n",
    "- The third column has mean 400 and std 200\n",
    "\n",
    "After normalizing the columns, the result should be:\n",
    "```\n",
    "y = [[ 0,  1,  1],\n",
    "     [ 1, -1, -1],\n",
    "     [-1,  0,  0]]\n",
    "```\n",
    "\n",
    "Recall that given scalars $x_1,\\ldots,x_M$ the mean $\\mu$ and standard deviation $\\sigma$ are given by\n",
    "\n",
    "$$\\mu=\\frac{1}{M}\\sum_{i=1}^M x_i \\hspace{4pc} \\sigma = \\sqrt{\\frac{1}{M-1}\\sum_{i=1}^M(x_i-\\mu)^2}$$"
   ]
  },
  {
   "cell_type": "code",
   "execution_count": null,
   "metadata": {
    "colab": {
     "base_uri": "https://localhost:8080/",
     "height": 187
    },
    "colab_type": "code",
    "id": "rVh1DMqMr3zl",
    "outputId": "254fd394-4178-429c-96ed-eb3e087b808c"
   },
   "outputs": [],
   "source": [
    "from pytorch101 import normalize_columns\n",
    "\n",
    "x = torch.tensor([[0., 30., 600.], [1., 10., 200.], [-1., 20., 400.]])\n",
    "y = normalize_columns(x)\n",
    "print('Here is x:')\n",
    "print(x)\n",
    "print('Here is y:')\n",
    "print(y)\n",
    "\n",
    "x_expected = [[0., 30., 600.], [1., 10., 200.], [-1., 20., 400.]]\n",
    "y_expected = [[0., 1., 1.], [1., -1., -1.], [-1., 0., 0.]]\n",
    "y_correct = y.tolist() == y_expected\n",
    "x_correct = x.tolist() == x_expected\n",
    "print('y correct: ', y_correct)\n",
    "print('x unchanged: ', x_correct)"
   ]
  },
  {
   "cell_type": "markdown",
   "metadata": {
    "colab_type": "text",
    "id": "NlJs-yN4VTRp"
   },
   "source": [
    "### Out-of-place vs in-place operators\n",
    "Most PyTorch operators are classified into one of two categories:\n",
    "- **Out-of-place operators:** return a new tensor. Most PyTorch operators behave this way.\n",
    "- **In-place operators:** modify and return the input tensor. Instance methods that end with an underscore (such as `add_()` are in-place. Operators in the `torch` namespace can be made in-place using the `out=` keyword argument.\n",
    "\n",
    "For example:"
   ]
  },
  {
   "cell_type": "code",
   "execution_count": 5,
   "metadata": {
    "colab": {
     "base_uri": "https://localhost:8080/",
     "height": 425
    },
    "colab_type": "code",
    "id": "lnwGzmU9VTRp",
    "outputId": "f3fb78d4-d7e7-4df4-99a8-f7bc366a17ff"
   },
   "outputs": [
    {
     "name": "stdout",
     "output_type": "stream",
     "text": [
      "Out-of-place addition:\n",
      "Before addition:\n",
      "x:  tensor([1, 2, 3])\n",
      "y:  tensor([3, 4, 5])\n",
      "\n",
      "After addition (x and y unchanged):\n",
      "x:  tensor([1, 2, 3])\n",
      "y:  tensor([3, 4, 5])\n",
      "z:  tensor([4, 6, 8])\n",
      "z is x:  False\n",
      "z is y:  False\n",
      "\n",
      "\n",
      "In-place Addition:\n",
      "Before addition:\n",
      "x:  tensor([1, 2, 3])\n",
      "y:  tensor([3, 4, 5])\n",
      "\n",
      "After addition (x is modified):\n",
      "x:  tensor([4, 6, 8])\n",
      "y:  tensor([3, 4, 5])\n",
      "z:  tensor([4, 6, 8])\n",
      "z is x:  False\n",
      "z is y:  False\n"
     ]
    }
   ],
   "source": [
    "# Out-of-place addition creates and returns a new tensor without modifying the inputs:\n",
    "x = torch.tensor([1, 2, 3])\n",
    "y = torch.tensor([3, 4, 5])\n",
    "print('Out-of-place addition:')\n",
    "print('Before addition:')\n",
    "print('x: ', x)\n",
    "print('y: ', y)\n",
    "z = x.add(y)  # Same as z = x + y or z = torch.add(x, y)\n",
    "print('\\nAfter addition (x and y unchanged):')\n",
    "print('x: ', x)\n",
    "print('y: ', y)\n",
    "print('z: ', z)\n",
    "print('z is x: ', z is x)\n",
    "print('z is y: ', z is y)\n",
    "\n",
    "# In-place addition modifies the input tensor:\n",
    "print('\\n\\nIn-place Addition:')\n",
    "print('Before addition:')\n",
    "print('x: ', x)\n",
    "print('y: ', y)\n",
    "x.add_(y)  # Same as x += y or torch.add(x, y, out=x)\n",
    "print('\\nAfter addition (x is modified):')\n",
    "print('x: ', x)\n",
    "print('y: ', y)\n",
    "print('z: ', z)\n",
    "print('z is x: ', z is x)\n",
    "print('z is y: ', z is y)"
   ]
  },
  {
   "cell_type": "markdown",
   "metadata": {
    "colab_type": "text",
    "id": "uNTk5heeVTRr"
   },
   "source": [
    "In general, **you should avoid in-place operations** since they can cause problems when computing gradients using autograd (which we will cover in a future assignment)."
   ]
  },
  {
   "cell_type": "markdown",
   "metadata": {
    "colab_type": "text",
    "id": "uN6FfqU9wFeG"
   },
   "source": [
    "## Running on GPU"
   ]
  },
  {
   "cell_type": "markdown",
   "metadata": {
    "colab_type": "text",
    "id": "Ds6SDTbrwOc1"
   },
   "source": [
    "One of the most important features of PyTorch is that it can use graphics processing units (GPUs) to accelerate its tensor operations.\n",
    "\n",
    "We can easily check whether PyTorch is configured to use GPUs:\n",
    "\n",
    "Tensors can be moved onto any device using the .to method."
   ]
  },
  {
   "cell_type": "code",
   "execution_count": 1,
   "metadata": {
    "colab": {
     "base_uri": "https://localhost:8080/",
     "height": 34
    },
    "colab_type": "code",
    "id": "_RkoFEVVKWlW",
    "outputId": "c4c639a6-4a2e-4ec9-cf55-1563aee711be"
   },
   "outputs": [
    {
     "name": "stdout",
     "output_type": "stream",
     "text": [
      "PyTorch can use GPUs!\n"
     ]
    }
   ],
   "source": [
    "import torch\n",
    "\n",
    "if torch.cuda.is_available:\n",
    "  print('PyTorch can use GPUs!')\n",
    "else:\n",
    "  print('PyTorch cannot use GPUs.')"
   ]
  },
  {
   "cell_type": "markdown",
   "metadata": {
    "colab_type": "text",
    "id": "7i_5n_XuKr5k"
   },
   "source": [
    "You can enable GPUs in Colab via Runtime -> Change Runtime Type -> Hardware Accelerator -> GPU.\n",
    "\n",
    "This may cause the Colab runtime to restart, so we will re-import torch in the next cell.\n",
    "\n",
    "We have already seen that PyTorch tensors have a `dtype` attribute specifying their datatype. All PyTorch tensors also have a `device` attribute that specifies the device where the tensor is stored -- either CPU, or CUDA (for NVIDA GPUs). A tensor on a CUDA device will automatically use that device to accelerate all of its operations.\n",
    "\n",
    "Just as with datatypes, we can use the [`.to()`](https://pytorch.org/docs/1.1.0/tensors.html#torch.Tensor.to) method to change the device of a tensor. We can also use the convenience methods `.cuda()` and `.cpu()` methods to move tensors between CPU and GPU. "
   ]
  },
  {
   "cell_type": "code",
   "execution_count": null,
   "metadata": {
    "colab": {
     "base_uri": "https://localhost:8080/",
     "height": 136
    },
    "colab_type": "code",
    "id": "D03s614dMCvy",
    "outputId": "7664a13e-9a50-4d79-b8f7-3d8d456c3f0f"
   },
   "outputs": [],
   "source": [
    "# Construct a tensor on the CPU\n",
    "x0 = torch.tensor([[1, 2], [3, 4]], dtype=torch.float32)\n",
    "print('x0 device:', x0.device)\n",
    "\n",
    "# Move it to the GPU using .to()\n",
    "x1 = x0.to('cuda')\n",
    "print('x1 device:', x1.device)\n",
    "\n",
    "# Move it to the GPU using .cuda()\n",
    "x2 = x0.cuda()\n",
    "print('x2 device:', x2.device)\n",
    "\n",
    "# Move it back to the CPU using .to()\n",
    "x3 = x1.to('cpu')\n",
    "print('x3 device:', x3.device)\n",
    "\n",
    "# Move it back to the CPU using .cpu()\n",
    "x4 = x2.cpu()\n",
    "print('x4 device:', x4.device)\n",
    "\n",
    "# We can construct tensors directly on the GPU as well\n",
    "y = torch.tensor([[1, 2, 3], [4, 5, 6]], dtype=torch.float64, device='cuda')\n",
    "print('y device / dtype:', y.device, y.dtype)\n",
    "\n",
    "# Calling x.to(y) where y is a tensor will return a copy of x with the same\n",
    "# device and dtype as y\n",
    "x5 = x0.to(y)\n",
    "print('x5 device / dtype:', x5.device, x5.dtype)"
   ]
  },
  {
   "cell_type": "markdown",
   "metadata": {
    "colab_type": "text",
    "id": "O-TDxICdOmJo"
   },
   "source": [
    "Performing large tensor operations on a GPU can be **a lot faster** than running the equivalent operation on CPU.\n",
    "\n",
    "Here we compare the speed of adding two tensors of shape (10000, 10000) on CPU and GPU:\n",
    "\n",
    "(Note that GPU code may run asynchronously with CPU code, so when timing the speed of operations on the GPU it is important to use `torch.cuda.synchronize` to synchronize the CPU and GPU.)"
   ]
  },
  {
   "cell_type": "code",
   "execution_count": null,
   "metadata": {
    "colab": {
     "base_uri": "https://localhost:8080/",
     "height": 85
    },
    "colab_type": "code",
    "id": "GW14ZF-_PK7t",
    "outputId": "ecb3ff89-8318-4581-a080-5c7a1dc34933"
   },
   "outputs": [],
   "source": [
    "import time\n",
    "\n",
    "a_cpu = torch.randn(10000, 10000, dtype=torch.float32)\n",
    "b_cpu = torch.randn(10000, 10000, dtype=torch.float32)\n",
    "\n",
    "a_gpu = a_cpu.cuda()\n",
    "b_gpu = b_cpu.cuda()\n",
    "torch.cuda.synchronize()\n",
    "\n",
    "t0 = time.time()\n",
    "c_cpu = a_cpu + b_cpu\n",
    "t1 = time.time()\n",
    "c_gpu = a_gpu + b_gpu\n",
    "torch.cuda.synchronize()\n",
    "t2 = time.time()\n",
    "\n",
    "# Check that they computed the same thing\n",
    "diff = (c_gpu.cpu() - c_cpu).abs().max().item()\n",
    "print('Max difference between c_gpu and c_cpu:', diff)\n",
    "\n",
    "cpu_time = 1000.0 * (t1 - t0)\n",
    "gpu_time = 1000.0 * (t2 - t1)\n",
    "print('CPU time: %.2f ms' % cpu_time)\n",
    "print('GPU time: %.2f ms' % gpu_time)\n",
    "print('GPU speedup: %.2f x' % (cpu_time / gpu_time))"
   ]
  },
  {
   "cell_type": "markdown",
   "metadata": {
    "colab_type": "text",
    "id": "7HEAVPEwviYb"
   },
   "source": [
    "You should see that running the same computation on the GPU was more than 10~30 times faster than on the CPU! Due to the massive speedups that GPUs offer, we will use GPUs to accelerate much of our machine learning code starting in Assignment 2.\n",
    "\n",
    "**Your turn**: Use the GPU to accelerate the following matrix multiplication operation. You should see 5~10x speedup by using the GPU."
   ]
  },
  {
   "cell_type": "code",
   "execution_count": null,
   "metadata": {
    "colab": {
     "base_uri": "https://localhost:8080/",
     "height": 119
    },
    "colab_type": "code",
    "id": "uqEUdst7SAuZ",
    "outputId": "d15fd1f7-e664-49de-8578-068541413a73"
   },
   "outputs": [],
   "source": [
    "import time\n",
    "from pytorch101 import mm_on_cpu, mm_on_gpu\n",
    "\n",
    "x = torch.rand(512, 4096)\n",
    "w = torch.rand(4096, 4096)\n",
    "\n",
    "t0 = time.time()\n",
    "y0 = mm_on_cpu(x, w)\n",
    "t1 = time.time()\n",
    "\n",
    "y1 = mm_on_gpu(x, w)\n",
    "torch.cuda.synchronize()\n",
    "t2 = time.time()\n",
    "\n",
    "print('y1 on CPU:', y1.device == torch.device('cpu'))\n",
    "diff = (y0 - y1).abs().max().item()\n",
    "print('Max difference between y0 and y1:', diff)\n",
    "print('Difference within tolerance:', diff < 5e-2)\n",
    "\n",
    "cpu_time = 1000.0 * (t1 - t0)\n",
    "gpu_time = 1000.0 * (t2 - t1)\n",
    "print('CPU time: %.2f ms' % cpu_time)\n",
    "print('GPU time: %.2f ms' % gpu_time)\n",
    "print('GPU speedup: %.2f x' % (cpu_time / gpu_time))"
   ]
  },
  {
   "cell_type": "markdown",
   "metadata": {
    "colab_type": "text",
    "id": "vekSz6WtpUXc"
   },
   "source": [
    "Done! Now you can move to kNN.ipynb. Before you move, please check whether you generated any additional cell in every ipynb file (e.g. empty cell after very last code cell)."
   ]
  }
 ],
 "metadata": {
  "accelerator": "GPU",
  "colab": {
   "collapsed_sections": [
    "kQndOAmiVTO3",
    "bCtoiSyVVTO8",
    "hQrEwOpXb9Gh",
    "zjosrOn8mOMV",
    "OgPaSNS2mVPn",
    "zeH5501nmh7W",
    "1MEmHrgBsgX4",
    "HrBSx6hYu8ca",
    "LWagwmXuvIle",
    "Yz_VDA3IvP33",
    "Rz_hiJD33fu1",
    "rlANfnILvX3S",
    "mo-PoTWNvbba",
    "4y93rPhGveWw",
    "oGt8ZPb_vixw",
    "Ad-xqELwyqpN",
    "Ql9_eXuU4OG8",
    "Z150qBob4Wkz",
    "f4SJCVbf-bZ0",
    "WJiiBxNE-X8g",
    "NgcdvD1evxTQ",
    "1BCVlPHZ4_Qz",
    "yDyH9USAuyZ-",
    "lRyLyXU2u29N",
    "mbCVOr2sVTRR",
    "UISn2pcf9QjY",
    "NlJs-yN4VTRp",
    "uN6FfqU9wFeG"
   ],
   "name": "pytorch101.ipynb",
   "provenance": [],
   "toc_visible": true
  },
  "kernelspec": {
   "display_name": "Python 3",
   "language": "python",
   "name": "python3"
  },
  "language_info": {
   "codemirror_mode": {
    "name": "ipython",
    "version": 3
   },
   "file_extension": ".py",
   "mimetype": "text/x-python",
   "name": "python",
   "nbconvert_exporter": "python",
   "pygments_lexer": "ipython3",
   "version": "3.8.8"
  }
 },
 "nbformat": 4,
 "nbformat_minor": 0
}
